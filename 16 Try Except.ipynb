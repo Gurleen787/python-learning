{
 "cells": [
  {
   "cell_type": "code",
   "execution_count": 1,
   "id": "9ec9bbeb-7c15-4f2d-a67a-72f2da47cb90",
   "metadata": {},
   "outputs": [
    {
     "name": "stdout",
     "output_type": "stream",
     "text": [
      "hi\n",
      "code not run\n"
     ]
    }
   ],
   "source": [
    "try:\n",
    "    print(\"hi\")\n",
    "    print(5/0)\n",
    "    print(\"hello\")\n",
    "\n",
    "except:\n",
    "    print(\"code not run\")"
   ]
  },
  {
   "cell_type": "code",
   "execution_count": 5,
   "id": "09b5d10b-3294-434c-9339-b53a0c2c4d78",
   "metadata": {},
   "outputs": [
    {
     "name": "stdout",
     "output_type": "stream",
     "text": [
      "hi\n",
      "5\n",
      "hello\n",
      "else is running\n"
     ]
    }
   ],
   "source": [
    "# else will run if try will run.\n",
    "try:\n",
    "    print(\"hi\")\n",
    "    print(5)\n",
    "    print(\"hello\")\n",
    "\n",
    "except:\n",
    "    print(\"code not run\")\n",
    "\n",
    "else:\n",
    "    print(\"else is running\")"
   ]
  },
  {
   "cell_type": "code",
   "execution_count": 9,
   "id": "12de65d9-d456-4f66-b9a0-fc1adef404a0",
   "metadata": {},
   "outputs": [
    {
     "name": "stdout",
     "output_type": "stream",
     "text": [
      "hi\n",
      "5\n",
      "hello\n",
      "else is running\n",
      "finally is running\n"
     ]
    }
   ],
   "source": [
    "# finally will run if there is error or not.\n",
    "try:\n",
    "    print(\"hi\")\n",
    "    print(5)\n",
    "    print(\"hello\")\n",
    "\n",
    "except:\n",
    "    print(\"code not run\")\n",
    "\n",
    "else:\n",
    "    print(\"else is running\")\n",
    "\n",
    "finally:\n",
    "    print(\"finally is running\")"
   ]
  },
  {
   "cell_type": "code",
   "execution_count": 10,
   "id": "914a3cc5-109b-40d0-9ffa-92217ecc8da0",
   "metadata": {},
   "outputs": [
    {
     "name": "stdout",
     "output_type": "stream",
     "text": [
      "hi\n",
      "Zero division error hai\n",
      "finally is running\n"
     ]
    }
   ],
   "source": [
    "try:\n",
    "    print(\"hi\")\n",
    "    print(5/0)\n",
    "    print(\"hello\")\n",
    "\n",
    "except ZeroDivisionError:\n",
    "    print(\"Zero division error hai\")\n",
    "\n",
    "except:\n",
    "    print(\"code not run\")\n",
    "\n",
    "else:\n",
    "    print(\"else is running\")\n",
    "\n",
    "finally:\n",
    "    print(\"finally is running\")"
   ]
  },
  {
   "cell_type": "code",
   "execution_count": 12,
   "id": "cf3ca8f9-538c-4f35-a1a3-21affcc2fc24",
   "metadata": {},
   "outputs": [
    {
     "name": "stdout",
     "output_type": "stream",
     "text": [
      "hi\n",
      "error hai\n",
      "finally is running\n"
     ]
    }
   ],
   "source": [
    "try:\n",
    "    print(\"hi\")\n",
    "    print(int(\"gurleen\"))\n",
    "    print(\"hello\")\n",
    "\n",
    "except ZeroDivisionError:\n",
    "    print(\"Zero division error hai\")\n",
    "\n",
    "except:\n",
    "    print(\"error hai\")\n",
    "\n",
    "else:\n",
    "    print(\"else is running\")\n",
    "\n",
    "finally:\n",
    "    print(\"finally is running\")"
   ]
  },
  {
   "cell_type": "code",
   "execution_count": 13,
   "id": "34829667-7455-46b9-8ee5-665589b14870",
   "metadata": {},
   "outputs": [
    {
     "name": "stdout",
     "output_type": "stream",
     "text": [
      "hi\n",
      "division by zero\n",
      "finally is running\n"
     ]
    }
   ],
   "source": [
    "try:\n",
    "    print(\"hi\")\n",
    "    print(5/0)\n",
    "    print(\"hello\")\n",
    "\n",
    "except ZeroDivisionError as e:\n",
    "    print(e)\n",
    "\n",
    "except:\n",
    "    print(\"error hai\")\n",
    "\n",
    "else:\n",
    "    print(\"else is running\")\n",
    "\n",
    "finally:\n",
    "    print(\"finally is running\")"
   ]
  },
  {
   "cell_type": "code",
   "execution_count": 14,
   "id": "a495761a-4bef-4554-a1bf-7a5b8bb3d906",
   "metadata": {},
   "outputs": [
    {
     "name": "stdout",
     "output_type": "stream",
     "text": [
      "hi\n",
      "error hai\n",
      "finally is running\n"
     ]
    }
   ],
   "source": [
    "try:\n",
    "    print(\"hi\")\n",
    "    print(int(\"gurleen\"))\n",
    "    print(\"hello\")\n",
    "\n",
    "except ZeroDivisionError as e:\n",
    "    print(e)\n",
    "\n",
    "except:\n",
    "    print(\"error hai\")\n",
    "\n",
    "else:\n",
    "    print(\"else is running\")\n",
    "\n",
    "finally:\n",
    "    print(\"finally is running\")"
   ]
  },
  {
   "cell_type": "code",
   "execution_count": 15,
   "id": "7fe3acb6-a8f6-4384-a488-dcaed913ea65",
   "metadata": {},
   "outputs": [
    {
     "name": "stdin",
     "output_type": "stream",
     "text": [
      " 50\n"
     ]
    },
    {
     "name": "stdout",
     "output_type": "stream",
     "text": [
      "10.0\n",
      "everything worked fine\n",
      "close connection\n"
     ]
    }
   ],
   "source": [
    "try:\n",
    "    a = 500\n",
    "    b = int(input())\n",
    "    c = a/b\n",
    "    print(c)\n",
    "except ValueError as v:\n",
    "    print(v)\n",
    "except ZeroDivisionError as z:\n",
    "    print(z)\n",
    "except:\n",
    "    print(\"check something\")\n",
    "else:\n",
    "    print(\"everything worked fine\")\n",
    "finally:\n",
    "    print(\"close connection\")"
   ]
  },
  {
   "cell_type": "code",
   "execution_count": null,
   "id": "d8059bbf-aec1-4c4a-8a0d-0a38ef55bb4e",
   "metadata": {},
   "outputs": [],
   "source": []
  }
 ],
 "metadata": {
  "kernelspec": {
   "display_name": "Python 3 (ipykernel)",
   "language": "python",
   "name": "python3"
  },
  "language_info": {
   "codemirror_mode": {
    "name": "ipython",
    "version": 3
   },
   "file_extension": ".py",
   "mimetype": "text/x-python",
   "name": "python",
   "nbconvert_exporter": "python",
   "pygments_lexer": "ipython3",
   "version": "3.13.5"
  }
 },
 "nbformat": 4,
 "nbformat_minor": 5
}
