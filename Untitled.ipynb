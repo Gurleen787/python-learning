{
 "cells": [
  {
   "cell_type": "code",
   "execution_count": null,
   "id": "f2d89935-2b53-4eee-a261-0636ed7f62ae",
   "metadata": {},
   "outputs": [],
   "source": []
  }
 ],
 "metadata": {
  "kernelspec": {
   "display_name": "",
   "name": ""
  },
  "language_info": {
   "name": ""
  }
 },
 "nbformat": 4,
 "nbformat_minor": 5
}
