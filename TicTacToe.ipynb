{
 "cells": [
  {
   "cell_type": "markdown",
   "id": "3e1f529d-dd44-4427-8cf5-daa532f9c2e7",
   "metadata": {},
   "source": [
    "### display\n"
   ]
  },
  {
   "cell_type": "code",
   "execution_count": 4,
   "id": "b3a46031-c71a-44d4-9498-3b4607d95ca2",
   "metadata": {},
   "outputs": [],
   "source": [
    "from IPython.display import clear_output"
   ]
  },
  {
   "cell_type": "code",
   "execution_count": 25,
   "id": "7f97ce1a-c660-455a-ae92-24c3860bfa18",
   "metadata": {},
   "outputs": [],
   "source": [
    "# creates a list called li with 10 spaces.\n",
    "li = [\" \"]*10"
   ]
  },
  {
   "cell_type": "code",
   "execution_count": 6,
   "id": "f1ae030e-7d0e-457b-abcb-b30979873a7b",
   "metadata": {},
   "outputs": [
    {
     "data": {
      "text/plain": [
       "[' ', ' ', ' ', ' ', ' ', ' ', ' ', ' ', ' ', ' ']"
      ]
     },
     "execution_count": 6,
     "metadata": {},
     "output_type": "execute_result"
    }
   ],
   "source": [
    "li"
   ]
  },
  {
   "cell_type": "code",
   "execution_count": 7,
   "id": "9fb6c498-aaa2-4ef1-9b3c-6efdb4833c41",
   "metadata": {},
   "outputs": [],
   "source": [
    "li[5] = \"X\""
   ]
  },
  {
   "cell_type": "code",
   "execution_count": 26,
   "id": "3b5cc27d-2018-4371-b870-1968fb54d8d8",
   "metadata": {},
   "outputs": [],
   "source": [
    "# calls a function to show a board to a player\n",
    "def display():\n",
    "    print(li[7],\" | \",li[8],\" | \",li[9])\n",
    "    print(\"-\"*14)  \n",
    "    print(li[4],\" | \",li[5],\" | \",li[6])\n",
    "    print(\"-\"*14) \n",
    "    print(li[1],\" | \",li[2],\" | \",li[3])\n",
    "    print(\"-\"*14) \n",
    "  "
   ]
  },
  {
   "cell_type": "code",
   "execution_count": 27,
   "id": "3beba67c-dde7-47ff-8de5-8492c3812742",
   "metadata": {},
   "outputs": [
    {
     "name": "stdout",
     "output_type": "stream",
     "text": [
      "   |     |   \n",
      "--------------\n",
      "   |     |   \n",
      "--------------\n",
      "   |     |   \n",
      "--------------\n"
     ]
    }
   ],
   "source": [
    "display()"
   ]
  },
  {
   "cell_type": "code",
   "execution_count": 30,
   "id": "dd294844-fecb-4c0f-bbfd-a2eaa164e00a",
   "metadata": {},
   "outputs": [],
   "source": [
    "# Defines a new function called empty_positions.\n",
    "#When we call it, it will return a list of all the positions that are still free on the board.\n",
    "def empty_positions():\n",
    "\n",
    "#This will store the positions (numbers) of the empty spaces.\n",
    "    ans = []\n",
    "    \n",
    "#Starts a loop from 1 up to len(li)-1\n",
    "#loop checks positions 1–9 only.\n",
    "    for i in range(1, len(li)):\n",
    "        \n",
    "#Checks if the space at index i is empty (\" \")       \n",
    "        if li[i] == \" \":\n",
    "            \n",
    "#If the space is empty, adds that position number (i) to the list ans           \n",
    "            ans.append(i)\n",
    "            \n",
    "#After the loop finishes, returns the list of all empty positions   \n",
    "    return ans"
   ]
  },
  {
   "cell_type": "code",
   "execution_count": 31,
   "id": "bb84db31-5248-4d48-975a-c65beede09e2",
   "metadata": {},
   "outputs": [],
   "source": [
    "#Defines a function called take_position\n",
    "def take_position():\n",
    "\n",
    "#  This means no valid position has been chosen yet  \n",
    "    position = None\n",
    "   \n",
    "#Calls your earlier function empty_positions().\n",
    "#This gives a list of all currently empty spots on the board.    \n",
    "    available = empty_positions()\n",
    "   \n",
    "#If the choice is invalid, the loop continues    \n",
    "    while position is None:\n",
    "       \n",
    "        \n",
    "#If we type something that’s not a number (like “hi”), it will cause a ValueError.        \n",
    "        try:\n",
    "            position = int(input(f'please chose among {available}'))\n",
    "        except ValueError:\n",
    "            print(f\"please provide a number among {available}\")\n",
    "       \n",
    "#Checks if the number is in the list of available positions.        \n",
    "        else:\n",
    "            if position in available:\n",
    "                return position\n",
    "           \n",
    "#If the number is not in available (e.g., they typed 10 or a filled spot):\n",
    "#Shows an error message.            \n",
    "            else:\n",
    "                print(f\"please provide a number among {available}\")\n",
    "                position = None\n"
   ]
  },
  {
   "cell_type": "code",
   "execution_count": 32,
   "id": "09a2a165-f576-4840-8ed2-eeb75dce96f5",
   "metadata": {},
   "outputs": [],
   "source": [
    "#Defines a function named put_marker.\n",
    "#It takes two arguments:\n",
    "#position → the spot on the board (1–9) where the player wants to place their marker.\n",
    "#marker → either \"X\" or \"O\".\n",
    "\n",
    "def put_marker(position, marker):\n",
    "    li[position] = marker"
   ]
  },
  {
   "cell_type": "code",
   "execution_count": 13,
   "id": "7f1bca8d-4a32-4d5f-988d-7e7e3b123969",
   "metadata": {},
   "outputs": [
    {
     "data": {
      "text/plain": [
       "[1, 2, 3, 4, 6, 7, 8, 9]"
      ]
     },
     "execution_count": 13,
     "metadata": {},
     "output_type": "execute_result"
    }
   ],
   "source": [
    "empty_positions()"
   ]
  },
  {
   "cell_type": "code",
   "execution_count": 14,
   "id": "f67a6226-d756-4189-bee3-1456c31180fc",
   "metadata": {},
   "outputs": [],
   "source": [
    "#Creates a function called check_win\n",
    "def check_win():\n",
    "    # horizontal\n",
    "    if (li[7]==li[8]==li[9]!=\" \") or \\\n",
    "    (li[4]==li[5]==li[6]!=\" \") or \\\n",
    "    (li[1]==li[2]==li[3]!=\" \") or \\\n",
    "    (li[7]==li[4]==li[1]!=\" \") or \\\n",
    "    (li[8]==li[5]==li[2]!=\" \") or \\\n",
    "    (li[9]==li[6]==li[3]!=\" \") or \\\n",
    "    (li[7]==li[5]==li[3]!=\" \") or \\\n",
    "    (li[1]==li[5]==li[9]!=\" \"):\n",
    "       \n",
    "#If any one of those conditions is True, the player has won.        \n",
    "        return True\n",
    "   \n",
    "#Otherwise, no win yet.    \n",
    "    else:\n",
    "        return False\n"
   ]
  },
  {
   "cell_type": "code",
   "execution_count": 15,
   "id": "72ead857-6ee5-4cca-ba55-575fa8e629ca",
   "metadata": {},
   "outputs": [],
   "source": [
    "#It will return True if the board has no empty spots left.\n",
    "def board_full():\n",
    "\n",
    "#If the length is 0, it means there are no empty spots left → the board is completely filled.   \n",
    "    if len(empty_positions())==0:\n",
    "        return True\n",
    "    else:\n",
    "        return False"
   ]
  },
  {
   "cell_type": "code",
   "execution_count": 33,
   "id": "4d1f715f-db6b-44bb-87d7-f0f85f029821",
   "metadata": {},
   "outputs": [],
   "source": [
    "# switches the marker\n",
    "\n",
    "def change_marker(marker):\n",
    "    if marker ==\"0\":\n",
    "        return \"X\"\n",
    "    else:\n",
    "     return \"0\""
   ]
  },
  {
   "cell_type": "code",
   "execution_count": 34,
   "id": "72d440ec-4319-4559-831b-2febdcbfd843",
   "metadata": {},
   "outputs": [
    {
     "data": {
      "text/plain": [
       "False"
      ]
     },
     "execution_count": 34,
     "metadata": {},
     "output_type": "execute_result"
    }
   ],
   "source": [
    "board_full()"
   ]
  },
  {
   "cell_type": "code",
   "execution_count": 35,
   "id": "722f54c5-4a1c-473c-8698-378e029ea817",
   "metadata": {},
   "outputs": [
    {
     "name": "stdout",
     "output_type": "stream",
     "text": [
      "0  |  0  |  0\n",
      "--------------\n",
      "   |  0  |  X\n",
      "--------------\n",
      "O  |  X  |  X\n",
      "--------------\n",
      "congratulations 0 won the game\n"
     ]
    }
   ],
   "source": [
    "#Creates the game board (li) with 10 slots, all empty (\" \").\n",
    "li = [\" \"]*10\n",
    "\n",
    "#A flag variable to control whether the game is still running\n",
    "game = True\n",
    "\n",
    "#Sets the starting marker (player O goes first).\n",
    "marker = \"O\"\n",
    "\n",
    "#Calls your display() function to show the empty board.\n",
    "display()\n",
    "\n",
    "#The loop keeps running while game = True.\n",
    "while game:\n",
    "\n",
    "#Calls take_position() to ask the player to choose an empty spot.    \n",
    "    position = take_position()\n",
    "\n",
    "#Places the current player’s marker (\"X\" or \"O\") on the board at that position    \n",
    "    put_marker(position, marker)\n",
    "\n",
    "#Clears the screen/previous output    \n",
    "    clear_output()\n",
    "\n",
    "#Shows the updated board after the move.    \n",
    "    display()\n",
    "    \n",
    "\n",
    "#Uses check_win() to see if the player who just moved has won.\n",
    "#If yes, prints a message and ends the game loop.\n",
    "    if check_win():\n",
    "        print(f\"congratulations {marker} won the game\")\n",
    "        game = False\n",
    "        break\n",
    "        \n",
    "\n",
    "#If no one has won, check if the board is full.\n",
    "#If the board is full → it’s a draw.\n",
    "#Ask  if we want to restart.\n",
    "    elif board_full():\n",
    "        print(f'board full, game draw, do you want to play again')\n",
    "        playAgain = input('do you want to play again, yes, no?')\n",
    "\n",
    "    #Handle Replay Option\n",
    "        try:\n",
    "            if playAgain[0] in ('y', \"Y\"):\n",
    "                li = [\" \"]*10\n",
    "                print(\"new game\")\n",
    "                display()\n",
    "                game = True\n",
    "            else:\n",
    "                game = False\n",
    "                break\n",
    "                \n",
    "\n",
    "                #If input is empty or invalid (like pressing Enter), this safely ends the game.\n",
    "        except:\n",
    "            game = False\n",
    "            break\n",
    "\n",
    "            #If no win and no draw, switch the marker\n",
    "    else:\n",
    "        marker = change_marker(marker)"
   ]
  },
  {
   "cell_type": "code",
   "execution_count": 36,
   "id": "2df36256-de8f-4f74-b459-1e5d2f1c50db",
   "metadata": {},
   "outputs": [],
   "source": [
    "#Imports the clear_output function\n",
    "from IPython.display import clear_output"
   ]
  },
  {
   "cell_type": "code",
   "execution_count": 24,
   "id": "5c60e17f-5c6b-429c-a98b-933792dc2642",
   "metadata": {},
   "outputs": [
    {
     "name": "stdin",
     "output_type": "stream",
     "text": [
      " 5\n"
     ]
    },
    {
     "data": {
      "text/plain": [
       "'5'"
      ]
     },
     "execution_count": 24,
     "metadata": {},
     "output_type": "execute_result"
    }
   ],
   "source": [
    "input()"
   ]
  },
  {
   "cell_type": "code",
   "execution_count": null,
   "id": "e36b7f55-3c34-4817-9727-e10f3dc8d1e3",
   "metadata": {},
   "outputs": [],
   "source": []
  }
 ],
 "metadata": {
  "kernelspec": {
   "display_name": "Python 3 (ipykernel)",
   "language": "python",
   "name": "python3"
  },
  "language_info": {
   "codemirror_mode": {
    "name": "ipython",
    "version": 3
   },
   "file_extension": ".py",
   "mimetype": "text/x-python",
   "name": "python",
   "nbconvert_exporter": "python",
   "pygments_lexer": "ipython3",
   "version": "3.13.5"
  }
 },
 "nbformat": 4,
 "nbformat_minor": 5
}
