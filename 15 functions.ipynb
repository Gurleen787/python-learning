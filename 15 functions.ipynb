{
 "cells": [
  {
   "cell_type": "markdown",
   "id": "a9724528-72d7-4aa3-9668-796a04a5a814",
   "metadata": {},
   "source": [
    "# Functions\n"
   ]
  },
  {
   "cell_type": "markdown",
   "id": "00d40acb-39dd-43ba-9148-717479a15e90",
   "metadata": {},
   "source": [
    "## Functions store code, and execute the code when called"
   ]
  },
  {
   "cell_type": "code",
   "execution_count": 5,
   "id": "a392d96b-9b65-4f30-9b63-c720a3f70cf8",
   "metadata": {},
   "outputs": [],
   "source": [
    "# define a function\n",
    "\n",
    "def greeting():\n",
    "    print(\"hello everyone nice to meet you\")\n",
    "   # print(2+2)"
   ]
  },
  {
   "cell_type": "code",
   "execution_count": 6,
   "id": "9f508268-c844-45db-842e-b714ed86a84e",
   "metadata": {},
   "outputs": [
    {
     "name": "stdout",
     "output_type": "stream",
     "text": [
      "hello everyone nice to meet you\n"
     ]
    }
   ],
   "source": [
    "# call a function\n",
    "greeting()"
   ]
  },
  {
   "cell_type": "markdown",
   "id": "0c8e9b88-64b5-4f47-8c3f-f75042b36eea",
   "metadata": {},
   "source": [
    "## Type of functions"
   ]
  },
  {
   "cell_type": "markdown",
   "id": "0c957fa3-2aac-4648-9469-aa6acf2058c3",
   "metadata": {},
   "source": [
    "### Built in functions"
   ]
  },
  {
   "cell_type": "code",
   "execution_count": 7,
   "id": "fe6444a9-6ff6-495f-be56-a4b05dfee169",
   "metadata": {},
   "outputs": [
    {
     "name": "stdout",
     "output_type": "stream",
     "text": [
      "hi\n"
     ]
    },
    {
     "data": {
      "text/plain": [
       "7"
      ]
     },
     "execution_count": 7,
     "metadata": {},
     "output_type": "execute_result"
    }
   ],
   "source": [
    "# built in functions\n",
    "print(\"hi\")\n",
    "len(\"Gurleen\")"
   ]
  },
  {
   "cell_type": "code",
   "execution_count": 8,
   "id": "26fa143e-621d-40fa-8f75-9aad2096dd17",
   "metadata": {},
   "outputs": [
    {
     "data": {
      "text/plain": [
       "8"
      ]
     },
     "execution_count": 8,
     "metadata": {},
     "output_type": "execute_result"
    }
   ],
   "source": [
    "min([8,6,2])\n",
    "max([8,6,2])"
   ]
  },
  {
   "cell_type": "markdown",
   "id": "16a837e9-3da9-4807-9655-a16ac4488f21",
   "metadata": {},
   "source": [
    "### User defined functions"
   ]
  },
  {
   "cell_type": "code",
   "execution_count": 10,
   "id": "8dfcd629-dfa9-4069-89ff-4b4f37a01694",
   "metadata": {},
   "outputs": [],
   "source": [
    "def greeting():\n",
    "    print(\"hello my name is gurleen\")\n"
   ]
  },
  {
   "cell_type": "code",
   "execution_count": 11,
   "id": "540484e6-9123-41b5-aec2-536b011c2991",
   "metadata": {},
   "outputs": [
    {
     "name": "stdout",
     "output_type": "stream",
     "text": [
      "hello my name is gurleen\n"
     ]
    }
   ],
   "source": [
    "greeting()"
   ]
  },
  {
   "cell_type": "markdown",
   "id": "3be083d4-f104-436c-80a0-3df7e34c347a",
   "metadata": {},
   "source": [
    "### User defined functions"
   ]
  },
  {
   "cell_type": "code",
   "execution_count": 14,
   "id": "826d8063-a889-4354-8429-667225b14cab",
   "metadata": {},
   "outputs": [],
   "source": [
    "# simple functions\n",
    "\n",
    "def greeting():\n",
    "    print(\"hello everyone nice to meet you\")"
   ]
  },
  {
   "cell_type": "code",
   "execution_count": 15,
   "id": "e848d88a-6968-48fd-adea-6e27fd385a18",
   "metadata": {},
   "outputs": [
    {
     "name": "stdout",
     "output_type": "stream",
     "text": [
      "hello everyone nice to meet you\n"
     ]
    }
   ],
   "source": [
    "greeting()"
   ]
  },
  {
   "cell_type": "code",
   "execution_count": 17,
   "id": "67a641f4-df77-44cd-84cd-81d9801e5ca2",
   "metadata": {},
   "outputs": [],
   "source": [
    "# input functions\n",
    "def greeting(name):\n",
    "    print(f\"hello {name} nice to meet you\")"
   ]
  },
  {
   "cell_type": "code",
   "execution_count": 18,
   "id": "3a160b03-18ea-446c-a0f3-3b4f489ec659",
   "metadata": {},
   "outputs": [
    {
     "name": "stdout",
     "output_type": "stream",
     "text": [
      "hello Riya nice to meet you\n"
     ]
    }
   ],
   "source": [
    "greeting(\"Riya\")"
   ]
  },
  {
   "cell_type": "code",
   "execution_count": 19,
   "id": "497cf9df-1ddb-431f-b647-69f69e80349c",
   "metadata": {},
   "outputs": [],
   "source": [
    "def area_of_circle(r):\n",
    "    print((22/7)*r*r)"
   ]
  },
  {
   "cell_type": "code",
   "execution_count": 20,
   "id": "1c82f4a2-6ffe-42aa-b9df-a40943dfb308",
   "metadata": {},
   "outputs": [
    {
     "name": "stdout",
     "output_type": "stream",
     "text": [
      "78.57142857142857\n"
     ]
    }
   ],
   "source": [
    "area_of_circle(5)"
   ]
  },
  {
   "cell_type": "code",
   "execution_count": 21,
   "id": "4185cc2d-f484-43bd-858f-239f58c383dd",
   "metadata": {},
   "outputs": [],
   "source": [
    "def area_of_rectangle(length,width):\n",
    "    print(length*width)\n"
   ]
  },
  {
   "cell_type": "code",
   "execution_count": 23,
   "id": "12dda91e-8b8d-47d8-8a2b-65f66998bdd8",
   "metadata": {},
   "outputs": [
    {
     "name": "stdout",
     "output_type": "stream",
     "text": [
      "50\n"
     ]
    }
   ],
   "source": [
    "area_of_rectangle(5,10)"
   ]
  },
  {
   "cell_type": "markdown",
   "id": "b8d842c7-700e-4669-acb7-56eeb7709e8f",
   "metadata": {},
   "source": [
    "### Scope"
   ]
  },
  {
   "cell_type": "code",
   "execution_count": 36,
   "id": "f8147c17-e864-47b6-b83c-6adedc1be6f3",
   "metadata": {},
   "outputs": [],
   "source": [
    "# global scope\n",
    "job =\"netmax\"\n",
    "def myProfile():\n",
    "    # local scope\n",
    "    name = \"Gurleen\"\n",
    "    age = 17\n",
    "    education = \"PCM\"\n",
    "    print(name,age,education,job)\n",
    "    "
   ]
  },
  {
   "cell_type": "code",
   "execution_count": 37,
   "id": "2152b14e-cef5-47c6-bf2f-b5d3f25d1442",
   "metadata": {},
   "outputs": [
    {
     "name": "stdout",
     "output_type": "stream",
     "text": [
      "Gurleen 17 PCM netmax\n"
     ]
    }
   ],
   "source": [
    "myProfile()"
   ]
  },
  {
   "cell_type": "code",
   "execution_count": 38,
   "id": "ad98e1a4-36f6-42d5-974a-ddcbfdab7fd3",
   "metadata": {},
   "outputs": [],
   "source": [
    "# global scope\n",
    "job =\"netmax\"\n",
    "def myProfile():\n",
    "    # local scope\n",
    "    global age\n",
    "    name = \"Gurleen\"\n",
    "    age = 17\n",
    "    education = \"PCM\"\n",
    "    print(name,age,education,job)\n",
    "    "
   ]
  },
  {
   "cell_type": "code",
   "execution_count": 39,
   "id": "0d812962-78ae-40c2-a690-f8928cac32b1",
   "metadata": {},
   "outputs": [
    {
     "name": "stdout",
     "output_type": "stream",
     "text": [
      "Gurleen 17 PCM netmax\n"
     ]
    }
   ],
   "source": [
    "myProfile()"
   ]
  },
  {
   "cell_type": "code",
   "execution_count": 40,
   "id": "e4a1d725-295f-4c01-aed9-a6f047d74b4e",
   "metadata": {},
   "outputs": [
    {
     "data": {
      "text/plain": [
       "17"
      ]
     },
     "execution_count": 40,
     "metadata": {},
     "output_type": "execute_result"
    }
   ],
   "source": [
    "age"
   ]
  },
  {
   "cell_type": "code",
   "execution_count": 75,
   "id": "4c181a76-8db8-4e53-9fd8-f611fa86f82e",
   "metadata": {},
   "outputs": [
    {
     "name": "stdout",
     "output_type": "stream",
     "text": [
      "hello name, nice to meet you\n"
     ]
    }
   ],
   "source": [
    "greeting(\"name\")"
   ]
  },
  {
   "cell_type": "code",
   "execution_count": 78,
   "id": "cd69a5dd-1ed2-48ea-9868-abb153ebf9c1",
   "metadata": {},
   "outputs": [],
   "source": [
    "# Default function\n",
    "def greeting(name=\"USER\"):\n",
    "    print(f\"hello {name}, nice to meet you\")"
   ]
  },
  {
   "cell_type": "code",
   "execution_count": 79,
   "id": "1f989bd4-aa6e-432f-b055-facdfeb681a0",
   "metadata": {},
   "outputs": [
    {
     "name": "stdout",
     "output_type": "stream",
     "text": [
      "hello USER, nice to meet you\n"
     ]
    }
   ],
   "source": [
    "greeting()"
   ]
  },
  {
   "cell_type": "code",
   "execution_count": 60,
   "id": "7b7443a1-2032-454e-8953-ea7bae79316a",
   "metadata": {},
   "outputs": [],
   "source": [
    "# return function\n",
    "def salary_structure(Salary, tax_rate=0.12):\n",
    "    tax=Salary* tax_rate\n",
    "    return tax"
   ]
  },
  {
   "cell_type": "code",
   "execution_count": 61,
   "id": "5b743836-9425-4d6a-bf8c-b412c57f3759",
   "metadata": {},
   "outputs": [],
   "source": [
    "tax = salary_structure(80000,0.12)"
   ]
  },
  {
   "cell_type": "code",
   "execution_count": 62,
   "id": "e3591206-f8b2-49a8-b173-a994c6f46c78",
   "metadata": {},
   "outputs": [
    {
     "data": {
      "text/plain": [
       "9600.0"
      ]
     },
     "execution_count": 62,
     "metadata": {},
     "output_type": "execute_result"
    }
   ],
   "source": [
    "tax"
   ]
  },
  {
   "cell_type": "code",
   "execution_count": 66,
   "id": "9e9e35c1-705a-41d1-b5c1-c2e2b2541c6f",
   "metadata": {},
   "outputs": [],
   "source": [
    "# already made is parameter\n",
    "# the values we pass or make is argument"
   ]
  },
  {
   "cell_type": "code",
   "execution_count": 71,
   "id": "dfa4b813-99bb-48c3-bef4-817c56bc0c4b",
   "metadata": {},
   "outputs": [],
   "source": [
    "def volume_of_cuboid(length,width,height):\n",
    "    \"\"\"\n",
    "    this function calculates volume of cuboid\n",
    "    it takes length,width, height, as input and multiplicates them\n",
    "    \"\"\"\n",
    "    dimensions = f\"\"\"\n",
    "        length: {length}\n",
    "        width:  {width}\n",
    "        height: {height}\n",
    "    \"\"\"\n",
    "    print(dimensions)\n",
    "    return length*width*height"
   ]
  },
  {
   "cell_type": "code",
   "execution_count": 72,
   "id": "e163274e-ecc7-4402-a574-3aa082b1330e",
   "metadata": {},
   "outputs": [
    {
     "name": "stdout",
     "output_type": "stream",
     "text": [
      "\n",
      "        length: 80\n",
      "        width:  50\n",
      "        height: 100\n",
      "    \n"
     ]
    },
    {
     "data": {
      "text/plain": [
       "400000"
      ]
     },
     "execution_count": 72,
     "metadata": {},
     "output_type": "execute_result"
    }
   ],
   "source": [
    "volume_of_cuboid(80,50,100)"
   ]
  },
  {
   "cell_type": "code",
   "execution_count": 73,
   "id": "1711abcc-e451-4879-a2d4-4c5f10a9b2bd",
   "metadata": {},
   "outputs": [
    {
     "name": "stdout",
     "output_type": "stream",
     "text": [
      "Help on function volume_of_cuboid in module __main__:\n",
      "\n",
      "volume_of_cuboid(length, width, height)\n",
      "    this function calculates volume of cuboid\n",
      "    it takes length,width, height, as input and multiplicates them\n",
      "\n"
     ]
    }
   ],
   "source": [
    "help(volume_of_cuboid)"
   ]
  },
  {
   "cell_type": "code",
   "execution_count": 82,
   "id": "24563528-c85d-46b6-bac4-9094558a6eae",
   "metadata": {},
   "outputs": [
    {
     "name": "stdout",
     "output_type": "stream",
     "text": [
      "\n",
      "        length: 50\n",
      "        width:  80\n",
      "        height: 100\n",
      "    \n"
     ]
    },
    {
     "data": {
      "text/plain": [
       "400000"
      ]
     },
     "execution_count": 82,
     "metadata": {},
     "output_type": "execute_result"
    }
   ],
   "source": [
    "# Keyword arguments\n",
    "volume_of_cuboid(length=50,height=100,width=80)"
   ]
  },
  {
   "cell_type": "code",
   "execution_count": 83,
   "id": "2193925a-4c3e-4129-8e02-8ca5eac04404",
   "metadata": {},
   "outputs": [
    {
     "name": "stdout",
     "output_type": "stream",
     "text": [
      "\n",
      "        length: 50\n",
      "        width:  80\n",
      "        height: 100\n",
      "    \n"
     ]
    },
    {
     "data": {
      "text/plain": [
       "400000"
      ]
     },
     "execution_count": 83,
     "metadata": {},
     "output_type": "execute_result"
    }
   ],
   "source": [
    "volume_of_cuboid(50,height=100,width=80)"
   ]
  },
  {
   "cell_type": "code",
   "execution_count": 3,
   "id": "d3594012-5f1e-4e1b-9de1-04c5aff24193",
   "metadata": {},
   "outputs": [],
   "source": [
    "li =[8,6,4,7,5,2,1,2,3,6,5,9]"
   ]
  },
  {
   "cell_type": "code",
   "execution_count": 5,
   "id": "31bb00ae-46cf-40cb-af09-770032300aba",
   "metadata": {},
   "outputs": [],
   "source": [
    "# palindrom returns boolean values"
   ]
  },
  {
   "cell_type": "code",
   "execution_count": 12,
   "id": "f484067d-f05a-4ab6-bc9c-3c0ea698fb5f",
   "metadata": {},
   "outputs": [],
   "source": [
    "def check_palindrome(n=None):\n",
    "    n = n or input()\n",
    "    return str(n) == str(n)[::-1]"
   ]
  },
  {
   "cell_type": "code",
   "execution_count": 13,
   "id": "49b3571b-20e4-4cb4-b232-d9c513d00aee",
   "metadata": {},
   "outputs": [
    {
     "data": {
      "text/plain": [
       "True"
      ]
     },
     "execution_count": 13,
     "metadata": {},
     "output_type": "execute_result"
    }
   ],
   "source": [
    "check_palindrome(\"ShS\")"
   ]
  },
  {
   "cell_type": "code",
   "execution_count": 14,
   "id": "e0aa6b79-5028-4d8d-b6c1-1c128523e66d",
   "metadata": {},
   "outputs": [],
   "source": [
    "def check_palindrome(n):\n",
    "    return str(n).strip().lower() == str(n)[::-1].strip().lower()"
   ]
  },
  {
   "cell_type": "code",
   "execution_count": 15,
   "id": "69437578-e793-4939-897c-cfac3e3ed427",
   "metadata": {},
   "outputs": [
    {
     "data": {
      "text/plain": [
       "'sdflsdfi'"
      ]
     },
     "execution_count": 15,
     "metadata": {},
     "output_type": "execute_result"
    }
   ],
   "source": [
    "\" sdflsdfi \".strip()"
   ]
  },
  {
   "cell_type": "code",
   "execution_count": 16,
   "id": "6739bace-d838-4da1-93fe-520404df5d06",
   "metadata": {},
   "outputs": [],
   "source": [
    "def checkPrime():\n",
    "    pass"
   ]
  },
  {
   "cell_type": "code",
   "execution_count": 17,
   "id": "0d602224-9f84-4086-aa56-5bf6bb24a47b",
   "metadata": {},
   "outputs": [
    {
     "data": {
      "text/plain": [
       "80"
      ]
     },
     "execution_count": 17,
     "metadata": {},
     "output_type": "execute_result"
    }
   ],
   "source": [
    "\"\" or 80"
   ]
  },
  {
   "cell_type": "code",
   "execution_count": 44,
   "id": "f91335a8-966e-49e0-a9dc-b9f1b7feaa41",
   "metadata": {},
   "outputs": [],
   "source": [
    "def checkPrime(n):\n",
    "    if n < 2:\n",
    "        return False\n",
    "    for i in range(2,int(n**(1/2))+1):\n",
    "        print(n,i,n % i)\n",
    "        if n % i ==0:\n",
    "            return False\n",
    "    return True"
   ]
  },
  {
   "cell_type": "code",
   "execution_count": 45,
   "id": "86002136-2a75-416f-95ea-49ea6af79364",
   "metadata": {},
   "outputs": [
    {
     "name": "stdout",
     "output_type": "stream",
     "text": [
      "55 2 1\n",
      "55 3 1\n",
      "55 4 3\n",
      "55 5 0\n"
     ]
    },
    {
     "data": {
      "text/plain": [
       "False"
      ]
     },
     "execution_count": 45,
     "metadata": {},
     "output_type": "execute_result"
    }
   ],
   "source": [
    "checkPrime(55)"
   ]
  },
  {
   "cell_type": "code",
   "execution_count": 64,
   "id": "ad0ad031-caa5-49fb-b7c0-028986b5426b",
   "metadata": {},
   "outputs": [],
   "source": [
    "def PrimeInRange(start , end=0):\n",
    "    if start> end:\n",
    "        start, end = end,start\n",
    "    l = []\n",
    "    for n in range(start , end):\n",
    "        if checkPrime(n):\n",
    "            l.append(n)\n",
    "\n",
    "        return 1"
   ]
  },
  {
   "cell_type": "code",
   "execution_count": 67,
   "id": "d03d13e2-60ac-4056-a228-8949665f0806",
   "metadata": {},
   "outputs": [
    {
     "name": "stdout",
     "output_type": "stream",
     "text": [
      "10 2 0\n"
     ]
    },
    {
     "data": {
      "text/plain": [
       "1"
      ]
     },
     "execution_count": 67,
     "metadata": {},
     "output_type": "execute_result"
    }
   ],
   "source": [
    "PrimeInRange(10,50)"
   ]
  },
  {
   "cell_type": "code",
   "execution_count": 1,
   "id": "858b400a-16ce-4d70-8d05-037c69c83896",
   "metadata": {},
   "outputs": [],
   "source": [
    "def makeSquare(n):\n",
    "    return n**2"
   ]
  },
  {
   "cell_type": "code",
   "execution_count": 2,
   "id": "fbe7bffe-3e30-4897-8934-77bfe530efec",
   "metadata": {},
   "outputs": [],
   "source": [
    "a=[1,2,3]"
   ]
  },
  {
   "cell_type": "code",
   "execution_count": 3,
   "id": "b1ccdd88-1067-4aee-910f-59e6e3941772",
   "metadata": {},
   "outputs": [],
   "source": [
    "ans = list(map(makeSquare, a))"
   ]
  },
  {
   "cell_type": "code",
   "execution_count": 5,
   "id": "a924d203-4224-4f8b-bb2f-c3d0bcbf0f59",
   "metadata": {},
   "outputs": [
    {
     "data": {
      "text/plain": [
       "[1, 4, 9]"
      ]
     },
     "execution_count": 5,
     "metadata": {},
     "output_type": "execute_result"
    }
   ],
   "source": [
    "ans"
   ]
  },
  {
   "cell_type": "code",
   "execution_count": 6,
   "id": "95462195-319d-4f21-9a48-cbba1fed7317",
   "metadata": {},
   "outputs": [
    {
     "name": "stdout",
     "output_type": "stream",
     "text": [
      "1 g\n",
      "2 u\n",
      "3 r\n"
     ]
    }
   ],
   "source": [
    "for i,j in zip([1,2,3], \"gur\"):\n",
    "    print(i,j)"
   ]
  },
  {
   "cell_type": "code",
   "execution_count": 8,
   "id": "cdf0c5dd-7650-447d-b7ef-2ae183fe0197",
   "metadata": {},
   "outputs": [],
   "source": [
    "a = \"5 2 4 6 3 1\".split()"
   ]
  },
  {
   "cell_type": "code",
   "execution_count": 9,
   "id": "16d487cf-3a93-4e4c-9d2d-ad52391bb318",
   "metadata": {},
   "outputs": [
    {
     "data": {
      "text/plain": [
       "['5', '2', '4', '6', '3', '1']"
      ]
     },
     "execution_count": 9,
     "metadata": {},
     "output_type": "execute_result"
    }
   ],
   "source": [
    "a"
   ]
  },
  {
   "cell_type": "code",
   "execution_count": 10,
   "id": "3a067c4e-c5e9-4035-8af4-b80085d3c014",
   "metadata": {},
   "outputs": [],
   "source": [
    "ans = list(map(int, a))"
   ]
  },
  {
   "cell_type": "code",
   "execution_count": 11,
   "id": "5055ead6-1c7d-43dd-9d07-da953e34580f",
   "metadata": {},
   "outputs": [
    {
     "data": {
      "text/plain": [
       "[5, 2, 4, 6, 3, 1]"
      ]
     },
     "execution_count": 11,
     "metadata": {},
     "output_type": "execute_result"
    }
   ],
   "source": [
    "ans"
   ]
  },
  {
   "cell_type": "code",
   "execution_count": 13,
   "id": "da1b3fb8-e60c-44ea-a5b6-043ef81af219",
   "metadata": {},
   "outputs": [],
   "source": [
    "z = lambda x,y: x*y"
   ]
  },
  {
   "cell_type": "code",
   "execution_count": 14,
   "id": "6df8d200-b0eb-4b9b-9b96-a6c1d684db78",
   "metadata": {},
   "outputs": [
    {
     "data": {
      "text/plain": [
       "30"
      ]
     },
     "execution_count": 14,
     "metadata": {},
     "output_type": "execute_result"
    }
   ],
   "source": [
    "z(5,6)"
   ]
  },
  {
   "cell_type": "code",
   "execution_count": 20,
   "id": "5e39a48e-d4b6-4ccf-a394-61dd84112017",
   "metadata": {},
   "outputs": [],
   "source": [
    "z = lambda x: x**3"
   ]
  },
  {
   "cell_type": "code",
   "execution_count": 21,
   "id": "587a137d-2af1-428e-9577-51e045af11f5",
   "metadata": {},
   "outputs": [],
   "source": [
    "a = [5,2,3]"
   ]
  },
  {
   "cell_type": "code",
   "execution_count": 22,
   "id": "464eb380-44d5-4ce6-8ad8-98291d4110e1",
   "metadata": {},
   "outputs": [
    {
     "data": {
      "text/plain": [
       "[125, 8, 27]"
      ]
     },
     "execution_count": 22,
     "metadata": {},
     "output_type": "execute_result"
    }
   ],
   "source": [
    "list(map(z,a))"
   ]
  }
 ],
 "metadata": {
  "kernelspec": {
   "display_name": "Python 3 (ipykernel)",
   "language": "python",
   "name": "python3"
  },
  "language_info": {
   "codemirror_mode": {
    "name": "ipython",
    "version": 3
   },
   "file_extension": ".py",
   "mimetype": "text/x-python",
   "name": "python",
   "nbconvert_exporter": "python",
   "pygments_lexer": "ipython3",
   "version": "3.13.5"
  }
 },
 "nbformat": 4,
 "nbformat_minor": 5
}
