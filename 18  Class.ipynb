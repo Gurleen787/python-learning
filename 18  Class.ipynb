{
 "cells": [
  {
   "cell_type": "markdown",
   "id": "3d048e1d-68d2-4518-9eb1-402093f61b23",
   "metadata": {},
   "source": [
    "### Class : Defining and binding variables and functions"
   ]
  },
  {
   "cell_type": "code",
   "execution_count": 6,
   "id": "9433c689-ad15-4dd0-8902-96787464fa5b",
   "metadata": {},
   "outputs": [],
   "source": [
    "class Car():\n",
    "    tyre = 4\n",
    "\n",
    "    def move():\n",
    "        print(\"I am moving forward\")\n",
    "    "
   ]
  },
  {
   "cell_type": "code",
   "execution_count": 7,
   "id": "3fa9b7ee-741c-41bd-bdae-827157bed7f8",
   "metadata": {},
   "outputs": [
    {
     "data": {
      "text/plain": [
       "4"
      ]
     },
     "execution_count": 7,
     "metadata": {},
     "output_type": "execute_result"
    }
   ],
   "source": [
    "Car.tyre"
   ]
  },
  {
   "cell_type": "code",
   "execution_count": 8,
   "id": "b1bbda67-e728-4157-904e-83f6dab6324d",
   "metadata": {},
   "outputs": [
    {
     "name": "stdout",
     "output_type": "stream",
     "text": [
      "I am moving forward\n"
     ]
    }
   ],
   "source": [
    "Car.move()"
   ]
  },
  {
   "cell_type": "code",
   "execution_count": 9,
   "id": "833fd4b1-05b9-40b3-afe5-6b0905af617c",
   "metadata": {},
   "outputs": [],
   "source": [
    "class human():\n",
    "    Legs = 2\n",
    "\n",
    "    def eatUp():\n",
    "        print(\"I am eating\")\n",
    "        print(\"now i am full\")\n",
    "        print(\"thankyou\")\n",
    "    "
   ]
  },
  {
   "cell_type": "code",
   "execution_count": 11,
   "id": "249e1435-18f0-49bc-81c5-6cd7c39af558",
   "metadata": {},
   "outputs": [
    {
     "data": {
      "text/plain": [
       "2"
      ]
     },
     "execution_count": 11,
     "metadata": {},
     "output_type": "execute_result"
    }
   ],
   "source": [
    "human.Legs"
   ]
  },
  {
   "cell_type": "code",
   "execution_count": 12,
   "id": "8479a8e1-7afc-4977-9cd7-1649fe986a0d",
   "metadata": {},
   "outputs": [
    {
     "name": "stdout",
     "output_type": "stream",
     "text": [
      "I am eating\n",
      "now i am full\n",
      "thankyou\n"
     ]
    }
   ],
   "source": [
    "human.eatUp()"
   ]
  },
  {
   "cell_type": "code",
   "execution_count": 14,
   "id": "3b1b665f-ec69-402a-b148-da41128ad46a",
   "metadata": {},
   "outputs": [],
   "source": [
    "gadi = Car()"
   ]
  },
  {
   "cell_type": "code",
   "execution_count": 15,
   "id": "82f4b0cb-423a-4e0f-8463-80778f4f6df4",
   "metadata": {},
   "outputs": [],
   "source": [
    "gadi2 = Car()\n"
   ]
  },
  {
   "cell_type": "code",
   "execution_count": 17,
   "id": "2a948367-93d0-4cfb-995d-f9c4a4c18f18",
   "metadata": {},
   "outputs": [
    {
     "data": {
      "text/plain": [
       "4"
      ]
     },
     "execution_count": 17,
     "metadata": {},
     "output_type": "execute_result"
    }
   ],
   "source": [
    "gadi.tyre"
   ]
  },
  {
   "cell_type": "code",
   "execution_count": 18,
   "id": "e7114f82-43ee-40cf-b324-7bc33f826038",
   "metadata": {},
   "outputs": [
    {
     "data": {
      "text/plain": [
       "4"
      ]
     },
     "execution_count": 18,
     "metadata": {},
     "output_type": "execute_result"
    }
   ],
   "source": [
    "gadi2.tyre"
   ]
  },
  {
   "cell_type": "code",
   "execution_count": 19,
   "id": "6b7450d9-13f0-423a-beda-42a9ec59c2a2",
   "metadata": {},
   "outputs": [],
   "source": [
    "gadi.tyre =3"
   ]
  },
  {
   "cell_type": "code",
   "execution_count": 20,
   "id": "b2d16f49-4c07-4cd4-9837-dd48b5e6a0c2",
   "metadata": {},
   "outputs": [
    {
     "data": {
      "text/plain": [
       "3"
      ]
     },
     "execution_count": 20,
     "metadata": {},
     "output_type": "execute_result"
    }
   ],
   "source": [
    "gadi.tyre"
   ]
  },
  {
   "cell_type": "code",
   "execution_count": 21,
   "id": "3e01b207-3b0f-4f04-ac5f-b3a80a5f86da",
   "metadata": {},
   "outputs": [
    {
     "data": {
      "text/plain": [
       "4"
      ]
     },
     "execution_count": 21,
     "metadata": {},
     "output_type": "execute_result"
    }
   ],
   "source": [
    "gadi2.tyre"
   ]
  },
  {
   "cell_type": "code",
   "execution_count": 27,
   "id": "32c21f89-d31c-4bb9-a396-b01de9b4d9b0",
   "metadata": {},
   "outputs": [],
   "source": [
    "## variable is known as attribute"
   ]
  },
  {
   "cell_type": "code",
   "execution_count": 56,
   "id": "4f9ce719-a5bb-42ed-842d-ef59700aae4b",
   "metadata": {},
   "outputs": [],
   "source": [
    "## functions are also known as methods"
   ]
  },
  {
   "cell_type": "code",
   "execution_count": 64,
   "id": "1064449c-7476-43dc-844f-32f9fd6fcd7b",
   "metadata": {},
   "outputs": [],
   "source": [
    "class Car():\n",
    "    tyre = 4\n",
    "\n",
    "    def move(self):\n",
    "        print(\"moving forward\")\n",
    "    "
   ]
  },
  {
   "cell_type": "code",
   "execution_count": 65,
   "id": "9f51cba0-179c-4154-adae-cf726ae10442",
   "metadata": {},
   "outputs": [],
   "source": [
    "gadi2 = Car()"
   ]
  },
  {
   "cell_type": "code",
   "execution_count": 66,
   "id": "8cd8a9a7-afb9-4102-b5dd-008b3e623229",
   "metadata": {},
   "outputs": [
    {
     "name": "stdout",
     "output_type": "stream",
     "text": [
      "moving forward\n"
     ]
    }
   ],
   "source": [
    "gadi2.move()"
   ]
  },
  {
   "cell_type": "code",
   "execution_count": 67,
   "id": "c1ce50d4-c92b-424d-9ceb-e8a36342d955",
   "metadata": {},
   "outputs": [],
   "source": [
    "# self means the item or object is created"
   ]
  },
  {
   "cell_type": "code",
   "execution_count": 68,
   "id": "cef84572-b164-44d3-910b-b6df95f66265",
   "metadata": {},
   "outputs": [],
   "source": [
    "gadi.name =\"nano\""
   ]
  },
  {
   "cell_type": "code",
   "execution_count": 69,
   "id": "c7c7f953-8c7c-4c04-b2b2-da6c86853bb3",
   "metadata": {},
   "outputs": [],
   "source": [
    "gadi2.name =\"alto\""
   ]
  },
  {
   "cell_type": "code",
   "execution_count": 70,
   "id": "518b7b31-ff6a-462f-91eb-3e89204d3e2a",
   "metadata": {},
   "outputs": [
    {
     "data": {
      "text/plain": [
       "'nano'"
      ]
     },
     "execution_count": 70,
     "metadata": {},
     "output_type": "execute_result"
    }
   ],
   "source": [
    "gadi.name"
   ]
  },
  {
   "cell_type": "code",
   "execution_count": 71,
   "id": "85439513-985a-46f9-813b-0f48fe80f63b",
   "metadata": {},
   "outputs": [
    {
     "data": {
      "text/plain": [
       "'alto'"
      ]
     },
     "execution_count": 71,
     "metadata": {},
     "output_type": "execute_result"
    }
   ],
   "source": [
    "gadi2.name"
   ]
  },
  {
   "cell_type": "code",
   "execution_count": 1,
   "id": "294e027c-d3f6-4c75-95f5-be0a5cc5a679",
   "metadata": {},
   "outputs": [],
   "source": [
    "class Car():\n",
    "    # variable belonging to whole class\n",
    "    tyre = 4\n",
    "\n",
    "    def __init__(self,model,year=None):#automatically runs when the object is created\n",
    "       # avriable of the object\n",
    "        self.model = model\n",
    "        self.year = year\n",
    "\n",
    "    def introduction(self):\n",
    "        print(f'hi i am {self.model} and i was made in {self.year}')\n",
    "        \n",
    "    def move(self):\n",
    "            print(\"moving forward\")\n"
   ]
  },
  {
   "cell_type": "code",
   "execution_count": 2,
   "id": "d2f3844c-3349-4ea2-9058-3386de7dd8f8",
   "metadata": {},
   "outputs": [],
   "source": [
    "## init functions are the special  functions that will run automatically."
   ]
  },
  {
   "cell_type": "code",
   "execution_count": 5,
   "id": "c37ec440-d00d-40b0-a546-41f53d26b636",
   "metadata": {},
   "outputs": [],
   "source": [
    "gadi = Car(\"nano\",2025)"
   ]
  },
  {
   "cell_type": "code",
   "execution_count": 6,
   "id": "837fc0e6-19e0-4816-a7a2-dab7c52a7bd4",
   "metadata": {},
   "outputs": [
    {
     "name": "stdout",
     "output_type": "stream",
     "text": [
      "hi i am nano and i was made in 2025\n"
     ]
    }
   ],
   "source": [
    "gadi.introduction()"
   ]
  },
  {
   "cell_type": "code",
   "execution_count": 7,
   "id": "5cf0776d-47c4-4b55-8006-fa652879027a",
   "metadata": {},
   "outputs": [],
   "source": [
    "gadi2 = Car(\"alto\",2010)"
   ]
  },
  {
   "cell_type": "code",
   "execution_count": 9,
   "id": "51938abb-07a9-4927-850f-2174466bf6fe",
   "metadata": {},
   "outputs": [
    {
     "name": "stdout",
     "output_type": "stream",
     "text": [
      "hi i am alto and i was made in 2010\n"
     ]
    }
   ],
   "source": [
    "gadi2.introduction()"
   ]
  },
  {
   "cell_type": "code",
   "execution_count": 10,
   "id": "08d4917c-db9a-4f1f-924d-2b76fcaf100d",
   "metadata": {},
   "outputs": [],
   "source": [
    "class human():\n",
    "    Legs = 2\n",
    "\n",
    "    def eatUp():\n",
    "        print(\"i am eating\")\n",
    "        print(\"now i am full\")\n",
    "        print(\"thank you\")"
   ]
  },
  {
   "cell_type": "code",
   "execution_count": 12,
   "id": "d578e471-f0a2-4df6-8051-74656c93c861",
   "metadata": {},
   "outputs": [
    {
     "data": {
      "text/plain": [
       "2"
      ]
     },
     "execution_count": 12,
     "metadata": {},
     "output_type": "execute_result"
    }
   ],
   "source": [
    "human.Legs"
   ]
  },
  {
   "cell_type": "code",
   "execution_count": 13,
   "id": "29011f6a-c9cc-480f-9c37-ebbea5780e20",
   "metadata": {},
   "outputs": [
    {
     "name": "stdout",
     "output_type": "stream",
     "text": [
      "i am eating\n",
      "now i am full\n",
      "thank you\n"
     ]
    }
   ],
   "source": [
    "human.eatUp()"
   ]
  },
  {
   "cell_type": "code",
   "execution_count": null,
   "id": "cb28e94a-61ed-468f-86f0-172471ba5d41",
   "metadata": {},
   "outputs": [],
   "source": []
  }
 ],
 "metadata": {
  "kernelspec": {
   "display_name": "Python 3 (ipykernel)",
   "language": "python",
   "name": "python3"
  },
  "language_info": {
   "codemirror_mode": {
    "name": "ipython",
    "version": 3
   },
   "file_extension": ".py",
   "mimetype": "text/x-python",
   "name": "python",
   "nbconvert_exporter": "python",
   "pygments_lexer": "ipython3",
   "version": "3.13.5"
  }
 },
 "nbformat": 4,
 "nbformat_minor": 5
}
