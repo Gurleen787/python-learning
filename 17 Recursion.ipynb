{
 "cells": [
  {
   "cell_type": "markdown",
   "id": "eb9ef121-a9c6-431a-9e89-20c32183ba0c",
   "metadata": {},
   "source": [
    "### Recursion"
   ]
  },
  {
   "cell_type": "markdown",
   "id": "21eaa360-fc7f-42ad-be29-c8491669c961",
   "metadata": {},
   "source": [
    "### When we call a function in itself\n",
    "\n",
    "\n",
    "1. We call a function in itself\n",
    "2. We assume the second call will give correct output\n",
    "3. It must have a terminating condition"
   ]
  },
  {
   "cell_type": "code",
   "execution_count": 3,
   "id": "1e985a7b-3811-4035-a282-b218d0c683ef",
   "metadata": {},
   "outputs": [],
   "source": [
    "def factorial(n):\n",
    "    print(n,n-1)\n",
    "    if n == 0:\n",
    "        return 1\n",
    "    return n * factorial(n-1)\n",
    "    "
   ]
  },
  {
   "cell_type": "code",
   "execution_count": 5,
   "id": "0ca9867f-9b9c-4b3d-8467-f28479a685e4",
   "metadata": {},
   "outputs": [
    {
     "name": "stdout",
     "output_type": "stream",
     "text": [
      "5 4\n",
      "4 3\n",
      "3 2\n",
      "2 1\n",
      "1 0\n",
      "0 -1\n"
     ]
    },
    {
     "data": {
      "text/plain": [
       "120"
      ]
     },
     "execution_count": 5,
     "metadata": {},
     "output_type": "execute_result"
    }
   ],
   "source": [
    "factorial(5)"
   ]
  },
  {
   "cell_type": "code",
   "execution_count": 7,
   "id": "14209ae7-e7c1-4428-a496-768123eb0b54",
   "metadata": {},
   "outputs": [],
   "source": [
    "L = [4,5,7,9,4,3,1,6]"
   ]
  },
  {
   "cell_type": "code",
   "execution_count": 9,
   "id": "5ee659fa-d50d-42dd-b021-5ff6c37800f5",
   "metadata": {},
   "outputs": [],
   "source": [
    "def addList(L):\n",
    "    print (L)\n",
    "    if len(L) == 0:\n",
    "        return 0\n",
    "    return L[0] + addList(L[1:])\n",
    "\n",
    "    "
   ]
  },
  {
   "cell_type": "code",
   "execution_count": 10,
   "id": "8ae3acec-cc20-4da3-8dca-5bfd34471b3b",
   "metadata": {},
   "outputs": [
    {
     "name": "stdout",
     "output_type": "stream",
     "text": [
      "[4, 5, 7, 9, 4, 3, 1, 6]\n",
      "[5, 7, 9, 4, 3, 1, 6]\n",
      "[7, 9, 4, 3, 1, 6]\n",
      "[9, 4, 3, 1, 6]\n",
      "[4, 3, 1, 6]\n",
      "[3, 1, 6]\n",
      "[1, 6]\n",
      "[6]\n",
      "[]\n"
     ]
    },
    {
     "data": {
      "text/plain": [
       "39"
      ]
     },
     "execution_count": 10,
     "metadata": {},
     "output_type": "execute_result"
    }
   ],
   "source": [
    "addList(L)"
   ]
  },
  {
   "cell_type": "code",
   "execution_count": 1,
   "id": "e801385a-291e-4f6d-a996-6a5b31cfdb0f",
   "metadata": {},
   "outputs": [
    {
     "data": {
      "text/plain": [
       "True"
      ]
     },
     "execution_count": 1,
     "metadata": {},
     "output_type": "execute_result"
    }
   ],
   "source": [
    "type(5)is int"
   ]
  },
  {
   "cell_type": "code",
   "execution_count": 2,
   "id": "a9cff3b1-ea21-44c5-8d48-54c2cf5a926b",
   "metadata": {},
   "outputs": [],
   "source": [
    "def addList(L):\n",
    "    print(L)\n",
    "    if type(L) is int:\n",
    "        return L\n",
    "    elif len(L)==0:\n",
    "        return 0\n",
    "    abc =  addList(L[0]) + addList(L[1:])\n",
    "    return abc"
   ]
  },
  {
   "cell_type": "code",
   "execution_count": 3,
   "id": "b9e3011d-157a-46bc-a235-60b23c8e0c50",
   "metadata": {},
   "outputs": [
    {
     "name": "stdout",
     "output_type": "stream",
     "text": [
      "[1, 2, [9, 6, 4, 2], 7, 5, 6, 3]\n",
      "1\n",
      "[2, [9, 6, 4, 2], 7, 5, 6, 3]\n",
      "2\n",
      "[[9, 6, 4, 2], 7, 5, 6, 3]\n",
      "[9, 6, 4, 2]\n",
      "9\n",
      "[6, 4, 2]\n",
      "6\n",
      "[4, 2]\n",
      "4\n",
      "[2]\n",
      "2\n",
      "[]\n",
      "[7, 5, 6, 3]\n",
      "7\n",
      "[5, 6, 3]\n",
      "5\n",
      "[6, 3]\n",
      "6\n",
      "[3]\n",
      "3\n",
      "[]\n"
     ]
    },
    {
     "data": {
      "text/plain": [
       "45"
      ]
     },
     "execution_count": 3,
     "metadata": {},
     "output_type": "execute_result"
    }
   ],
   "source": [
    "addList([1,2,[9,6,4,2],7,5,6,3])"
   ]
  },
  {
   "cell_type": "code",
   "execution_count": null,
   "id": "b72ad596-4a24-471e-9beb-5cf82b779942",
   "metadata": {},
   "outputs": [],
   "source": []
  }
 ],
 "metadata": {
  "kernelspec": {
   "display_name": "Python 3 (ipykernel)",
   "language": "python",
   "name": "python3"
  },
  "language_info": {
   "codemirror_mode": {
    "name": "ipython",
    "version": 3
   },
   "file_extension": ".py",
   "mimetype": "text/x-python",
   "name": "python",
   "nbconvert_exporter": "python",
   "pygments_lexer": "ipython3",
   "version": "3.13.5"
  }
 },
 "nbformat": 4,
 "nbformat_minor": 5
}
