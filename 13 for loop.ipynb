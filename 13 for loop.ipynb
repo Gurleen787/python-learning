{
 "cells": [
  {
   "cell_type": "code",
   "execution_count": 1,
   "id": "f315164b-7528-4bca-b21b-0dbb549b14e0",
   "metadata": {},
   "outputs": [
    {
     "name": "stdout",
     "output_type": "stream",
     "text": [
      "0\n",
      "1\n",
      "2\n",
      "3\n",
      "4\n"
     ]
    }
   ],
   "source": [
    "i = 0\n",
    "n = 5\n",
    "while i < n:\n",
    "    print(i)\n",
    "    i += 1"
   ]
  },
  {
   "cell_type": "code",
   "execution_count": 4,
   "id": "88b1b859-459b-4a06-a895-715c77196a30",
   "metadata": {},
   "outputs": [
    {
     "name": "stdout",
     "output_type": "stream",
     "text": [
      "3\n",
      "2\n",
      "1\n"
     ]
    }
   ],
   "source": [
    "i = 3\n",
    "while i:\n",
    "    print(i)\n",
    "    i -= 1\n"
   ]
  },
  {
   "cell_type": "code",
   "execution_count": 6,
   "id": "7fa7ea12-4747-4923-a7f8-b8ffe8ee4c2a",
   "metadata": {},
   "outputs": [
    {
     "name": "stdout",
     "output_type": "stream",
     "text": [
      "5\n",
      "4\n",
      "3\n",
      "2\n",
      "1\n"
     ]
    }
   ],
   "source": [
    "i = 5\n",
    "n = 0\n",
    "while i > n:\n",
    "    print(i)\n",
    "    i -= 1"
   ]
  },
  {
   "cell_type": "code",
   "execution_count": 7,
   "id": "4f051fc3-4a45-4920-8d5c-e4d45567d5f3",
   "metadata": {},
   "outputs": [],
   "source": [
    "name = \"gurleen\""
   ]
  },
  {
   "cell_type": "code",
   "execution_count": 8,
   "id": "aba1adae-9a0d-4190-8b4a-ba1c9a0e9612",
   "metadata": {},
   "outputs": [
    {
     "name": "stdout",
     "output_type": "stream",
     "text": [
      "hi\n",
      "hi\n",
      "hi\n",
      "hi\n",
      "hi\n",
      "hi\n",
      "hi\n"
     ]
    }
   ],
   "source": [
    "for alphabet in name:\n",
    "    print(\"hi\")"
   ]
  },
  {
   "cell_type": "code",
   "execution_count": 10,
   "id": "a92b92fb-5eca-438b-b0fa-5989bb94534d",
   "metadata": {},
   "outputs": [],
   "source": [
    "name = \"gurleen\""
   ]
  },
  {
   "cell_type": "code",
   "execution_count": 17,
   "id": "e1209e25-44b3-4b3c-816c-8505fcf66240",
   "metadata": {},
   "outputs": [
    {
     "name": "stdout",
     "output_type": "stream",
     "text": [
      "g\n",
      "u\n",
      "r\n",
      "l\n",
      "e\n",
      "e\n",
      "n\n"
     ]
    }
   ],
   "source": [
    "for alphabet in name:\n",
    "    print(alphabet)"
   ]
  },
  {
   "cell_type": "code",
   "execution_count": 18,
   "id": "ef9b25ea-c70f-4f98-bd4e-16ee17928e9c",
   "metadata": {},
   "outputs": [
    {
     "name": "stdout",
     "output_type": "stream",
     "text": [
      "tomato\n",
      "potato\n",
      "onion\n"
     ]
    }
   ],
   "source": [
    "list =[\"tomato\",\"potato\",\"onion\"]\n",
    "\n",
    "for vegetable in list:\n",
    "    print(vegetable)"
   ]
  },
  {
   "cell_type": "code",
   "execution_count": 19,
   "id": "9c661404-22a3-4041-94d4-221996575774",
   "metadata": {},
   "outputs": [
    {
     "name": "stdout",
     "output_type": "stream",
     "text": [
      "Hello Riya\n",
      "Hello Priya\n",
      "Hello Neha\n",
      "Hello Akash\n"
     ]
    }
   ],
   "source": [
    "course =[\"Riya\",\"Priya\",\"Neha\",\"Akash\"]\n",
    "\n",
    "for person in course:\n",
    "    print(\"Hello\",person)"
   ]
  },
  {
   "cell_type": "code",
   "execution_count": 20,
   "id": "6379409f-fbeb-414d-bcb6-250e9b0565d7",
   "metadata": {},
   "outputs": [
    {
     "name": "stdout",
     "output_type": "stream",
     "text": [
      "4\n",
      "5\n",
      "6\n",
      "7\n",
      "8\n"
     ]
    }
   ],
   "source": [
    "s={8,5,6,7,4}\n",
    "for i in s:\n",
    "    print(i)"
   ]
  },
  {
   "cell_type": "code",
   "execution_count": 22,
   "id": "3579fc26-dd9e-4fa2-98da-7a918cb07dcd",
   "metadata": {},
   "outputs": [
    {
     "name": "stdout",
     "output_type": "stream",
     "text": [
      "0\n",
      "1\n",
      "2\n",
      "3\n",
      "4\n"
     ]
    }
   ],
   "source": [
    "i = 0\n",
    "n = 5\n",
    "while i < n:\n",
    "    print(i)\n",
    "    i +=1"
   ]
  },
  {
   "cell_type": "code",
   "execution_count": 23,
   "id": "fc1de31b-3a58-48a5-9154-a6c51c21a846",
   "metadata": {},
   "outputs": [
    {
     "name": "stdout",
     "output_type": "stream",
     "text": [
      "0\n",
      "1\n",
      "2\n",
      "3\n",
      "4\n"
     ]
    }
   ],
   "source": [
    "for i in range(5):\n",
    "    print(i)"
   ]
  },
  {
   "cell_type": "code",
   "execution_count": 25,
   "id": "750b2f96-74e3-49ec-83dc-5ce00bd2288b",
   "metadata": {},
   "outputs": [
    {
     "name": "stdout",
     "output_type": "stream",
     "text": [
      "3\n",
      "4\n",
      "5\n",
      "6\n",
      "7\n",
      "8\n",
      "9\n"
     ]
    }
   ],
   "source": [
    "i = 3\n",
    "n = 10\n",
    "while i < n:\n",
    "    print(i)\n",
    "    i += 1"
   ]
  },
  {
   "cell_type": "code",
   "execution_count": 26,
   "id": "72699ca0-0663-48e8-82d1-29fb0ab3bddf",
   "metadata": {},
   "outputs": [
    {
     "name": "stdout",
     "output_type": "stream",
     "text": [
      "3\n",
      "4\n",
      "5\n",
      "6\n",
      "7\n",
      "8\n",
      "9\n"
     ]
    }
   ],
   "source": [
    "for i in range(3,10):\n",
    "    print(i)\n"
   ]
  },
  {
   "cell_type": "code",
   "execution_count": 27,
   "id": "1f02b27e-058a-4f88-916e-694b924ac62b",
   "metadata": {},
   "outputs": [
    {
     "name": "stdout",
     "output_type": "stream",
     "text": [
      "g\n",
      "u\n",
      "r\n",
      "l\n",
      "e\n",
      "e\n",
      "n\n"
     ]
    }
   ],
   "source": [
    "name = \"gurleen\"\n",
    "for i in range(len(name)):\n",
    "    print(name[i])"
   ]
  },
  {
   "cell_type": "code",
   "execution_count": null,
   "id": "3f234f23-ce2e-471c-acf9-ddd023b2f372",
   "metadata": {},
   "outputs": [],
   "source": []
  }
 ],
 "metadata": {
  "kernelspec": {
   "display_name": "Python 3 (ipykernel)",
   "language": "python",
   "name": "python3"
  },
  "language_info": {
   "codemirror_mode": {
    "name": "ipython",
    "version": 3
   },
   "file_extension": ".py",
   "mimetype": "text/x-python",
   "name": "python",
   "nbconvert_exporter": "python",
   "pygments_lexer": "ipython3",
   "version": "3.13.5"
  }
 },
 "nbformat": 4,
 "nbformat_minor": 5
}
