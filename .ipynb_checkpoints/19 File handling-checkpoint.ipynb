{
 "cells": [
  {
   "cell_type": "markdown",
   "id": "566acf8e-f518-4d2f-ab98-f41c0012a117",
   "metadata": {},
   "source": [
    "### File handling"
   ]
  },
  {
   "cell_type": "code",
   "execution_count": 13,
   "id": "f139f9f3-381e-47f6-980a-8fc0960a4b4b",
   "metadata": {},
   "outputs": [],
   "source": [
    "myfile = open(\"netmax.txt\", \"r\")"
   ]
  },
  {
   "cell_type": "code",
   "execution_count": 14,
   "id": "b7de44a7-e5f8-42bd-b60c-c5eeb9324a70",
   "metadata": {},
   "outputs": [
    {
     "name": "stdout",
     "output_type": "stream",
     "text": [
      "hello everyone.\n",
      "\n"
     ]
    }
   ],
   "source": [
    "print(myfile.readline())"
   ]
  },
  {
   "cell_type": "code",
   "execution_count": 15,
   "id": "6c739335-46d7-4108-a1bf-e4869e0498cd",
   "metadata": {},
   "outputs": [
    {
     "name": "stdout",
     "output_type": "stream",
     "text": [
      "hie everyone.\n",
      "\n"
     ]
    }
   ],
   "source": [
    "print(myfile.readline())"
   ]
  },
  {
   "cell_type": "code",
   "execution_count": 16,
   "id": "0eae936b-df6f-4bec-bbd9-ad063dc7544e",
   "metadata": {},
   "outputs": [
    {
     "name": "stdout",
     "output_type": "stream",
     "text": [
      "heyy everyonee.\n"
     ]
    }
   ],
   "source": [
    "print(myfile.read())"
   ]
  },
  {
   "cell_type": "code",
   "execution_count": 17,
   "id": "5cfff89b-74fe-43d9-b7b5-b68f5f97a36d",
   "metadata": {},
   "outputs": [],
   "source": [
    "myfile.close()"
   ]
  },
  {
   "cell_type": "code",
   "execution_count": null,
   "id": "0f9c6990-71e0-4132-90bb-e42b45ca639f",
   "metadata": {},
   "outputs": [],
   "source": []
  },
  {
   "cell_type": "code",
   "execution_count": 12,
   "id": "4c2fa065-0fd3-48e8-a4fd-1cb853ff3ae0",
   "metadata": {},
   "outputs": [
    {
     "name": "stdout",
     "output_type": "stream",
     "text": [
      "hello everyone.\n",
      "hie everyone.\n",
      "heyy everyonee.good daygood daygood daygood day\n"
     ]
    }
   ],
   "source": [
    "with open(\"C:/Users/Public/Music/netmax/netmax.txt\")as file:\n",
    "    print(file.read())"
   ]
  },
  {
   "cell_type": "code",
   "execution_count": 16,
   "id": "940eb3f5-3a13-4218-b2cf-be9e6b813eb0",
   "metadata": {},
   "outputs": [],
   "source": [
    "with open(\"C:/Users/Public/Music/netmax/netmax.txt\",\"a\")as file:\n",
    "    file.write(\"good day\")"
   ]
  },
  {
   "cell_type": "code",
   "execution_count": 14,
   "id": "17baf2b1-19c4-4d97-bae8-9c50ce7548c8",
   "metadata": {},
   "outputs": [
    {
     "name": "stdout",
     "output_type": "stream",
     "text": [
      "True\n"
     ]
    }
   ],
   "source": [
    "with open(\"C:/Users/Public/Music/netmax/netmax.txt\",\"a\")as file:\n",
    "    print(file.writable())\n",
    "    "
   ]
  },
  {
   "cell_type": "code",
   "execution_count": 19,
   "id": "f94d9ad8-e1e6-4cbc-961f-f9f62ae1e9ab",
   "metadata": {},
   "outputs": [
    {
     "name": "stdout",
     "output_type": "stream",
     "text": [
      "False\n"
     ]
    }
   ],
   "source": [
    "with open(\"C:/Users/Public/Music/netmax/netmax.txt\",\"a\")as file:\n",
    "    print(file.readable())\n",
    "    "
   ]
  },
  {
   "cell_type": "code",
   "execution_count": null,
   "id": "67fcbdd4-8e3a-4b8b-b074-9cab44afe36a",
   "metadata": {},
   "outputs": [],
   "source": []
  }
 ],
 "metadata": {
  "kernelspec": {
   "display_name": "Python 3 (ipykernel)",
   "language": "python",
   "name": "python3"
  },
  "language_info": {
   "codemirror_mode": {
    "name": "ipython",
    "version": 3
   },
   "file_extension": ".py",
   "mimetype": "text/x-python",
   "name": "python",
   "nbconvert_exporter": "python",
   "pygments_lexer": "ipython3",
   "version": "3.13.5"
  }
 },
 "nbformat": 4,
 "nbformat_minor": 5
}
