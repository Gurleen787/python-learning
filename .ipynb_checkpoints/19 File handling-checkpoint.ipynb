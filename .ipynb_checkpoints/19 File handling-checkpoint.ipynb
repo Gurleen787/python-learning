{
 "cells": [
  {
   "cell_type": "markdown",
   "id": "566acf8e-f518-4d2f-ab98-f41c0012a117",
   "metadata": {},
   "source": [
    "### File handling"
   ]
  },
  {
   "cell_type": "code",
   "execution_count": 13,
   "id": "f139f9f3-381e-47f6-980a-8fc0960a4b4b",
   "metadata": {},
   "outputs": [],
   "source": [
    "myfile = open(\"netmax.txt\", \"r\")"
   ]
  },
  {
   "cell_type": "code",
   "execution_count": 14,
   "id": "b7de44a7-e5f8-42bd-b60c-c5eeb9324a70",
   "metadata": {},
   "outputs": [
    {
     "name": "stdout",
     "output_type": "stream",
     "text": [
      "hello everyone.\n",
      "\n"
     ]
    }
   ],
   "source": [
    "print(myfile.readline())"
   ]
  },
  {
   "cell_type": "code",
   "execution_count": 15,
   "id": "6c739335-46d7-4108-a1bf-e4869e0498cd",
   "metadata": {},
   "outputs": [
    {
     "name": "stdout",
     "output_type": "stream",
     "text": [
      "hie everyone.\n",
      "\n"
     ]
    }
   ],
   "source": [
    "print(myfile.readline())"
   ]
  },
  {
   "cell_type": "code",
   "execution_count": 16,
   "id": "0eae936b-df6f-4bec-bbd9-ad063dc7544e",
   "metadata": {},
   "outputs": [
    {
     "name": "stdout",
     "output_type": "stream",
     "text": [
      "heyy everyonee.\n"
     ]
    }
   ],
   "source": [
    "print(myfile.read())"
   ]
  },
  {
   "cell_type": "code",
   "execution_count": 17,
   "id": "5cfff89b-74fe-43d9-b7b5-b68f5f97a36d",
   "metadata": {},
   "outputs": [],
   "source": [
    "myfile.close()"
   ]
  },
  {
   "cell_type": "code",
   "execution_count": null,
   "id": "0f9c6990-71e0-4132-90bb-e42b45ca639f",
   "metadata": {},
   "outputs": [],
   "source": []
  },
  {
   "cell_type": "code",
   "execution_count": 2,
   "id": "af7c0aa5-b520-4750-953f-6a4cd318e80e",
   "metadata": {},
   "outputs": [
    {
     "ename": "NameError",
     "evalue": "name 'a' is not defined",
     "output_type": "error",
     "traceback": [
      "\u001b[1;31m---------------------------------------------------------------------------\u001b[0m",
      "\u001b[1;31mNameError\u001b[0m                                 Traceback (most recent call last)",
      "Cell \u001b[1;32mIn[2], line 1\u001b[0m\n\u001b[1;32m----> 1\u001b[0m \u001b[38;5;28;01mwith\u001b[39;00m \u001b[38;5;28mopen\u001b[39m (\u001b[38;5;124m\"\u001b[39m\u001b[38;5;124mcustomer text\u001b[39m\u001b[38;5;124m\"\u001b[39m,a) \u001b[38;5;28;01mas\u001b[39;00m file :\n\u001b[0;32m      2\u001b[0m     c \u001b[38;5;241m=\u001b[39m\u001b[38;5;124m\"\"\"\u001b[39m\n\u001b[0;32m      3\u001b[0m \u001b[38;5;124m    nicee to meet you\u001b[39m\n\u001b[0;32m      4\u001b[0m \u001b[38;5;124m    lets have dinner\u001b[39m\n\u001b[0;32m      5\u001b[0m \u001b[38;5;124m    \u001b[39m\u001b[38;5;124m\"\"\"\u001b[39m\n\u001b[0;32m      6\u001b[0m     file\u001b[38;5;241m.\u001b[39mwrite(c)\n",
      "\u001b[1;31mNameError\u001b[0m: name 'a' is not defined"
     ]
    }
   ],
   "source": [
    "with open (\"customer text\",a) as file :\n",
    "    c =\"\"\"\n",
    "    nicee to meet you\n",
    "    lets have dinner\n",
    "    \"\"\"\n",
    "    file.write(c)"
   ]
  },
  {
   "cell_type": "code",
   "execution_count": null,
   "id": "5f62d414-ba1e-4e79-a7ed-69a28a917627",
   "metadata": {},
   "outputs": [],
   "source": []
  }
 ],
 "metadata": {
  "kernelspec": {
   "display_name": "Python 3 (ipykernel)",
   "language": "python",
   "name": "python3"
  },
  "language_info": {
   "codemirror_mode": {
    "name": "ipython",
    "version": 3
   },
   "file_extension": ".py",
   "mimetype": "text/x-python",
   "name": "python",
   "nbconvert_exporter": "python",
   "pygments_lexer": "ipython3",
   "version": "3.13.5"
  }
 },
 "nbformat": 4,
 "nbformat_minor": 5
}
