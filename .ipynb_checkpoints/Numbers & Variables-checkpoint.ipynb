{
 "cells": [
  {
   "cell_type": "markdown",
   "id": "331bfdc9-a799-443d-bc8d-e22f9419bf17",
   "metadata": {},
   "source": [
    "#Working with Numbers\n"
   ]
  },
  {
   "cell_type": "code",
   "execution_count": 1,
   "id": "2c10bfc7-926e-4c00-805f-8b6715557675",
   "metadata": {},
   "outputs": [
    {
     "data": {
      "text/plain": [
       "3.0"
      ]
     },
     "execution_count": 1,
     "metadata": {},
     "output_type": "execute_result"
    }
   ],
   "source": [
    "27**(1/3)"
   ]
  },
  {
   "cell_type": "code",
   "execution_count": 3,
   "id": "a05493d9-20e0-4c3d-a2d6-edae010d7658",
   "metadata": {},
   "outputs": [
    {
     "data": {
      "text/plain": [
       "5"
      ]
     },
     "execution_count": 3,
     "metadata": {},
     "output_type": "execute_result"
    }
   ],
   "source": [
    "8-3"
   ]
  },
  {
   "cell_type": "code",
   "execution_count": 4,
   "id": "47605504-b3e1-4071-8ed6-01c6fe0a62d6",
   "metadata": {},
   "outputs": [
    {
     "data": {
      "text/plain": [
       "3.142857142857143"
      ]
     },
     "execution_count": 4,
     "metadata": {},
     "output_type": "execute_result"
    }
   ],
   "source": [
    "22/7"
   ]
  },
  {
   "cell_type": "code",
   "execution_count": 5,
   "id": "ea29f856-9361-468a-833f-466a7affc691",
   "metadata": {},
   "outputs": [
    {
     "data": {
      "text/plain": [
       "3"
      ]
     },
     "execution_count": 5,
     "metadata": {},
     "output_type": "execute_result"
    }
   ],
   "source": [
    "22//7"
   ]
  },
  {
   "cell_type": "code",
   "execution_count": 6,
   "id": "1fbd8e5b-bb68-43a4-a6df-77a961f03b87",
   "metadata": {},
   "outputs": [
    {
     "data": {
      "text/plain": [
       "1"
      ]
     },
     "execution_count": 6,
     "metadata": {},
     "output_type": "execute_result"
    }
   ],
   "source": [
    "22 % 7"
   ]
  },
  {
   "cell_type": "markdown",
   "id": "29af0286-b826-4e15-8676-b9220939437a",
   "metadata": {},
   "source": [
    "#working with variables"
   ]
  },
  {
   "cell_type": "code",
   "execution_count": 8,
   "id": "f037fad8-d1a2-4135-859b-42d63fb833aa",
   "metadata": {},
   "outputs": [],
   "source": [
    "a=5"
   ]
  },
  {
   "cell_type": "code",
   "execution_count": 9,
   "id": "b4279671-7d27-4df3-abd3-082c7f14403b",
   "metadata": {},
   "outputs": [
    {
     "data": {
      "text/plain": [
       "5"
      ]
     },
     "execution_count": 9,
     "metadata": {},
     "output_type": "execute_result"
    }
   ],
   "source": [
    "a"
   ]
  },
  {
   "cell_type": "code",
   "execution_count": 12,
   "id": "de49ac40-bf94-49c9-9e33-9330579fe3cb",
   "metadata": {},
   "outputs": [],
   "source": [
    "a=50.6"
   ]
  },
  {
   "cell_type": "code",
   "execution_count": 13,
   "id": "b3de334e-e983-443a-bf30-003c6d0d3fdf",
   "metadata": {},
   "outputs": [
    {
     "data": {
      "text/plain": [
       "50.6"
      ]
     },
     "execution_count": 13,
     "metadata": {},
     "output_type": "execute_result"
    }
   ],
   "source": [
    "a"
   ]
  },
  {
   "cell_type": "code",
   "execution_count": 15,
   "id": "d0340db2-30ec-4286-8f39-fd9bb4a95947",
   "metadata": {},
   "outputs": [],
   "source": [
    "#snake casing\n",
    "roll_no = 24"
   ]
  },
  {
   "cell_type": "raw",
   "id": "131ab708-d2fe-49b8-980b-5b707624f3d6",
   "metadata": {},
   "source": [
    "password_of_wifi_of_it_department = 12345678"
   ]
  },
  {
   "cell_type": "code",
   "execution_count": 16,
   "id": "cf84a8a8-61a3-4996-8f13-025dd71bb5d0",
   "metadata": {},
   "outputs": [],
   "source": [
    "#camel casing\n",
    "passwordOfWifiOfItDepartment =87654321"
   ]
  },
  {
   "cell_type": "code",
   "execution_count": 17,
   "id": "50805008-c317-42cf-b7e6-88b7a8de7632",
   "metadata": {},
   "outputs": [],
   "source": [
    "#be specific with your naming\n",
    "d= 4\n",
    "dogs= 4"
   ]
  },
  {
   "cell_type": "code",
   "execution_count": 18,
   "id": "4e71ad89-507b-4f1f-950d-6558bb17c82f",
   "metadata": {},
   "outputs": [],
   "source": [
    "#python is a case sensitive language\n",
    "name='priya'\n"
   ]
  },
  {
   "cell_type": "code",
   "execution_count": 19,
   "id": "adf5b741-9687-4316-b4d6-d51f6c27fdb6",
   "metadata": {},
   "outputs": [],
   "source": [
    "Name=\"Riya\""
   ]
  },
  {
   "cell_type": "code",
   "execution_count": 20,
   "id": "5a18dd53-e435-40d4-ae01-5c49cad6f6f0",
   "metadata": {},
   "outputs": [
    {
     "data": {
      "text/plain": [
       "'priya'"
      ]
     },
     "execution_count": 20,
     "metadata": {},
     "output_type": "execute_result"
    }
   ],
   "source": [
    "name"
   ]
  },
  {
   "cell_type": "code",
   "execution_count": 21,
   "id": "f529b73b-8122-4a3d-a47b-38228c88f68a",
   "metadata": {},
   "outputs": [
    {
     "data": {
      "text/plain": [
       "'Riya'"
      ]
     },
     "execution_count": 21,
     "metadata": {},
     "output_type": "execute_result"
    }
   ],
   "source": [
    "Name"
   ]
  },
  {
   "cell_type": "code",
   "execution_count": 22,
   "id": "a555d96d-ad6f-418e-ae89-dffd59b00e12",
   "metadata": {},
   "outputs": [],
   "source": [
    "#if variable doesn't exist then we get a name error"
   ]
  },
  {
   "cell_type": "code",
   "execution_count": 24,
   "id": "baac7e3d-684c-451b-a25c-ea84c8d89ad2",
   "metadata": {},
   "outputs": [],
   "source": [
    "amount = 6"
   ]
  },
  {
   "cell_type": "code",
   "execution_count": 25,
   "id": "952fcc7c-e191-4ac2-b74e-661d3ad8d334",
   "metadata": {},
   "outputs": [
    {
     "data": {
      "text/plain": [
       "8"
      ]
     },
     "execution_count": 25,
     "metadata": {},
     "output_type": "execute_result"
    }
   ],
   "source": [
    "amount+2"
   ]
  },
  {
   "cell_type": "code",
   "execution_count": 26,
   "id": "156fd0f8-92e4-400b-b63b-26713115ecd7",
   "metadata": {},
   "outputs": [
    {
     "data": {
      "text/plain": [
       "18"
      ]
     },
     "execution_count": 26,
     "metadata": {},
     "output_type": "execute_result"
    }
   ],
   "source": [
    "amount*3"
   ]
  },
  {
   "cell_type": "code",
   "execution_count": 27,
   "id": "0fa289de-22d9-4d96-8c2b-f3d2731fa52f",
   "metadata": {},
   "outputs": [
    {
     "data": {
      "text/plain": [
       "6"
      ]
     },
     "execution_count": 27,
     "metadata": {},
     "output_type": "execute_result"
    }
   ],
   "source": [
    "amount"
   ]
  },
  {
   "cell_type": "code",
   "execution_count": 32,
   "id": "d428fa26-6ab2-4a96-b0ab-1d6cc4aad405",
   "metadata": {},
   "outputs": [],
   "source": [
    "amount =amount +5"
   ]
  },
  {
   "cell_type": "code",
   "execution_count": 33,
   "id": "b3eecd77-4ccf-47f8-b63c-2b5edaa4d499",
   "metadata": {},
   "outputs": [
    {
     "data": {
      "text/plain": [
       "20"
      ]
     },
     "execution_count": 33,
     "metadata": {},
     "output_type": "execute_result"
    }
   ],
   "source": [
    "amount"
   ]
  },
  {
   "cell_type": "markdown",
   "id": "fb011822-6cf8-4fe0-a30c-004cfe9f6af4",
   "metadata": {},
   "source": [
    "##assignment operations"
   ]
  },
  {
   "cell_type": "code",
   "execution_count": 34,
   "id": "34fc79c0-b474-468e-8fbc-49dc6f1b3ab3",
   "metadata": {},
   "outputs": [],
   "source": [
    "a=10"
   ]
  },
  {
   "cell_type": "code",
   "execution_count": 39,
   "id": "3f7b3b79-e690-40a7-a5b3-794f77c5cbd0",
   "metadata": {},
   "outputs": [],
   "source": [
    "a=a+1"
   ]
  },
  {
   "cell_type": "code",
   "execution_count": 40,
   "id": "7d3c5c85-851b-4b0a-8e40-90e8222fa928",
   "metadata": {},
   "outputs": [
    {
     "data": {
      "text/plain": [
       "13"
      ]
     },
     "execution_count": 40,
     "metadata": {},
     "output_type": "execute_result"
    }
   ],
   "source": [
    "a"
   ]
  },
  {
   "cell_type": "code",
   "execution_count": 45,
   "id": "3723bb24-e8ac-432e-a1fb-a3e10322db24",
   "metadata": {},
   "outputs": [],
   "source": [
    "a =a+1"
   ]
  },
  {
   "cell_type": "code",
   "execution_count": 46,
   "id": "db28f994-bceb-4f10-889e-70dec2bab707",
   "metadata": {},
   "outputs": [
    {
     "data": {
      "text/plain": [
       "17"
      ]
     },
     "execution_count": 46,
     "metadata": {},
     "output_type": "execute_result"
    }
   ],
   "source": [
    "a"
   ]
  },
  {
   "cell_type": "code",
   "execution_count": 47,
   "id": "7d6f07af-5d10-438b-aa5a-af66bcdd0cda",
   "metadata": {},
   "outputs": [],
   "source": [
    "a +=1"
   ]
  },
  {
   "cell_type": "code",
   "execution_count": 48,
   "id": "ffb10861-9fc0-47ac-8422-3f7e57c6e6a5",
   "metadata": {},
   "outputs": [
    {
     "data": {
      "text/plain": [
       "18"
      ]
     },
     "execution_count": 48,
     "metadata": {},
     "output_type": "execute_result"
    }
   ],
   "source": [
    "a"
   ]
  },
  {
   "cell_type": "code",
   "execution_count": 49,
   "id": "bb6b0844-36d5-4060-ac58-89dc55541047",
   "metadata": {},
   "outputs": [],
   "source": [
    "a-=1"
   ]
  },
  {
   "cell_type": "code",
   "execution_count": 50,
   "id": "68f4c9cd-4833-49aa-aab0-35366b239440",
   "metadata": {},
   "outputs": [
    {
     "data": {
      "text/plain": [
       "17"
      ]
     },
     "execution_count": 50,
     "metadata": {},
     "output_type": "execute_result"
    }
   ],
   "source": [
    "a"
   ]
  },
  {
   "cell_type": "code",
   "execution_count": 51,
   "id": "f27ad742-bd10-4d3e-a71b-54008fa199aa",
   "metadata": {},
   "outputs": [],
   "source": [
    "a *=2"
   ]
  },
  {
   "cell_type": "code",
   "execution_count": 52,
   "id": "3de248da-96e2-41b8-a6c7-8b1e63f69e3c",
   "metadata": {},
   "outputs": [
    {
     "data": {
      "text/plain": [
       "34"
      ]
     },
     "execution_count": 52,
     "metadata": {},
     "output_type": "execute_result"
    }
   ],
   "source": [
    "a"
   ]
  },
  {
   "cell_type": "code",
   "execution_count": 53,
   "id": "d0e5a552-a3be-4ea7-897a-77309e93b5fe",
   "metadata": {},
   "outputs": [],
   "source": [
    "a/=2"
   ]
  },
  {
   "cell_type": "code",
   "execution_count": 54,
   "id": "338e05cd-9e6e-470b-aacb-a23ea76b9932",
   "metadata": {},
   "outputs": [
    {
     "data": {
      "text/plain": [
       "17.0"
      ]
     },
     "execution_count": 54,
     "metadata": {},
     "output_type": "execute_result"
    }
   ],
   "source": [
    "a"
   ]
  },
  {
   "cell_type": "code",
   "execution_count": null,
   "id": "54b6b7d4-705c-4458-9386-78c148bd5455",
   "metadata": {},
   "outputs": [],
   "source": []
  }
 ],
 "metadata": {
  "kernelspec": {
   "display_name": "Python 3 (ipykernel)",
   "language": "python",
   "name": "python3"
  },
  "language_info": {
   "codemirror_mode": {
    "name": "ipython",
    "version": 3
   },
   "file_extension": ".py",
   "mimetype": "text/x-python",
   "name": "python",
   "nbconvert_exporter": "python",
   "pygments_lexer": "ipython3",
   "version": "3.13.5"
  }
 },
 "nbformat": 4,
 "nbformat_minor": 5
}
