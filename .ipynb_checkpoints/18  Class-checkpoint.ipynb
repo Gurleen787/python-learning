{
 "cells": [
  {
   "cell_type": "markdown",
   "id": "3d048e1d-68d2-4518-9eb1-402093f61b23",
   "metadata": {},
   "source": [
    "### Class : Defining and binding variables and functions"
   ]
  },
  {
   "cell_type": "code",
   "execution_count": 6,
   "id": "9433c689-ad15-4dd0-8902-96787464fa5b",
   "metadata": {},
   "outputs": [],
   "source": [
    "class Car():\n",
    "    tyre = 4\n",
    "\n",
    "    def move():\n",
    "        print(\"I am moving forward\")\n",
    "    "
   ]
  },
  {
   "cell_type": "code",
   "execution_count": 7,
   "id": "3fa9b7ee-741c-41bd-bdae-827157bed7f8",
   "metadata": {},
   "outputs": [
    {
     "data": {
      "text/plain": [
       "4"
      ]
     },
     "execution_count": 7,
     "metadata": {},
     "output_type": "execute_result"
    }
   ],
   "source": [
    "Car.tyre"
   ]
  },
  {
   "cell_type": "code",
   "execution_count": 8,
   "id": "b1bbda67-e728-4157-904e-83f6dab6324d",
   "metadata": {},
   "outputs": [
    {
     "name": "stdout",
     "output_type": "stream",
     "text": [
      "I am moving forward\n"
     ]
    }
   ],
   "source": [
    "Car.move()"
   ]
  },
  {
   "cell_type": "code",
   "execution_count": 9,
   "id": "833fd4b1-05b9-40b3-afe5-6b0905af617c",
   "metadata": {},
   "outputs": [],
   "source": [
    "class human():\n",
    "    Legs = 2\n",
    "\n",
    "    def eatUp():\n",
    "        print(\"I am eating\")\n",
    "        print(\"now i am full\")\n",
    "        print(\"thankyou\")\n",
    "    "
   ]
  },
  {
   "cell_type": "code",
   "execution_count": 11,
   "id": "249e1435-18f0-49bc-81c5-6cd7c39af558",
   "metadata": {},
   "outputs": [
    {
     "data": {
      "text/plain": [
       "2"
      ]
     },
     "execution_count": 11,
     "metadata": {},
     "output_type": "execute_result"
    }
   ],
   "source": [
    "human.Legs"
   ]
  },
  {
   "cell_type": "code",
   "execution_count": 12,
   "id": "8479a8e1-7afc-4977-9cd7-1649fe986a0d",
   "metadata": {},
   "outputs": [
    {
     "name": "stdout",
     "output_type": "stream",
     "text": [
      "I am eating\n",
      "now i am full\n",
      "thankyou\n"
     ]
    }
   ],
   "source": [
    "human.eatUp()"
   ]
  },
  {
   "cell_type": "code",
   "execution_count": 14,
   "id": "3b1b665f-ec69-402a-b148-da41128ad46a",
   "metadata": {},
   "outputs": [],
   "source": [
    "gadi = Car()"
   ]
  },
  {
   "cell_type": "code",
   "execution_count": 15,
   "id": "82f4b0cb-423a-4e0f-8463-80778f4f6df4",
   "metadata": {},
   "outputs": [],
   "source": [
    "gadi2 = Car()\n"
   ]
  },
  {
   "cell_type": "code",
   "execution_count": 17,
   "id": "2a948367-93d0-4cfb-995d-f9c4a4c18f18",
   "metadata": {},
   "outputs": [
    {
     "data": {
      "text/plain": [
       "4"
      ]
     },
     "execution_count": 17,
     "metadata": {},
     "output_type": "execute_result"
    }
   ],
   "source": [
    "gadi.tyre"
   ]
  },
  {
   "cell_type": "code",
   "execution_count": 18,
   "id": "e7114f82-43ee-40cf-b324-7bc33f826038",
   "metadata": {},
   "outputs": [
    {
     "data": {
      "text/plain": [
       "4"
      ]
     },
     "execution_count": 18,
     "metadata": {},
     "output_type": "execute_result"
    }
   ],
   "source": [
    "gadi2.tyre"
   ]
  },
  {
   "cell_type": "code",
   "execution_count": 19,
   "id": "6b7450d9-13f0-423a-beda-42a9ec59c2a2",
   "metadata": {},
   "outputs": [],
   "source": [
    "gadi.tyre =3"
   ]
  },
  {
   "cell_type": "code",
   "execution_count": 20,
   "id": "b2d16f49-4c07-4cd4-9837-dd48b5e6a0c2",
   "metadata": {},
   "outputs": [
    {
     "data": {
      "text/plain": [
       "3"
      ]
     },
     "execution_count": 20,
     "metadata": {},
     "output_type": "execute_result"
    }
   ],
   "source": [
    "gadi.tyre"
   ]
  },
  {
   "cell_type": "code",
   "execution_count": 21,
   "id": "3e01b207-3b0f-4f04-ac5f-b3a80a5f86da",
   "metadata": {},
   "outputs": [
    {
     "data": {
      "text/plain": [
       "4"
      ]
     },
     "execution_count": 21,
     "metadata": {},
     "output_type": "execute_result"
    }
   ],
   "source": [
    "gadi2.tyre"
   ]
  },
  {
   "cell_type": "code",
   "execution_count": 27,
   "id": "32c21f89-d31c-4bb9-a396-b01de9b4d9b0",
   "metadata": {},
   "outputs": [],
   "source": [
    "## variable is known as attribute"
   ]
  },
  {
   "cell_type": "code",
   "execution_count": 56,
   "id": "4f9ce719-a5bb-42ed-842d-ef59700aae4b",
   "metadata": {},
   "outputs": [],
   "source": [
    "## functions are also known as methods"
   ]
  },
  {
   "cell_type": "code",
   "execution_count": 64,
   "id": "1064449c-7476-43dc-844f-32f9fd6fcd7b",
   "metadata": {},
   "outputs": [],
   "source": [
    "class Car():\n",
    "    tyre = 4\n",
    "\n",
    "    def move(self):\n",
    "        print(\"moving forward\")\n",
    "    "
   ]
  },
  {
   "cell_type": "code",
   "execution_count": 65,
   "id": "9f51cba0-179c-4154-adae-cf726ae10442",
   "metadata": {},
   "outputs": [],
   "source": [
    "gadi2 = Car()"
   ]
  },
  {
   "cell_type": "code",
   "execution_count": 66,
   "id": "8cd8a9a7-afb9-4102-b5dd-008b3e623229",
   "metadata": {},
   "outputs": [
    {
     "name": "stdout",
     "output_type": "stream",
     "text": [
      "moving forward\n"
     ]
    }
   ],
   "source": [
    "gadi2.move()"
   ]
  },
  {
   "cell_type": "code",
   "execution_count": 67,
   "id": "c1ce50d4-c92b-424d-9ceb-e8a36342d955",
   "metadata": {},
   "outputs": [],
   "source": [
    "# self means the item or object is created"
   ]
  },
  {
   "cell_type": "code",
   "execution_count": 68,
   "id": "cef84572-b164-44d3-910b-b6df95f66265",
   "metadata": {},
   "outputs": [],
   "source": [
    "gadi.name =\"nano\""
   ]
  },
  {
   "cell_type": "code",
   "execution_count": 69,
   "id": "c7c7f953-8c7c-4c04-b2b2-da6c86853bb3",
   "metadata": {},
   "outputs": [],
   "source": [
    "gadi2.name =\"alto\""
   ]
  },
  {
   "cell_type": "code",
   "execution_count": 70,
   "id": "518b7b31-ff6a-462f-91eb-3e89204d3e2a",
   "metadata": {},
   "outputs": [
    {
     "data": {
      "text/plain": [
       "'nano'"
      ]
     },
     "execution_count": 70,
     "metadata": {},
     "output_type": "execute_result"
    }
   ],
   "source": [
    "gadi.name"
   ]
  },
  {
   "cell_type": "code",
   "execution_count": 71,
   "id": "85439513-985a-46f9-813b-0f48fe80f63b",
   "metadata": {},
   "outputs": [
    {
     "data": {
      "text/plain": [
       "'alto'"
      ]
     },
     "execution_count": 71,
     "metadata": {},
     "output_type": "execute_result"
    }
   ],
   "source": [
    "gadi2.name"
   ]
  },
  {
   "cell_type": "code",
   "execution_count": 1,
   "id": "294e027c-d3f6-4c75-95f5-be0a5cc5a679",
   "metadata": {},
   "outputs": [],
   "source": [
    "class Car():\n",
    "    # variable belonging to whole class\n",
    "    tyre = 4\n",
    "\n",
    "    def __init__(self,model,year=None):#automatically runs when the object is created\n",
    "       # avriable of the object\n",
    "        self.model = model\n",
    "        self.year = year\n",
    "\n",
    "    def introduction(self):\n",
    "        print(f'hi i am {self.model} and i was made in {self.year}')\n",
    "        \n",
    "    def move(self):\n",
    "            print(\"moving forward\")\n"
   ]
  },
  {
   "cell_type": "code",
   "execution_count": 2,
   "id": "d2f3844c-3349-4ea2-9058-3386de7dd8f8",
   "metadata": {},
   "outputs": [],
   "source": [
    "## init functions are the special  functions that will run automatically."
   ]
  },
  {
   "cell_type": "code",
   "execution_count": 5,
   "id": "c37ec440-d00d-40b0-a546-41f53d26b636",
   "metadata": {},
   "outputs": [],
   "source": [
    "gadi = Car(\"nano\",2025)"
   ]
  },
  {
   "cell_type": "code",
   "execution_count": 6,
   "id": "837fc0e6-19e0-4816-a7a2-dab7c52a7bd4",
   "metadata": {},
   "outputs": [
    {
     "name": "stdout",
     "output_type": "stream",
     "text": [
      "hi i am nano and i was made in 2025\n"
     ]
    }
   ],
   "source": [
    "gadi.introduction()"
   ]
  },
  {
   "cell_type": "code",
   "execution_count": 7,
   "id": "5cf0776d-47c4-4b55-8006-fa652879027a",
   "metadata": {},
   "outputs": [],
   "source": [
    "gadi2 = Car(\"alto\",2010)"
   ]
  },
  {
   "cell_type": "code",
   "execution_count": 9,
   "id": "51938abb-07a9-4927-850f-2174466bf6fe",
   "metadata": {},
   "outputs": [
    {
     "name": "stdout",
     "output_type": "stream",
     "text": [
      "hi i am alto and i was made in 2010\n"
     ]
    }
   ],
   "source": [
    "gadi2.introduction()"
   ]
  },
  {
   "cell_type": "code",
   "execution_count": 10,
   "id": "08d4917c-db9a-4f1f-924d-2b76fcaf100d",
   "metadata": {},
   "outputs": [],
   "source": [
    "class human():\n",
    "    Legs = 2\n",
    "\n",
    "    def eatUp():\n",
    "        print(\"i am eating\")\n",
    "        print(\"now i am full\")\n",
    "        print(\"thank you\")"
   ]
  },
  {
   "cell_type": "code",
   "execution_count": 12,
   "id": "d578e471-f0a2-4df6-8051-74656c93c861",
   "metadata": {},
   "outputs": [
    {
     "data": {
      "text/plain": [
       "2"
      ]
     },
     "execution_count": 12,
     "metadata": {},
     "output_type": "execute_result"
    }
   ],
   "source": [
    "human.Legs"
   ]
  },
  {
   "cell_type": "code",
   "execution_count": 13,
   "id": "29011f6a-c9cc-480f-9c37-ebbea5780e20",
   "metadata": {},
   "outputs": [
    {
     "name": "stdout",
     "output_type": "stream",
     "text": [
      "i am eating\n",
      "now i am full\n",
      "thank you\n"
     ]
    }
   ],
   "source": [
    "human.eatUp()"
   ]
  },
  {
   "cell_type": "markdown",
   "id": "70de0933-d2db-4124-88ea-705ed08763aa",
   "metadata": {},
   "source": [
    "### Magic functions"
   ]
  },
  {
   "cell_type": "code",
   "execution_count": 11,
   "id": "1e84a371-1091-42aa-8b01-c675f5f32b36",
   "metadata": {},
   "outputs": [],
   "source": [
    "class Account():\n",
    "    BANK_NAME =\"SBI\"\n",
    "\n",
    "   # runs when object is created\n",
    "    def __init__(self, name, initialDeposit=0):\n",
    "        self.name = name\n",
    "        self.balance = initialDeposit \n",
    "        print(f\"\"\"{name} WELCOME TO {self.BANK_NAME}\"\"\")\n",
    "# when before object is printed\n",
    "    def __str__(self):\n",
    "        # mandatory to run a str\n",
    "        a =f\"\"\"\n",
    "        =========={self.BANK_NAME}===========\n",
    "        Account Holder : {self.name}\n",
    "        Account balance : {self.balance}\n",
    "        \"\"\"\n",
    "        return a\n",
    "\n",
    "    def __del__(self):\n",
    "       # when memory location is cleared\n",
    "        pass"
   ]
  },
  {
   "cell_type": "code",
   "execution_count": 12,
   "id": "c7490bd9-b95f-447d-8569-41c26359b63e",
   "metadata": {},
   "outputs": [
    {
     "name": "stdout",
     "output_type": "stream",
     "text": [
      "Gurleen WELCOME TO SBI\n"
     ]
    }
   ],
   "source": [
    "pehlaAccount = Account('Gurleen', 50000)"
   ]
  },
  {
   "cell_type": "code",
   "execution_count": 13,
   "id": "eab94575-9921-4856-bd99-83f614e255d9",
   "metadata": {},
   "outputs": [
    {
     "name": "stdout",
     "output_type": "stream",
     "text": [
      "\n",
      "        ==========SBI===========\n",
      "        Account Holder : Gurleen\n",
      "        Account balance : 50000\n",
      "        \n"
     ]
    }
   ],
   "source": [
    "print(pehlaAccount)"
   ]
  },
  {
   "cell_type": "markdown",
   "id": "ab921be3-bdc0-49dd-83d3-c7d9ba467d0b",
   "metadata": {},
   "source": [
    "### Incapsulation"
   ]
  },
  {
   "cell_type": "code",
   "execution_count": 14,
   "id": "ef8d6c82-1486-4c92-bd91-29f67c7ccc2b",
   "metadata": {},
   "outputs": [],
   "source": [
    "class Account():\n",
    "    BANK_NAME =\"SBI\"\n",
    "\n",
    "   # runs when object is created\n",
    "    def __init__(self, name, initialDeposit=0):\n",
    "        self.name = name\n",
    "        self.balance = initialDeposit \n",
    "        print(f\"\"\"{name} WELCOME TO {self.BANK_NAME}\"\"\")\n",
    "# when before object is printed\n",
    "    def __str__(self):\n",
    "        # mandatory to run a str\n",
    "        a =f\"\"\"\n",
    "        =========={self.BANK_NAME}===========\n",
    "        Account Holder : {self.name}\n",
    "        Account balance : {self.balance}\n",
    "        \"\"\"\n",
    "        return a\n",
    "\n",
    "    def __del__(self):\n",
    "       # when memory location is cleared\n",
    "        pass\n",
    "    "
   ]
  },
  {
   "cell_type": "code",
   "execution_count": 15,
   "id": "5688406e-810d-4faf-8529-826a15adaca4",
   "metadata": {},
   "outputs": [
    {
     "name": "stdout",
     "output_type": "stream",
     "text": [
      "Gurleen WELCOME TO SBI\n"
     ]
    }
   ],
   "source": [
    "pehlaAccount = Account('Gurleen',50000)"
   ]
  },
  {
   "cell_type": "code",
   "execution_count": 16,
   "id": "17592794-ef26-43d4-9dad-3ad447793e83",
   "metadata": {},
   "outputs": [],
   "source": [
    "pehlaAccount.balance = 0"
   ]
  },
  {
   "cell_type": "code",
   "execution_count": 17,
   "id": "bbce5764-8b5b-4048-9640-a8bf57a4a740",
   "metadata": {},
   "outputs": [
    {
     "name": "stdout",
     "output_type": "stream",
     "text": [
      "\n",
      "        ==========SBI===========\n",
      "        Account Holder : Gurleen\n",
      "        Account balance : 0\n",
      "        \n"
     ]
    }
   ],
   "source": [
    "print(pehlaAccount)"
   ]
  },
  {
   "cell_type": "code",
   "execution_count": 20,
   "id": "2fa4465f-01d4-419e-8f0b-b4cfccc7682d",
   "metadata": {},
   "outputs": [],
   "source": [
    "class Account():\n",
    "    BANK_NAME = \"SBI\"\n",
    "    def __init__(self, name, initialDeposit=0):\n",
    "        # runs when object is created\n",
    "        self.name = name\n",
    "        self.__balance = initialDeposit\n",
    "        print(f\"{self.name} WELCOME TO {self.BANK_NAME}\")\n",
    "\n",
    "    def __str__(self):\n",
    "        # mandatory to return a str\n",
    "        # runs before object is printed\n",
    "        a = f\"\"\"\n",
    "            =========== {self.BANK_NAME} =============\n",
    "            Account Holder  : {self.name} \n",
    "            Account Balance : {self.__balance}\n",
    "        \"\"\"\n",
    "        return a\n",
    "\n",
    "    def __del__(self):\n",
    "        # when memory location is cleared\n",
    "        # runs before object is deleted\n",
    "        a = f\"\"\"\n",
    "            =========== {self.BANK_NAME} =============\n",
    "            we are sorry to see you go. \n",
    "        \"\"\"\n",
    "        print(a)\n",
    "\n",
    "\n",
    "    def __transection(self, ammount, T ):\n",
    "        print(f'{ammount} was {T}')\n",
    "        print(f'current balance {self.__balance}')\n",
    "        if T == \"Credited\":\n",
    "            print(f'initial ammount {self.__balance - ammount}')\n",
    "        else:\n",
    "            print(f'initial ammount {self.__balance + ammount}')\n",
    "    \n",
    "    def credit(self, ammount=0):\n",
    "        self.__balance += ammount\n",
    "        self.__transection(ammount, \"Credited\")\n",
    "\n",
    "    def debit(self, ammount=0):\n",
    "        if self.__balance > ammount:\n",
    "            self.__balance -= ammount\n",
    "            self.__transection(ammount, \"Debited\")\n",
    "            return ammount\n",
    "        else:\n",
    "            print(\"insufficient balance\")"
   ]
  },
  {
   "cell_type": "code",
   "execution_count": 21,
   "id": "a934f5b2-fa28-409a-9e3e-1e7d6a91a915",
   "metadata": {},
   "outputs": [
    {
     "name": "stdout",
     "output_type": "stream",
     "text": [
      "Gurleen WELCOME TO SBI\n"
     ]
    }
   ],
   "source": [
    "pehlaAccount = Account(\"Gurleen\",50000)"
   ]
  },
  {
   "cell_type": "code",
   "execution_count": 22,
   "id": "27a677d0-7481-470b-a8a6-63ebbf4d5204",
   "metadata": {},
   "outputs": [
    {
     "name": "stdout",
     "output_type": "stream",
     "text": [
      "30000 was Credited\n",
      "current balance 80000\n",
      "initial ammount 50000\n"
     ]
    }
   ],
   "source": [
    "pehlaAccount.credit(30000)"
   ]
  },
  {
   "cell_type": "code",
   "execution_count": 23,
   "id": "c0d65856-cc60-4c1d-82c0-ec84ca8d3a38",
   "metadata": {},
   "outputs": [
    {
     "name": "stdout",
     "output_type": "stream",
     "text": [
      "\n",
      "            =========== SBI =============\n",
      "            Account Holder  : Gurleen \n",
      "            Account Balance : 80000\n",
      "        \n"
     ]
    }
   ],
   "source": [
    "print(pehlaAccount)"
   ]
  },
  {
   "cell_type": "code",
   "execution_count": 25,
   "id": "66b0834c-bbf2-4982-b997-1e6617df8c68",
   "metadata": {},
   "outputs": [
    {
     "name": "stdout",
     "output_type": "stream",
     "text": [
      "2000 was Debited\n",
      "current balance 78000\n",
      "initial ammount 80000\n"
     ]
    },
    {
     "data": {
      "text/plain": [
       "2000"
      ]
     },
     "execution_count": 25,
     "metadata": {},
     "output_type": "execute_result"
    }
   ],
   "source": [
    "pehlaAccount.debit(2000)"
   ]
  },
  {
   "cell_type": "markdown",
   "id": "345840c8-6e57-4f01-8c70-9aeefc97cde9",
   "metadata": {},
   "source": [
    "### Inheritence\n"
   ]
  },
  {
   "cell_type": "code",
   "execution_count": 2,
   "id": "fbc255f4-e352-4555-8467-0070b4f02bb5",
   "metadata": {},
   "outputs": [],
   "source": [
    "#four pillars of object oriented programming are\n",
    "#encapsulation\n",
    "#abstraction\n",
    "#inheritence\n",
    "#polymorphism"
   ]
  },
  {
   "cell_type": "code",
   "execution_count": 71,
   "id": "6ad465b1-d535-49b7-8e30-af1e6af73b29",
   "metadata": {},
   "outputs": [],
   "source": [
    "class Car():\n",
    "    TYRE = 4\n",
    "\n",
    "    def __init__(self, company):\n",
    "        self.company = company\n",
    "        print(\"car was made\")\n",
    "\n",
    "    def __del__(self):\n",
    "        print(\"car was scraped\")\n",
    "\n",
    "    def __str__(self):\n",
    "        return(\"this is a car\")\n",
    "\n",
    "    def __intro__(self):\n",
    "        print(\"hi this is a car\")\n",
    "\n",
    "    def move(self):\n",
    "        print(\"moving forward\")\n",
    "\n",
    "    def fuelUP(self):\n",
    "        print(\"fuel up\")"
   ]
  },
  {
   "cell_type": "code",
   "execution_count": 72,
   "id": "20a69178-a1fd-4e05-a0b2-0b69aa9782ca",
   "metadata": {},
   "outputs": [
    {
     "name": "stdout",
     "output_type": "stream",
     "text": [
      "car was scraped\n"
     ]
    }
   ],
   "source": [
    "gadi = PetrolCar(\"company\")"
   ]
  },
  {
   "cell_type": "code",
   "execution_count": 73,
   "id": "e2be5f2b-5625-4f01-9954-7ec59e8e36a4",
   "metadata": {},
   "outputs": [
    {
     "data": {
      "text/plain": [
       "'Petrol'"
      ]
     },
     "execution_count": 73,
     "metadata": {},
     "output_type": "execute_result"
    }
   ],
   "source": [
    "gadi.fuel"
   ]
  },
  {
   "cell_type": "code",
   "execution_count": 74,
   "id": "fff947d0-b364-4542-9a11-74f895bdd09d",
   "metadata": {},
   "outputs": [
    {
     "name": "stdout",
     "output_type": "stream",
     "text": [
      "this is a petrol car\n",
      "fuel up\n"
     ]
    }
   ],
   "source": [
    "gadi.discription()"
   ]
  },
  {
   "cell_type": "code",
   "execution_count": 75,
   "id": "d74bbfcc-374d-481a-b101-eeed1a49cda1",
   "metadata": {},
   "outputs": [
    {
     "data": {
      "text/plain": [
       "'company'"
      ]
     },
     "execution_count": 75,
     "metadata": {},
     "output_type": "execute_result"
    }
   ],
   "source": [
    "gadi.model"
   ]
  },
  {
   "cell_type": "code",
   "execution_count": 76,
   "id": "096d5850-4f49-4eef-abdd-3d5cf3913352",
   "metadata": {},
   "outputs": [],
   "source": [
    "class CngCar(Car):\n",
    "    fuel = \"CNG\"\n",
    "\n",
    "    #function overloading\n",
    "    def __init__(self, company, model):\n",
    "        #super\n",
    "        super().__init__(company)\n",
    "        self.model = model\n",
    "\n",
    "    #function overloading = rewriting a function\n",
    "    def intro(self):\n",
    "        print(\"this is a cng car\")\n",
    "    \n",
    "    #super means parent class\n",
    "    def discription(self):\n",
    "        print(\"this is a cng car\")\n",
    "        super().fuelUP()\n",
    "        "
   ]
  },
  {
   "cell_type": "code",
   "execution_count": 77,
   "id": "b21143cb-d0be-45ae-8886-981ff6e3bb17",
   "metadata": {},
   "outputs": [
    {
     "name": "stdout",
     "output_type": "stream",
     "text": [
      "car was made\n",
      "car was scraped\n"
     ]
    }
   ],
   "source": [
    "gadi = CngCar(\"TATA\",\"nano\")"
   ]
  },
  {
   "cell_type": "code",
   "execution_count": 78,
   "id": "b932498a-2497-440c-95cb-2047d22ca376",
   "metadata": {},
   "outputs": [
    {
     "name": "stdout",
     "output_type": "stream",
     "text": [
      "fuel up\n"
     ]
    }
   ],
   "source": [
    "gadi.fuelUP()"
   ]
  },
  {
   "cell_type": "code",
   "execution_count": 79,
   "id": "8dba1e4c-47c6-4fc4-863f-336232fe9788",
   "metadata": {},
   "outputs": [
    {
     "name": "stdout",
     "output_type": "stream",
     "text": [
      "this is a cng car\n",
      "fuel up\n"
     ]
    }
   ],
   "source": [
    "gadi.discription()"
   ]
  },
  {
   "cell_type": "code",
   "execution_count": 80,
   "id": "470125b0-9c08-4775-9928-71a9e68fa8df",
   "metadata": {},
   "outputs": [
    {
     "data": {
      "text/plain": [
       "'nano'"
      ]
     },
     "execution_count": 80,
     "metadata": {},
     "output_type": "execute_result"
    }
   ],
   "source": [
    "gadi.model"
   ]
  },
  {
   "cell_type": "code",
   "execution_count": 81,
   "id": "4716d9d3-ae67-4d26-a294-423d4641cf53",
   "metadata": {},
   "outputs": [
    {
     "data": {
      "text/plain": [
       "'TATA'"
      ]
     },
     "execution_count": 81,
     "metadata": {},
     "output_type": "execute_result"
    }
   ],
   "source": [
    "gadi.company"
   ]
  },
  {
   "cell_type": "code",
   "execution_count": 82,
   "id": "2d650489-8223-4f20-9a01-71c8de9031bc",
   "metadata": {},
   "outputs": [
    {
     "name": "stdout",
     "output_type": "stream",
     "text": [
      "this is a cng car\n"
     ]
    }
   ],
   "source": [
    "gadi.intro()"
   ]
  },
  {
   "cell_type": "code",
   "execution_count": 83,
   "id": "0838a466-d6b7-4186-b8fd-6af0c5111aa7",
   "metadata": {},
   "outputs": [
    {
     "name": "stdout",
     "output_type": "stream",
     "text": [
      "car was made\n",
      "car was scraped\n"
     ]
    }
   ],
   "source": [
    "cngGadi = CngCar(\"Tata\",\"nano\")"
   ]
  },
  {
   "cell_type": "code",
   "execution_count": 84,
   "id": "bd2e8821-4caa-4134-975b-3e907c27db25",
   "metadata": {},
   "outputs": [
    {
     "name": "stdout",
     "output_type": "stream",
     "text": [
      "this is a cng car\n"
     ]
    }
   ],
   "source": [
    "cngGadi.intro()"
   ]
  },
  {
   "cell_type": "code",
   "execution_count": 5,
   "id": "e0e054fc-49d8-46f6-9d25-4451fa59d939",
   "metadata": {},
   "outputs": [],
   "source": [
    "# names are same and functions are different is known as polymorphism."
   ]
  },
  {
   "cell_type": "markdown",
   "id": "e7922207-a76e-4095-83b0-6c82505df756",
   "metadata": {},
   "source": [
    "## Polymorphism"
   ]
  },
  {
   "cell_type": "code",
   "execution_count": 39,
   "id": "201f56a0-23b3-41df-a77f-387e0ab58d12",
   "metadata": {},
   "outputs": [],
   "source": [
    "import numpy"
   ]
  },
  {
   "cell_type": "code",
   "execution_count": 40,
   "id": "5834d675-a8b8-4f9b-bda6-86a622d87b10",
   "metadata": {},
   "outputs": [],
   "source": [
    "import random"
   ]
  },
  {
   "cell_type": "code",
   "execution_count": 42,
   "id": "bba0b655-3814-4c71-ad81-f5da9e8cb847",
   "metadata": {},
   "outputs": [
    {
     "data": {
      "text/plain": [
       "9"
      ]
     },
     "execution_count": 42,
     "metadata": {},
     "output_type": "execute_result"
    }
   ],
   "source": [
    "random.randint(5,10)"
   ]
  },
  {
   "cell_type": "code",
   "execution_count": 45,
   "id": "d93b5feb-2393-4c55-b53c-a6557246c954",
   "metadata": {},
   "outputs": [
    {
     "data": {
      "text/plain": [
       "array([2, 2, 3, 3, 1, 2, 2, 4, 1, 3], dtype=int32)"
      ]
     },
     "execution_count": 45,
     "metadata": {},
     "output_type": "execute_result"
    }
   ],
   "source": [
    "numpy.random.randint(1,5,10)"
   ]
  },
  {
   "cell_type": "code",
   "execution_count": null,
   "id": "fbd8260a-e988-49a1-8548-33d35647acae",
   "metadata": {},
   "outputs": [],
   "source": []
  },
  {
   "cell_type": "markdown",
   "id": "d1f2077c-4ed3-4be3-99b3-55decd0a7a05",
   "metadata": {},
   "source": [
    "### Abstraction"
   ]
  },
  {
   "cell_type": "code",
   "execution_count": 6,
   "id": "1ebd193a-2cd5-4da5-94c6-95fdd769040b",
   "metadata": {},
   "outputs": [],
   "source": [
    "# if a child class is being created i want to make it mandatory to function overlaoding over a particular function"
   ]
  },
  {
   "cell_type": "code",
   "execution_count": 5,
   "id": "25d8e59a-d242-49b2-b674-86794749ac4c",
   "metadata": {},
   "outputs": [],
   "source": [
    "from abc import ABC, abstractmethod, abstractstaticmethod"
   ]
  },
  {
   "cell_type": "code",
   "execution_count": 6,
   "id": "fc3e8d8b-15b3-4678-bf4d-a6d724bde076",
   "metadata": {},
   "outputs": [],
   "source": [
    "# a decorator changes functionality of eithier input output or the function"
   ]
  },
  {
   "cell_type": "code",
   "execution_count": 7,
   "id": "8ad45fdc-5c0a-4bfc-914d-fcd5b10600e6",
   "metadata": {},
   "outputs": [],
   "source": [
    "class Car(ABC):\n",
    "    carType = \"Simple\"\n",
    "\n",
    "    def hello(self):\n",
    "        print(\"hello everyone\")\n",
    "\n",
    "\n",
    "    @abstractmethod\n",
    "    def intro(self):\n",
    "        print(f\"this is a {self.carType}\")"
   ]
  },
  {
   "cell_type": "code",
   "execution_count": 8,
   "id": "f263bdee-5f1a-4e41-9476-c03818f98450",
   "metadata": {},
   "outputs": [],
   "source": [
    "class DieselCar(Car):\n",
    "               \n",
    "    def intro(self):\n",
    "        print(\"this is a diesel car\")"
   ]
  },
  {
   "cell_type": "code",
   "execution_count": 9,
   "id": "84835c2e-d2a2-4593-a541-1712ba4867ae",
   "metadata": {},
   "outputs": [],
   "source": [
    "dgadi = DieselCar()"
   ]
  },
  {
   "cell_type": "code",
   "execution_count": 10,
   "id": "769e023f-b6c1-4a4f-86ac-8e0a6184c452",
   "metadata": {},
   "outputs": [
    {
     "name": "stdout",
     "output_type": "stream",
     "text": [
      "this is a diesel car\n"
     ]
    }
   ],
   "source": [
    "dgadi.intro()"
   ]
  },
  {
   "cell_type": "code",
   "execution_count": 12,
   "id": "5052134f-3bde-424c-89c1-0fd91cf1967d",
   "metadata": {},
   "outputs": [
    {
     "name": "stdout",
     "output_type": "stream",
     "text": [
      "hello everyone\n"
     ]
    }
   ],
   "source": [
    "dgadi.hello()"
   ]
  },
  {
   "cell_type": "code",
   "execution_count": null,
   "id": "df7901e2-14c4-4328-966b-db32c3df703b",
   "metadata": {},
   "outputs": [],
   "source": [
    "# functions are called methods and variables are called attributes"
   ]
  },
  {
   "cell_type": "code",
   "execution_count": 17,
   "id": "b0aa601d-c5dd-477e-aec7-322906b9ead5",
   "metadata": {},
   "outputs": [],
   "source": [
    "class Animal():\n",
    "    good = \"yes\"\n",
    "    \n",
    "    def __init__(self):\n",
    "        self.name =\"Animal\"\n",
    "\n",
    "   # object based\n",
    "    \n",
    "    def sayHello(self):\n",
    "        print(\"hello everyone nice to meet you\")\n",
    "        \n",
    "  # static/class \n",
    "    @staticmethod\n",
    "    def sayHi():\n",
    "        print(\"hello everyone nice to meet you\")\n",
    "        "
   ]
  },
  {
   "cell_type": "code",
   "execution_count": 18,
   "id": "d5f2789b-36f3-4871-ae34-d493f0349fe4",
   "metadata": {},
   "outputs": [],
   "source": [
    "dog = Animal()"
   ]
  },
  {
   "cell_type": "code",
   "execution_count": 19,
   "id": "6ddffa8e-6e22-44d9-812c-8b8d9fa99453",
   "metadata": {},
   "outputs": [
    {
     "name": "stdout",
     "output_type": "stream",
     "text": [
      "hello everyone nice to meet you\n"
     ]
    }
   ],
   "source": [
    "dog.sayHi()"
   ]
  },
  {
   "cell_type": "code",
   "execution_count": 20,
   "id": "da75b0c6-b73c-4ee2-898c-9e80e971ebb6",
   "metadata": {},
   "outputs": [],
   "source": [
    "cat = Animal()"
   ]
  },
  {
   "cell_type": "code",
   "execution_count": 23,
   "id": "2662f8e5-182e-400b-869e-bab21e3c65cd",
   "metadata": {},
   "outputs": [],
   "source": [
    "# self is written object based\n",
    "# self is not written class based"
   ]
  },
  {
   "cell_type": "code",
   "execution_count": 1,
   "id": "3ed20a62-7b45-468f-bbdb-6c5f63dbf01c",
   "metadata": {},
   "outputs": [],
   "source": [
    "ranks = \"A 2 3 4 5 6 7 8 9 10 J Q K\".split()"
   ]
  },
  {
   "cell_type": "code",
   "execution_count": 3,
   "id": "375810da-ad33-40d6-8c50-14cc4a4c2d41",
   "metadata": {},
   "outputs": [],
   "source": [
    "suits =\"Spade Heart Diamond Club\".split()"
   ]
  },
  {
   "cell_type": "code",
   "execution_count": 11,
   "id": "73cbf37f-603e-456c-9726-7deb02849d75",
   "metadata": {},
   "outputs": [],
   "source": [
    "class card():\n",
    "    def __init__(self, rank, suit):\n",
    "        self.rank = rank\n",
    "        self.suit = suit\n",
    "\n",
    "    def __str__(self):\n",
    "        return f'{self.rank} of {self.suit}'\n",
    "\n",
    "    def value(self):\n",
    "        a = self.rank\n",
    "        if a == \"A\":\n",
    "            return 1\n",
    "\n",
    "        elif a == \"J\":\n",
    "            return 11\n",
    "\n",
    "        elif a ==\"Q\":\n",
    "            return 12\n",
    "\n",
    "        elif a == \"K\":\n",
    "            return 13\n",
    "\n",
    "        else:\n",
    "            return int(a)"
   ]
  },
  {
   "cell_type": "code",
   "execution_count": 12,
   "id": "6f949d9f-b17f-44df-8b34-608c7c614c0d",
   "metadata": {},
   "outputs": [],
   "source": [
    "class DeckOfCard():\n",
    "    def __init__(self):\n",
    "        self.suits = \"Spade Heart Diamond Club\".split()\n",
    "        self.ranks = \"A 2 3 4 5 6 7 8 9 J Q K\".split()\n",
    "\n",
    "        self.Cards = []\n",
    "        for suit in self.suits:\n",
    "            for rank in self.ranks:\n",
    "                Patta = Card(rank,suit)\n",
    "                self.Cards.append(Patta)\n",
    "\n",
    "\n",
    "    def __str__(self):\n",
    "        a =\"\"\n",
    "        for card in self.Cards:\n",
    "            a += f'{card.rank} of {card.suit} \\n'\n",
    "            return a\n",
    "\n",
    "\n",
    "    def deal(self):\n",
    "        return self.Cards.pop()\n",
    "\n",
    "    def shuffle(self):\n",
    "        random.shuffle(self.Cards)\n",
    "        "
   ]
  },
  {
   "cell_type": "code",
   "execution_count": 13,
   "id": "1b78c9b3-8dbe-4bbd-b57e-dd748053b9eb",
   "metadata": {},
   "outputs": [
    {
     "ename": "NameError",
     "evalue": "name 'Card' is not defined",
     "output_type": "error",
     "traceback": [
      "\u001b[1;31m---------------------------------------------------------------------------\u001b[0m",
      "\u001b[1;31mNameError\u001b[0m                                 Traceback (most recent call last)",
      "Cell \u001b[1;32mIn[13], line 1\u001b[0m\n\u001b[1;32m----> 1\u001b[0m deck \u001b[38;5;241m=\u001b[39m DeckOfCard()\n",
      "Cell \u001b[1;32mIn[12], line 9\u001b[0m, in \u001b[0;36mDeckOfCard.__init__\u001b[1;34m(self)\u001b[0m\n\u001b[0;32m      7\u001b[0m \u001b[38;5;28;01mfor\u001b[39;00m suit \u001b[38;5;129;01min\u001b[39;00m \u001b[38;5;28mself\u001b[39m\u001b[38;5;241m.\u001b[39msuits:\n\u001b[0;32m      8\u001b[0m     \u001b[38;5;28;01mfor\u001b[39;00m rank \u001b[38;5;129;01min\u001b[39;00m \u001b[38;5;28mself\u001b[39m\u001b[38;5;241m.\u001b[39mranks:\n\u001b[1;32m----> 9\u001b[0m         Patta \u001b[38;5;241m=\u001b[39m Card(rank,suit)\n\u001b[0;32m     10\u001b[0m         \u001b[38;5;28mself\u001b[39m\u001b[38;5;241m.\u001b[39mCards\u001b[38;5;241m.\u001b[39mappend(Patta)\n",
      "\u001b[1;31mNameError\u001b[0m: name 'Card' is not defined"
     ]
    }
   ],
   "source": [
    "deck = DeckOfCard()"
   ]
  },
  {
   "cell_type": "code",
   "execution_count": 14,
   "id": "4f626c62-dec8-478b-8521-dde8ac92f26f",
   "metadata": {},
   "outputs": [],
   "source": [
    "class Card:\n",
    "    def _init_(self, rank, suit):\n",
    "        self.rank = rank\n",
    "        self.suit = suit\n",
    "\n",
    "    def _str_(self):\n",
    "        return f\"{self.rank} of {self.suit}\""
   ]
  },
  {
   "cell_type": "code",
   "execution_count": 15,
   "id": "7f689037-0298-4d0e-ba1c-b22e248317ea",
   "metadata": {},
   "outputs": [],
   "source": [
    "import random\n",
    "\n",
    "class DeckOfCard:\n",
    "    def _init_(self):\n",
    "        self.suits = [\"Hearts\", \"Diamonds\", \"Clubs\", \"Spades\"]\n",
    "        self.ranks = [\"2\", \"3\", \"4\", \"5\", \"6\", \"7\", \"8\", \"9\", \"10\", \"J\", \"Q\", \"K\", \"A\"]\n",
    "        self.Cards = []\n",
    "\n",
    "        for suit in self.suits:\n",
    "            for rank in self.ranks:\n",
    "                patta = Card(rank, suit)\n",
    "                self.Cards.append(patta)\n",
    "\n",
    "    def _str_(self):\n",
    "        a = \"\"\n",
    "        for card in self.Cards:\n",
    "            a += f\"{card.rank} of {card.suit}\\n\"\n",
    "        return a\n",
    "\n",
    "    def deal(self):\n",
    "        return self.Cards.pop()\n",
    "\n",
    "    def shuffle(self):\n",
    "        random.shuffle(self.Cards)"
   ]
  },
  {
   "cell_type": "code",
   "execution_count": 17,
   "id": "ad4faa3d-19b7-48fb-85c9-c5b490b91f17",
   "metadata": {},
   "outputs": [],
   "source": [
    "deck = DeckOfCard"
   ]
  },
  {
   "cell_type": "code",
   "execution_count": null,
   "id": "a4d2667c-1a63-4674-8cb5-7c8b657dbeeb",
   "metadata": {},
   "outputs": [],
   "source": []
  }
 ],
 "metadata": {
  "kernelspec": {
   "display_name": "Python 3 (ipykernel)",
   "language": "python",
   "name": "python3"
  },
  "language_info": {
   "codemirror_mode": {
    "name": "ipython",
    "version": 3
   },
   "file_extension": ".py",
   "mimetype": "text/x-python",
   "name": "python",
   "nbconvert_exporter": "python",
   "pygments_lexer": "ipython3",
   "version": "3.13.5"
  }
 },
 "nbformat": 4,
 "nbformat_minor": 5
}
