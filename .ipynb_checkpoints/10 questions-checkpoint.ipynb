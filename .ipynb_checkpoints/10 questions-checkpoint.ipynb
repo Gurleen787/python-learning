{
 "cells": [
  {
   "cell_type": "code",
   "execution_count": 3,
   "id": "762f3c55-8c2f-41bb-ab5b-856d69a3e357",
   "metadata": {},
   "outputs": [
    {
     "name": "stdout",
     "output_type": "stream",
     "text": [
      "0\n",
      "1\n",
      "2\n",
      "3\n",
      "4\n",
      "5\n",
      "6\n"
     ]
    }
   ],
   "source": [
    "name = \"Gurleen\"\n",
    "i = 0\n",
    "n = len(name)\n",
    "while i < n:\n",
    "    print(i)\n",
    "    i += 1"
   ]
  },
  {
   "cell_type": "code",
   "execution_count": 4,
   "id": "8c2eaf1e-be4a-4404-ab61-9928f8fcbff3",
   "metadata": {},
   "outputs": [
    {
     "name": "stdout",
     "output_type": "stream",
     "text": [
      "G\n",
      "u\n",
      "r\n",
      "l\n",
      "e\n",
      "e\n",
      "n\n"
     ]
    }
   ],
   "source": [
    "name = \"Gurleen\"\n",
    "i = 0\n",
    "n = len(name)\n",
    "while i < n:\n",
    "    print(name[i])\n",
    "    i += 1"
   ]
  },
  {
   "cell_type": "code",
   "execution_count": 5,
   "id": "9e03f6d5-ea43-4785-a446-ad1aeda7b7de",
   "metadata": {},
   "outputs": [],
   "source": [
    "d ={\"name\":\"gurleen\",\"age\":24,\"education\":\"PCM\"}\n"
   ]
  },
  {
   "cell_type": "code",
   "execution_count": 6,
   "id": "f4afe69f-7b41-4963-9750-ab78359c3e26",
   "metadata": {},
   "outputs": [
    {
     "data": {
      "text/plain": [
       "'name'"
      ]
     },
     "execution_count": 6,
     "metadata": {},
     "output_type": "execute_result"
    }
   ],
   "source": [
    "list(d.keys())[0]"
   ]
  },
  {
   "cell_type": "code",
   "execution_count": 7,
   "id": "8f39066d-ac05-4383-8023-955bebe2441c",
   "metadata": {},
   "outputs": [
    {
     "name": "stdout",
     "output_type": "stream",
     "text": [
      "gurleen\n",
      "24\n",
      "PCM\n"
     ]
    }
   ],
   "source": [
    "d = {\"name\":\"gurleen\",\"age\":24,\"education\":\"PCM\"}\n",
    "i = 0\n",
    "n = len(d)\n",
    "k = list(d.values())\n",
    "\n",
    "while i < n:\n",
    "    value = k[i]\n",
    "    print(value)\n",
    "    i += 1"
   ]
  },
  {
   "cell_type": "code",
   "execution_count": 8,
   "id": "e2ae041b-4891-4a15-acc3-e90c0ffe2f96",
   "metadata": {},
   "outputs": [
    {
     "data": {
      "text/plain": [
       "dict_values(['gurleen', 24, 'PCM'])"
      ]
     },
     "execution_count": 8,
     "metadata": {},
     "output_type": "execute_result"
    }
   ],
   "source": [
    "d.values()"
   ]
  },
  {
   "cell_type": "code",
   "execution_count": 9,
   "id": "effa1de1-bb7e-4899-9f01-e46b8e222c76",
   "metadata": {},
   "outputs": [],
   "source": [
    "l = [1,4,3,6,9,2,5,8]"
   ]
  },
  {
   "cell_type": "code",
   "execution_count": 10,
   "id": "c3bd28ec-7cdd-4734-bcce-a9bf7363fdfd",
   "metadata": {},
   "outputs": [
    {
     "data": {
      "text/plain": [
       "[1, 4, 3, 6, 9, 2, 5, 8]"
      ]
     },
     "execution_count": 10,
     "metadata": {},
     "output_type": "execute_result"
    }
   ],
   "source": [
    "l"
   ]
  },
  {
   "cell_type": "code",
   "execution_count": 11,
   "id": "43d844eb-adf1-4eac-ad5a-8c418c640640",
   "metadata": {},
   "outputs": [
    {
     "name": "stdout",
     "output_type": "stream",
     "text": [
      "gurleen\n",
      "24\n",
      "PCM\n"
     ]
    }
   ],
   "source": [
    "d = {\"name\":\"gurleen\",\"age\":24,\"education\":\"PCM\"}\n",
    "i = 0\n",
    "n = len(d)\n",
    "k = list(d.keys())\n",
    "\n",
    "while i < n:\n",
    "    print(d[k[i]])\n",
    "    i += 1"
   ]
  },
  {
   "cell_type": "code",
   "execution_count": 12,
   "id": "40bb9c11-6673-475a-81bb-47fca08a94c5",
   "metadata": {},
   "outputs": [
    {
     "data": {
      "text/plain": [
       "dict_values(['gurleen', 24, 'PCM'])"
      ]
     },
     "execution_count": 12,
     "metadata": {},
     "output_type": "execute_result"
    }
   ],
   "source": [
    "d.values()"
   ]
  },
  {
   "cell_type": "code",
   "execution_count": 14,
   "id": "b7c08190-5c9a-42ce-bea4-2f5f1463ca40",
   "metadata": {},
   "outputs": [
    {
     "name": "stdout",
     "output_type": "stream",
     "text": [
      "0 1 0 1\n",
      "0 1 1 4\n",
      "1 4 2 3\n",
      "1 4 3 6\n",
      "3 6 4 9\n",
      "4 9 5 2\n",
      "4 9 6 5\n",
      "4 9 7 8\n",
      "4 9\n"
     ]
    }
   ],
   "source": [
    "i = 0\n",
    "n = len(l)\n",
    "a = 0\n",
    "while i < n:\n",
    "    print(a, l[a], i, l[i])\n",
    "    if l[i]> l[a]:\n",
    "        a = i\n",
    "        \n",
    "    i += 1\n",
    "print(a, l[a])"
   ]
  },
  {
   "cell_type": "code",
   "execution_count": 15,
   "id": "45e4dab5-a049-4150-9da2-e110975d3ef0",
   "metadata": {},
   "outputs": [
    {
     "name": "stdout",
     "output_type": "stream",
     "text": [
      "4 9\n"
     ]
    }
   ],
   "source": [
    "i = 0\n",
    "n = len(l)\n",
    "a = 0\n",
    "while i < n:\n",
    "    if l[i]> l[a]:\n",
    "        a = i   \n",
    "    i += 1\n",
    "print(a, l[a])"
   ]
  },
  {
   "cell_type": "code",
   "execution_count": 16,
   "id": "8af7c3a2-daee-4ec6-8435-435d1c6419f6",
   "metadata": {},
   "outputs": [
    {
     "name": "stdout",
     "output_type": "stream",
     "text": [
      "1 1\n",
      "4 5\n",
      "3 8\n",
      "6 14\n",
      "9 23\n",
      "2 25\n",
      "5 30\n",
      "8 38\n",
      "38\n"
     ]
    }
   ],
   "source": [
    "a = 0\n",
    "i = 0\n",
    "n = len(l)\n",
    "while i < n:\n",
    "    a += l[i]\n",
    "    print(l[i], a)   \n",
    "    i += 1\n",
    "print(a)"
   ]
  },
  {
   "cell_type": "code",
   "execution_count": 17,
   "id": "cf64e8ef-8223-4e1e-b7da-81cec51d4148",
   "metadata": {},
   "outputs": [
    {
     "data": {
      "text/plain": [
       "[1, 4, 3, 6, 9, 2, 5, 8]"
      ]
     },
     "execution_count": 17,
     "metadata": {},
     "output_type": "execute_result"
    }
   ],
   "source": [
    "l"
   ]
  },
  {
   "cell_type": "code",
   "execution_count": 18,
   "id": "9927159a-33b1-4f3f-a7db-21f263d35d91",
   "metadata": {},
   "outputs": [],
   "source": [
    "l.sort()"
   ]
  },
  {
   "cell_type": "code",
   "execution_count": 19,
   "id": "490a2c27-5a46-4aae-b0f5-583de166ddaf",
   "metadata": {},
   "outputs": [
    {
     "data": {
      "text/plain": [
       "[1, 2, 3, 4, 5, 6, 8, 9]"
      ]
     },
     "execution_count": 19,
     "metadata": {},
     "output_type": "execute_result"
    }
   ],
   "source": [
    "l"
   ]
  },
  {
   "cell_type": "code",
   "execution_count": 20,
   "id": "fee1e6b7-4aa5-4a55-8fa9-1356dd8c7f02",
   "metadata": {},
   "outputs": [
    {
     "data": {
      "text/plain": [
       "8"
      ]
     },
     "execution_count": 20,
     "metadata": {},
     "output_type": "execute_result"
    }
   ],
   "source": [
    "len(l)"
   ]
  },
  {
   "cell_type": "code",
   "execution_count": 21,
   "id": "72efcde7-fa8d-430e-a870-795d3450eb5c",
   "metadata": {},
   "outputs": [
    {
     "data": {
      "text/plain": [
       "[1, 2, 3, 4, 5, 6, 8, 9]"
      ]
     },
     "execution_count": 21,
     "metadata": {},
     "output_type": "execute_result"
    }
   ],
   "source": [
    "l"
   ]
  },
  {
   "cell_type": "code",
   "execution_count": 23,
   "id": "505878c2-766b-4a49-aa78-855cea4ae42e",
   "metadata": {},
   "outputs": [
    {
     "data": {
      "text/plain": [
       "4"
      ]
     },
     "execution_count": 23,
     "metadata": {},
     "output_type": "execute_result"
    }
   ],
   "source": [
    "len(l)//2"
   ]
  },
  {
   "cell_type": "code",
   "execution_count": 24,
   "id": "6cca799a-f13c-4f6b-ad97-1934adcd3352",
   "metadata": {},
   "outputs": [
    {
     "data": {
      "text/plain": [
       "5"
      ]
     },
     "execution_count": 24,
     "metadata": {},
     "output_type": "execute_result"
    }
   ],
   "source": [
    "l[len(l)//2]"
   ]
  },
  {
   "cell_type": "code",
   "execution_count": 25,
   "id": "ac88cfda-354f-4c85-a47c-4924b5c2ecaa",
   "metadata": {},
   "outputs": [
    {
     "name": "stdout",
     "output_type": "stream",
     "text": [
      "2\n",
      "3\n",
      "4\n",
      "5\n",
      "6\n",
      "7\n",
      "8\n",
      "9\n",
      "10\n",
      "11\n",
      "12\n",
      "13\n",
      "14\n",
      "15\n",
      "16\n",
      "17\n",
      "18\n",
      "19\n",
      "20\n",
      "21\n",
      "22\n",
      "23\n",
      "24\n"
     ]
    }
   ],
   "source": [
    "n = 25\n",
    "prime = True\n",
    "i = 2\n",
    "while i < n:\n",
    "    print(i)\n",
    "    i += 1"
   ]
  },
  {
   "cell_type": "code",
   "execution_count": 26,
   "id": "5ff6dd23-1914-4f22-bcc5-220ec67c316f",
   "metadata": {},
   "outputs": [
    {
     "name": "stdout",
     "output_type": "stream",
     "text": [
      "2\n",
      "3\n",
      "4\n",
      "5\n",
      "6\n",
      "7\n",
      "8\n",
      "9\n",
      "10\n",
      "11 is a prime number\n"
     ]
    }
   ],
   "source": [
    "n = 11\n",
    "prime = True\n",
    "i = 2\n",
    "while i < n:\n",
    "    print(i)\n",
    "    if n % i == 0:\n",
    "        prime = False\n",
    "        break\n",
    "    i += 1\n",
    "\n",
    "if prime:\n",
    "    print(f\"{n} is a prime number\")\n",
    "else:\n",
    "    print(f\"{n} is not prime number\")"
   ]
  },
  {
   "cell_type": "code",
   "execution_count": 28,
   "id": "5a884ef3-ac16-4608-b7a3-ac7f5eb41479",
   "metadata": {},
   "outputs": [
    {
     "name": "stdout",
     "output_type": "stream",
     "text": [
      "24  %  1  =  24.0\n",
      "24  %  2  =  12.0\n",
      "24  %  3  =  8.0\n",
      "24  %  4  =  6.0\n",
      "24  %  6  =  4.0\n",
      "24  %  8  =  3.0\n",
      "24  %  12  =  2.0\n",
      "24  %  24  =  1.0\n",
      "[1, 2, 3, 4, 6, 8, 12, 24]\n"
     ]
    }
   ],
   "source": [
    "i = 1\n",
    "n = 24\n",
    "l = []\n",
    "while i <= n:\n",
    "    if n % i == 0:\n",
    "        print(n,\" % \",i,\" = \",n/i)\n",
    "        l.append(i)\n",
    "    i += 1\n",
    "\n",
    "print(l)\n",
    "if len(l)==2:\n",
    "    print(n , 'is a prime number')"
   ]
  },
  {
   "cell_type": "code",
   "execution_count": 29,
   "id": "64577ba5-d55b-45bf-b15e-525b42d6b633",
   "metadata": {},
   "outputs": [
    {
     "name": "stdout",
     "output_type": "stream",
     "text": [
      "10 9\n"
     ]
    }
   ],
   "source": [
    "a = [2,5,6,9,4,3,7,10,8] \n",
    "l = a[0]\n",
    "s = a[0]\n",
    "i = 0\n",
    "n = len(a)\n",
    "while i < n:\n",
    "    if a[i] > l:\n",
    "        s = l\n",
    "        l = a[i]\n",
    "\n",
    "    elif a[i]>s:\n",
    "        s = a[i]\n",
    "\n",
    "    i += 1\n",
    "print(l,s)"
   ]
  },
  {
   "cell_type": "code",
   "execution_count": 31,
   "id": "3f9381aa-0146-4e57-a31f-a8136afdb6e3",
   "metadata": {},
   "outputs": [
    {
     "name": "stdout",
     "output_type": "stream",
     "text": [
      "0123401234012340123401234"
     ]
    }
   ],
   "source": [
    "i = 0\n",
    "n = 5\n",
    "while i < n:\n",
    "    j = 0\n",
    "    m = 5\n",
    "    while j < m:\n",
    "        print(j,end=\"\")\n",
    "        j += 1\n",
    "\n",
    "    i += 1"
   ]
  },
  {
   "cell_type": "code",
   "execution_count": 32,
   "id": "ffee6dd1-8b8d-40b6-adea-1cccb8f2a779",
   "metadata": {},
   "outputs": [
    {
     "name": "stdout",
     "output_type": "stream",
     "text": [
      "01234\n",
      "01234\n",
      "01234\n",
      "01234\n",
      "01234\n"
     ]
    }
   ],
   "source": [
    "i = 0\n",
    "n = 5\n",
    "while i < n:\n",
    "    j = 0\n",
    "    m = 5\n",
    "    while j < m:\n",
    "        print(j,end=\"\")\n",
    "        j += 1\n",
    "    print()\n",
    "    i += 1"
   ]
  },
  {
   "cell_type": "code",
   "execution_count": 33,
   "id": "45569d50-f36e-4ae6-801e-231a812d7eca",
   "metadata": {},
   "outputs": [
    {
     "name": "stdout",
     "output_type": "stream",
     "text": [
      "0 Gurleen\n",
      "0 G\n",
      "1 u\n",
      "2 r\n",
      "3 l\n",
      "4 e\n",
      "5 e\n",
      "6 n\n",
      "1 Riya\n",
      "0 R\n",
      "1 i\n",
      "2 y\n",
      "3 a\n",
      "2 Priya\n",
      "0 P\n",
      "1 r\n",
      "2 i\n",
      "3 y\n",
      "4 a\n"
     ]
    }
   ],
   "source": [
    "l = [\"Gurleen\", \"Riya\",\"Priya\"]\n",
    "i = 0\n",
    "n = len(l)\n",
    "while i < n:\n",
    "    print(i,l[i])\n",
    "    j = 0\n",
    "    m = len(l[i])\n",
    "    while j < m:\n",
    "        print(j, l[i][j])\n",
    "        j += 1\n",
    "\n",
    "    i += 1"
   ]
  },
  {
   "cell_type": "code",
   "execution_count": null,
   "id": "44fdb893-f8b0-48bb-9c0c-0b4d786283f5",
   "metadata": {},
   "outputs": [],
   "source": []
  }
 ],
 "metadata": {
  "kernelspec": {
   "display_name": "Python 3 (ipykernel)",
   "language": "python",
   "name": "python3"
  },
  "language_info": {
   "codemirror_mode": {
    "name": "ipython",
    "version": 3
   },
   "file_extension": ".py",
   "mimetype": "text/x-python",
   "name": "python",
   "nbconvert_exporter": "python",
   "pygments_lexer": "ipython3",
   "version": "3.13.5"
  }
 },
 "nbformat": 4,
 "nbformat_minor": 5
}
