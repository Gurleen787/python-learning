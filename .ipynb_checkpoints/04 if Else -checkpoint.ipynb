{
 "cells": [
  {
   "cell_type": "markdown",
   "id": "444c052d-16c4-4698-b5a4-9ed8c53e9999",
   "metadata": {},
   "source": [
    "# booleans\n"
   ]
  },
  {
   "cell_type": "code",
   "execution_count": 1,
   "id": "c64cfe5f-f392-4fbd-87a3-3e816a388139",
   "metadata": {},
   "outputs": [
    {
     "data": {
      "text/plain": [
       "1"
      ]
     },
     "execution_count": 1,
     "metadata": {},
     "output_type": "execute_result"
    }
   ],
   "source": [
    "0 or 1"
   ]
  },
  {
   "cell_type": "code",
   "execution_count": 2,
   "id": "30e92a13-daec-4895-aca6-64d66b3380e7",
   "metadata": {},
   "outputs": [
    {
     "data": {
      "text/plain": [
       "True"
      ]
     },
     "execution_count": 2,
     "metadata": {},
     "output_type": "execute_result"
    }
   ],
   "source": [
    "bool(5)"
   ]
  },
  {
   "cell_type": "code",
   "execution_count": 3,
   "id": "1e1a036b-5b0e-4e2c-8e3b-fdf9fad34a41",
   "metadata": {},
   "outputs": [
    {
     "data": {
      "text/plain": [
       "True"
      ]
     },
     "execution_count": 3,
     "metadata": {},
     "output_type": "execute_result"
    }
   ],
   "source": [
    "bool(-8)"
   ]
  },
  {
   "cell_type": "code",
   "execution_count": 7,
   "id": "983f9985-6cf7-45ec-a1a0-c8d3305eca2c",
   "metadata": {},
   "outputs": [
    {
     "data": {
      "text/plain": [
       "False"
      ]
     },
     "execution_count": 7,
     "metadata": {},
     "output_type": "execute_result"
    }
   ],
   "source": [
    "bool(0)"
   ]
  },
  {
   "cell_type": "code",
   "execution_count": 8,
   "id": "d832d22a-32dd-4e8f-9cc5-33e72afd2a52",
   "metadata": {},
   "outputs": [
    {
     "data": {
      "text/plain": [
       "bool"
      ]
     },
     "execution_count": 8,
     "metadata": {},
     "output_type": "execute_result"
    }
   ],
   "source": [
    "type(True)"
   ]
  },
  {
   "cell_type": "code",
   "execution_count": 9,
   "id": "48197f39-6061-46c7-b839-29cacbc78735",
   "metadata": {},
   "outputs": [
    {
     "data": {
      "text/plain": [
       "bool"
      ]
     },
     "execution_count": 9,
     "metadata": {},
     "output_type": "execute_result"
    }
   ],
   "source": [
    "type(False)"
   ]
  },
  {
   "cell_type": "code",
   "execution_count": 10,
   "id": "d173fe0d-870e-464f-9d5e-f75805b974a0",
   "metadata": {},
   "outputs": [
    {
     "data": {
      "text/plain": [
       "True"
      ]
     },
     "execution_count": 10,
     "metadata": {},
     "output_type": "execute_result"
    }
   ],
   "source": [
    "bool(\" \")"
   ]
  },
  {
   "cell_type": "code",
   "execution_count": 11,
   "id": "80522e9a-4e47-4b16-a626-359fe3f8f728",
   "metadata": {},
   "outputs": [
    {
     "data": {
      "text/plain": [
       "False"
      ]
     },
     "execution_count": 11,
     "metadata": {},
     "output_type": "execute_result"
    }
   ],
   "source": [
    "bool(\"\")"
   ]
  },
  {
   "cell_type": "code",
   "execution_count": 12,
   "id": "b1820d69-8041-4161-8ece-22cf6542efe3",
   "metadata": {},
   "outputs": [
    {
     "data": {
      "text/plain": [
       "False"
      ]
     },
     "execution_count": 12,
     "metadata": {},
     "output_type": "execute_result"
    }
   ],
   "source": [
    "bool([])"
   ]
  },
  {
   "cell_type": "code",
   "execution_count": 13,
   "id": "d10ca55b-afc7-49d6-8406-6435e46df4ad",
   "metadata": {},
   "outputs": [
    {
     "data": {
      "text/plain": [
       "True"
      ]
     },
     "execution_count": 13,
     "metadata": {},
     "output_type": "execute_result"
    }
   ],
   "source": [
    "bool([5])"
   ]
  },
  {
   "cell_type": "code",
   "execution_count": 14,
   "id": "37364a75-8b98-4ca6-991e-fe18a2f3b22c",
   "metadata": {},
   "outputs": [
    {
     "data": {
      "text/plain": [
       "False"
      ]
     },
     "execution_count": 14,
     "metadata": {},
     "output_type": "execute_result"
    }
   ],
   "source": [
    "bool(())"
   ]
  },
  {
   "cell_type": "code",
   "execution_count": 15,
   "id": "917365c1-0bd0-4aba-9101-98035286b8f0",
   "metadata": {},
   "outputs": [
    {
     "data": {
      "text/plain": [
       "True"
      ]
     },
     "execution_count": 15,
     "metadata": {},
     "output_type": "execute_result"
    }
   ],
   "source": [
    "bool((5))"
   ]
  },
  {
   "cell_type": "code",
   "execution_count": 16,
   "id": "1f616ae5-4f93-46d3-89be-9a11b2030321",
   "metadata": {},
   "outputs": [
    {
     "data": {
      "text/plain": [
       "False"
      ]
     },
     "execution_count": 16,
     "metadata": {},
     "output_type": "execute_result"
    }
   ],
   "source": [
    "bool({})"
   ]
  },
  {
   "cell_type": "markdown",
   "id": "86dd16a0-bb76-4f59-8edc-188121a4b8c6",
   "metadata": {},
   "source": [
    "# comparison operators"
   ]
  },
  {
   "cell_type": "code",
   "execution_count": 27,
   "id": "6cda9271-d63c-4499-a189-bb4b5f276c72",
   "metadata": {},
   "outputs": [
    {
     "data": {
      "text/plain": [
       "True"
      ]
     },
     "execution_count": 27,
     "metadata": {},
     "output_type": "execute_result"
    }
   ],
   "source": [
    "10 > 5"
   ]
  },
  {
   "cell_type": "code",
   "execution_count": 29,
   "id": "cd50fbc5-94a4-4165-926c-5927c23e4782",
   "metadata": {},
   "outputs": [
    {
     "data": {
      "text/plain": [
       "False"
      ]
     },
     "execution_count": 29,
     "metadata": {},
     "output_type": "execute_result"
    }
   ],
   "source": [
    "5 > 5"
   ]
  },
  {
   "cell_type": "code",
   "execution_count": 32,
   "id": "d571d9d4-daa8-4827-a048-0bbb8a97a15a",
   "metadata": {},
   "outputs": [
    {
     "data": {
      "text/plain": [
       "True"
      ]
     },
     "execution_count": 32,
     "metadata": {},
     "output_type": "execute_result"
    }
   ],
   "source": [
    "5 == 5"
   ]
  },
  {
   "cell_type": "code",
   "execution_count": 35,
   "id": "4f404cd3-95a5-4508-9656-f480093b9f5e",
   "metadata": {},
   "outputs": [],
   "source": [
    "age = 17"
   ]
  },
  {
   "cell_type": "code",
   "execution_count": 36,
   "id": "81ddb95f-d4eb-468b-a63e-04a4c58e7943",
   "metadata": {},
   "outputs": [
    {
     "data": {
      "text/plain": [
       "False"
      ]
     },
     "execution_count": 36,
     "metadata": {},
     "output_type": "execute_result"
    }
   ],
   "source": [
    "age >=18"
   ]
  },
  {
   "cell_type": "code",
   "execution_count": 37,
   "id": "97e6b33e-02bb-4480-ac9b-71fdddf95ac1",
   "metadata": {},
   "outputs": [
    {
     "data": {
      "text/plain": [
       "False"
      ]
     },
     "execution_count": 37,
     "metadata": {},
     "output_type": "execute_result"
    }
   ],
   "source": [
    "age !=17"
   ]
  },
  {
   "cell_type": "code",
   "execution_count": null,
   "id": "c987eb02-2c0f-4e7b-ac2b-98d846494df1",
   "metadata": {},
   "outputs": [],
   "source": []
  },
  {
   "cell_type": "markdown",
   "id": "a30acb2c-d1a5-41ed-ac5e-5a489fd7ffd2",
   "metadata": {},
   "source": [
    "# if elif else"
   ]
  },
  {
   "cell_type": "code",
   "execution_count": 24,
   "id": "e201dd93-2490-4c49-a01c-3b2bfa4cb8d3",
   "metadata": {},
   "outputs": [],
   "source": [
    "age = 20"
   ]
  },
  {
   "cell_type": "code",
   "execution_count": 25,
   "id": "8fa71f3b-6224-48a6-8137-8190449b56b8",
   "metadata": {},
   "outputs": [
    {
     "name": "stdout",
     "output_type": "stream",
     "text": [
      "welcome\n"
     ]
    }
   ],
   "source": [
    "if age > 18:\n",
    "    print(\"welcome\")"
   ]
  },
  {
   "cell_type": "code",
   "execution_count": 40,
   "id": "a8c6cfc4-c6bc-4f4a-a732-50c86a4a8acd",
   "metadata": {},
   "outputs": [],
   "source": [
    "marks = 35"
   ]
  },
  {
   "cell_type": "code",
   "execution_count": 41,
   "id": "880bfe49-22e8-471f-a5b4-91355446fe68",
   "metadata": {},
   "outputs": [
    {
     "name": "stdout",
     "output_type": "stream",
     "text": [
      "Fail\n"
     ]
    }
   ],
   "source": [
    "if marks >=90:\n",
    "    print(\"A\")\n",
    "elif marks >= 75:\n",
    "    print(\"B\")\n",
    "elif marks >= 60:\n",
    "    print(\"C\")\n",
    "elif marks >= 40:\n",
    "    print(\"D\")\n",
    "else:\n",
    "    print(\"Fail\")\n"
   ]
  },
  {
   "cell_type": "markdown",
   "id": "edbadff6-d03d-474e-9974-b34dd8f39bb2",
   "metadata": {},
   "source": [
    "# Nested if else\n"
   ]
  },
  {
   "cell_type": "code",
   "execution_count": 1,
   "id": "8b50c0c1-f17d-4f46-80e9-e1d25508dc27",
   "metadata": {},
   "outputs": [],
   "source": [
    "#2,3,5\n"
   ]
  },
  {
   "cell_type": "code",
   "execution_count": 2,
   "id": "28543e31-bf5c-41ac-89d0-b12afcf4de13",
   "metadata": {},
   "outputs": [],
   "source": [
    "# positive number or negative"
   ]
  },
  {
   "cell_type": "code",
   "execution_count": 7,
   "id": "7926d401-9f92-471d-979a-84797b0b95da",
   "metadata": {},
   "outputs": [],
   "source": [
    "n = 0"
   ]
  },
  {
   "cell_type": "code",
   "execution_count": 8,
   "id": "878b522c-6cb9-4c4a-9776-64b701caadbd",
   "metadata": {},
   "outputs": [
    {
     "name": "stdout",
     "output_type": "stream",
     "text": [
      "zero\n"
     ]
    }
   ],
   "source": [
    "if n > 0:\n",
    "    print(\"positive\") \n",
    "elif n <  0:\n",
    "    print(\"negative\")\n",
    "else:\n",
    "    print(\"zero\")"
   ]
  },
  {
   "cell_type": "code",
   "execution_count": 9,
   "id": "acff4a6e-fa7e-4de9-9dbe-d2ee4639ab5c",
   "metadata": {},
   "outputs": [
    {
     "name": "stdout",
     "output_type": "stream",
     "text": [
      "hello\n",
      "hi\n"
     ]
    }
   ],
   "source": [
    "n =10\n",
    "m =15\n",
    "if m > n:\n",
    "    print(\"hello\")\n",
    "    print(\"hi\")"
   ]
  },
  {
   "cell_type": "code",
   "execution_count": 10,
   "id": "ccb5b156-ccf1-4ece-a259-e610aa6a3113",
   "metadata": {},
   "outputs": [
    {
     "name": "stdout",
     "output_type": "stream",
     "text": [
      "hi\n"
     ]
    }
   ],
   "source": [
    "n =10\n",
    "m =5\n",
    "if m > n:\n",
    "    print(\"hello\")\n",
    "print(\"hi\")"
   ]
  },
  {
   "cell_type": "code",
   "execution_count": 11,
   "id": "7945c054-866f-4a52-afd2-bacf31f3b731",
   "metadata": {},
   "outputs": [
    {
     "name": "stdout",
     "output_type": "stream",
     "text": [
      "bye\n",
      "hi\n"
     ]
    }
   ],
   "source": [
    "n =10\n",
    "m =5\n",
    "if m > n:\n",
    "    print(\"hello\")\n",
    "else:\n",
    "    print(\"bye\")\n",
    "print(\"hi\")"
   ]
  },
  {
   "cell_type": "code",
   "execution_count": 28,
   "id": "733556bb-a89c-42b2-a90b-40e4983ae282",
   "metadata": {},
   "outputs": [
    {
     "name": "stdout",
     "output_type": "stream",
     "text": [
      "hi\n",
      "hello\n"
     ]
    }
   ],
   "source": [
    "m = 10\n",
    "n = 20\n",
    "o = 30\n",
    "if o > n:\n",
    "    print(\"hi\")\n",
    "if o > m:\n",
    "     print(\"hello\")"
   ]
  },
  {
   "cell_type": "code",
   "execution_count": 29,
   "id": "9601fe21-86d1-4d20-a822-e4c62d44f851",
   "metadata": {},
   "outputs": [
    {
     "name": "stdout",
     "output_type": "stream",
     "text": [
      "divison\n"
     ]
    }
   ],
   "source": [
    "if 25 % 5 ==0:\n",
    "    print(\"divison\")"
   ]
  },
  {
   "cell_type": "code",
   "execution_count": 31,
   "id": "3cb2feee-8d7d-4669-956b-173e0b75b78f",
   "metadata": {},
   "outputs": [
    {
     "data": {
      "text/plain": [
       "True"
      ]
     },
     "execution_count": 31,
     "metadata": {},
     "output_type": "execute_result"
    }
   ],
   "source": [
    "22 % 2 ==0\n"
   ]
  },
  {
   "cell_type": "code",
   "execution_count": 33,
   "id": "7d04677c-d14e-4c0b-b1c5-c88a3495a308",
   "metadata": {},
   "outputs": [
    {
     "name": "stdout",
     "output_type": "stream",
     "text": [
      "odd\n"
     ]
    }
   ],
   "source": [
    "n = 21\n",
    "if n % 2 ==0:\n",
    "    print(\"even\")\n",
    "else:\n",
    "    print(\"odd\")"
   ]
  },
  {
   "cell_type": "code",
   "execution_count": 37,
   "id": "40a7aee7-7c25-461f-b43d-9f78b56714c6",
   "metadata": {},
   "outputs": [],
   "source": [
    "n =21"
   ]
  },
  {
   "cell_type": "code",
   "execution_count": 38,
   "id": "3ed71d50-1643-4fcf-b397-45def50b1cea",
   "metadata": {},
   "outputs": [
    {
     "name": "stdout",
     "output_type": "stream",
     "text": [
      "not divisible by 2\n"
     ]
    }
   ],
   "source": [
    "if n % 2 ==0:\n",
    "    \n",
    "    print(\"divisible by 2\")\n",
    "else:\n",
    "    print(\"not divisible by 2\")"
   ]
  },
  {
   "cell_type": "code",
   "execution_count": 43,
   "id": "897d489b-5128-486a-a9ab-8ba6bedfc008",
   "metadata": {},
   "outputs": [],
   "source": [
    "n =5 "
   ]
  },
  {
   "cell_type": "code",
   "execution_count": 53,
   "id": "e9869a26-5765-4cfa-98f2-ecd77d4b1676",
   "metadata": {},
   "outputs": [],
   "source": [
    "n = 5"
   ]
  },
  {
   "cell_type": "code",
   "execution_count": 59,
   "id": "a6069f09-f7e1-4ca5-b9bf-d819bc17b20d",
   "metadata": {},
   "outputs": [
    {
     "name": "stdout",
     "output_type": "stream",
     "text": [
      "divisible by 5\n"
     ]
    }
   ],
   "source": [
    "if n % 2 == 0:\n",
    "    if n % 3 == 0:\n",
    "        if n % 5 == 0:\n",
    "            print('divisible by 2, 3, 5')\n",
    "        else:\n",
    "            print(\"divisible by 2 and 3 not 5\")\n",
    "    elif n % 5 == 0:\n",
    "        print(\"divisible by 2 and 5 not 3\")\n",
    "    else:\n",
    "        print('divisible by 2 not 3 and 5')\n",
    "\n",
    "elif n % 3 == 0:\n",
    "    if n % 5 == 0:\n",
    "        print('divisible by 3 and 5')\n",
    "    else:\n",
    "        print('divisible by 3')\n",
    "elif n % 5 == 0:\n",
    "    print(\"divisible by 5\")\n",
    "\n",
    "else:\n",
    "    print(\"not divisible by 2 or 3 or 5\")"
   ]
  },
  {
   "cell_type": "code",
   "execution_count": 1,
   "id": "f38479f8-922c-479b-8d80-ebc8cb3a5c22",
   "metadata": {},
   "outputs": [],
   "source": [
    "city = \"Agra\""
   ]
  },
  {
   "cell_type": "code",
   "execution_count": 2,
   "id": "19772598-46db-4f47-a121-733d2110cad9",
   "metadata": {},
   "outputs": [],
   "source": [
    "age = 20"
   ]
  },
  {
   "cell_type": "code",
   "execution_count": 4,
   "id": "7c203eca-bea6-4725-9cc9-f5c56bd67318",
   "metadata": {},
   "outputs": [
    {
     "ename": "IndentationError",
     "evalue": "expected an indented block after 'if' statement on line 8 (3592685714.py, line 9)",
     "output_type": "error",
     "traceback": [
      "\u001b[1;36m  Cell \u001b[1;32mIn[4], line 9\u001b[1;36m\u001b[0m\n\u001b[1;33m    print(\"welcome to city of retirement\")\u001b[0m\n\u001b[1;37m    ^\u001b[0m\n\u001b[1;31mIndentationError\u001b[0m\u001b[1;31m:\u001b[0m expected an indented block after 'if' statement on line 8\n"
     ]
    }
   ],
   "source": [
    "if city == \"Delhi\":\n",
    "    if age < 30:\n",
    "        print(\"welcome to delhi young man\")\n",
    "    else:\n",
    "        print(\"bahr milo tum\")\n",
    "\n",
    "elif city == \"Chd\":\n",
    "    if age > 50:\n",
    "    print(\"welcome to city of retirement\")\n",
    "    else:\n",
    "    print(\"welcome to chd\")\n",
    "else:\n",
    "    print(\"kha gum gaye\")\n"
   ]
  },
  {
   "cell_type": "markdown",
   "id": "1e227cc1-ba05-4d85-bfc2-49cc74890b39",
   "metadata": {},
   "source": [
    "# Logical operations\n"
   ]
  },
  {
   "cell_type": "markdown",
   "id": "1319ab70-9bc7-4ee3-9859-ec0f14973618",
   "metadata": {},
   "source": [
    "# not"
   ]
  },
  {
   "cell_type": "code",
   "execution_count": 2,
   "id": "20b9430f-2aa4-41d2-bd2c-d3a99e3163eb",
   "metadata": {},
   "outputs": [],
   "source": [
    "first = True"
   ]
  },
  {
   "cell_type": "code",
   "execution_count": 6,
   "id": "b10753f2-d26c-43bc-a67b-62f44b8e0336",
   "metadata": {},
   "outputs": [
    {
     "name": "stdout",
     "output_type": "stream",
     "text": [
      "hi gurleen\n"
     ]
    }
   ],
   "source": [
    "if first:\n",
    "    print(\"Hi user nice to meet you\")\n",
    "    name = input(\"enter your name\")\n",
    "    first = False\n",
    "else:\n",
    "    print(\"hi\" , name)"
   ]
  },
  {
   "cell_type": "code",
   "execution_count": 8,
   "id": "94e174d1-4d62-492c-86e6-acf5061cd67a",
   "metadata": {},
   "outputs": [],
   "source": [
    "count = 0"
   ]
  },
  {
   "cell_type": "code",
   "execution_count": 9,
   "id": "e4fb173c-8a4a-4927-b25e-7b6c36128a57",
   "metadata": {},
   "outputs": [
    {
     "name": "stdout",
     "output_type": "stream",
     "text": [
      "you are out of game\n"
     ]
    }
   ],
   "source": [
    "if not count:\n",
    "    print(\"you are out of game\")"
   ]
  },
  {
   "cell_type": "code",
   "execution_count": null,
   "id": "663b71e3-866c-4da0-951b-04f7213ae4d3",
   "metadata": {},
   "outputs": [],
   "source": []
  },
  {
   "cell_type": "markdown",
   "id": "afde107f-ea58-4170-8dd7-2c2ae4edf234",
   "metadata": {},
   "source": [
    "## AND"
   ]
  },
  {
   "cell_type": "code",
   "execution_count": 12,
   "id": "23820681-3655-43c0-a226-d938949af7ef",
   "metadata": {},
   "outputs": [],
   "source": [
    "attendance = 80"
   ]
  },
  {
   "cell_type": "code",
   "execution_count": 24,
   "id": "d419d4d8-d8cc-4774-a1d0-b72a4317ad7e",
   "metadata": {},
   "outputs": [],
   "source": [
    "marks = 20"
   ]
  },
  {
   "cell_type": "code",
   "execution_count": 25,
   "id": "bb8fd365-e597-4836-9596-06e80da82529",
   "metadata": {},
   "outputs": [
    {
     "name": "stdout",
     "output_type": "stream",
     "text": [
      "Fail\n"
     ]
    }
   ],
   "source": [
    "if attendance > 75:\n",
    "    print(\"Fail\")"
   ]
  },
  {
   "cell_type": "code",
   "execution_count": 26,
   "id": "2c5c2ba1-8b7c-4b50-ad81-09d0e9de7ab2",
   "metadata": {},
   "outputs": [],
   "source": [
    "if marks > 35:\n",
    "    print(\"Pass\")"
   ]
  },
  {
   "cell_type": "code",
   "execution_count": 28,
   "id": "715f8922-c370-44f5-8513-e32d132c47b6",
   "metadata": {},
   "outputs": [
    {
     "name": "stdout",
     "output_type": "stream",
     "text": [
      "Fail\n"
     ]
    }
   ],
   "source": [
    "if attendance  > 75 and marks > 35:\n",
    "    print(\"Pass\")\n",
    "else:\n",
    "    print(\"Fail\")"
   ]
  },
  {
   "cell_type": "code",
   "execution_count": 33,
   "id": "7a7c70e2-da89-4c46-a0e7-26485f2aad25",
   "metadata": {},
   "outputs": [],
   "source": [
    "ticket = True\n",
    "age = 20"
   ]
  },
  {
   "cell_type": "code",
   "execution_count": 34,
   "id": "80ff26a2-39cf-4686-91b0-b695aa8c10d5",
   "metadata": {},
   "outputs": [
    {
     "name": "stdout",
     "output_type": "stream",
     "text": [
      "welcome\n"
     ]
    }
   ],
   "source": [
    "if age >= 18 and ticket:\n",
    "    print(\"welcome\")\n",
    "else:\n",
    "    print(\"bye\")"
   ]
  },
  {
   "cell_type": "code",
   "execution_count": null,
   "id": "f7677e34-3db5-457f-9398-5bfac072ccd7",
   "metadata": {},
   "outputs": [],
   "source": []
  },
  {
   "cell_type": "markdown",
   "id": "deb1039f-d32a-4b3b-884d-4e8055231b64",
   "metadata": {},
   "source": [
    "## OR"
   ]
  },
  {
   "cell_type": "code",
   "execution_count": 35,
   "id": "57f3cc7e-5ea5-4864-983f-036665f3e13a",
   "metadata": {},
   "outputs": [
    {
     "data": {
      "text/plain": [
       "True"
      ]
     },
     "execution_count": 35,
     "metadata": {},
     "output_type": "execute_result"
    }
   ],
   "source": [
    "True or True"
   ]
  },
  {
   "cell_type": "code",
   "execution_count": 36,
   "id": "faae91eb-1ef9-41aa-b3bb-ff8436af04dc",
   "metadata": {},
   "outputs": [
    {
     "data": {
      "text/plain": [
       "True"
      ]
     },
     "execution_count": 36,
     "metadata": {},
     "output_type": "execute_result"
    }
   ],
   "source": [
    "True or False"
   ]
  },
  {
   "cell_type": "code",
   "execution_count": 41,
   "id": "a50ef2a0-fca6-423c-a299-6040f6bf0e08",
   "metadata": {},
   "outputs": [],
   "source": [
    "marks = 20"
   ]
  },
  {
   "cell_type": "code",
   "execution_count": 42,
   "id": "df7b63e8-90f6-423a-9ce1-1567df5cdefb",
   "metadata": {},
   "outputs": [],
   "source": [
    "donation = 50000"
   ]
  },
  {
   "cell_type": "code",
   "execution_count": 43,
   "id": "450371f2-7536-484d-885a-b9ff770e7e46",
   "metadata": {},
   "outputs": [
    {
     "name": "stdout",
     "output_type": "stream",
     "text": [
      "go out\n"
     ]
    }
   ],
   "source": [
    "if marks > 80 or donation > 80000:\n",
    "    print(\"welcome to the school\")\n",
    "else:\n",
    "    print(\"go out\")"
   ]
  },
  {
   "cell_type": "code",
   "execution_count": 48,
   "id": "9c219a29-20c6-4f98-8fde-d1946d7bd488",
   "metadata": {},
   "outputs": [],
   "source": [
    "email = False\n",
    "number =False"
   ]
  },
  {
   "cell_type": "code",
   "execution_count": 49,
   "id": "6ad5f2d7-7e55-471e-90ad-a153d720e45a",
   "metadata": {},
   "outputs": [
    {
     "name": "stdout",
     "output_type": "stream",
     "text": [
      "go and login\n"
     ]
    }
   ],
   "source": [
    "if email or number:\n",
    "    print(\"welcome user\")\n",
    "else:\n",
    "    print(\"go and login\")"
   ]
  },
  {
   "cell_type": "code",
   "execution_count": 54,
   "id": "11cbd5bc-5252-4959-8c1e-61ffa36b18f7",
   "metadata": {},
   "outputs": [],
   "source": [
    "email = False\n",
    "number =False"
   ]
  },
  {
   "cell_type": "code",
   "execution_count": 55,
   "id": "31ad3860-e3f6-43a2-bf20-920a258297b3",
   "metadata": {},
   "outputs": [],
   "source": [
    "password = True"
   ]
  },
  {
   "cell_type": "code",
   "execution_count": 56,
   "id": "54225a3a-5ebf-4a37-9f29-afbe6c4271b7",
   "metadata": {},
   "outputs": [
    {
     "name": "stdout",
     "output_type": "stream",
     "text": [
      "bye\n"
     ]
    }
   ],
   "source": [
    "if email or number and password:\n",
    "    print(\"welcome\")\n",
    "else:\n",
    "    print(\"bye\")"
   ]
  },
  {
   "cell_type": "code",
   "execution_count": 79,
   "id": "6847d7a1-4eda-4fd9-a947-0013cce7749a",
   "metadata": {},
   "outputs": [],
   "source": [
    "hindi = 80\n",
    "english = 65\n",
    "math = 80\n",
    "science = 80"
   ]
  },
  {
   "cell_type": "code",
   "execution_count": 80,
   "id": "01f71989-45b2-4d3c-aa22-b689b7ae6b8c",
   "metadata": {},
   "outputs": [],
   "source": [
    "average =(hindi + english + math + science) // 4"
   ]
  },
  {
   "cell_type": "code",
   "execution_count": 82,
   "id": "54c06f24-b721-413f-a553-2d6fa2183f52",
   "metadata": {},
   "outputs": [
    {
     "name": "stdout",
     "output_type": "stream",
     "text": [
      "pass\n",
      "Distinction\n"
     ]
    }
   ],
   "source": [
    "if hindi > 35 and english >35 and math > 35 and science > 35:\n",
    "    print(\"pass\")\n",
    "    if average >= 75 and hindi> 40 and english> 40 and math> 40 and science> 40:\n",
    "        print(\"Distinction\")\n",
    "    else:\n",
    "        print(\"Not\")\n",
    "        \n",
    "else:\n",
    "    print(\"fail\")"
   ]
  },
  {
   "cell_type": "code",
   "execution_count": 73,
   "id": "e37a6ea3-40a7-43e5-a4f2-33d01c7eb0f9",
   "metadata": {},
   "outputs": [
    {
     "data": {
      "text/plain": [
       "50"
      ]
     },
     "execution_count": 73,
     "metadata": {},
     "output_type": "execute_result"
    }
   ],
   "source": [
    "average"
   ]
  },
  {
   "cell_type": "code",
   "execution_count": 83,
   "id": "761f70b5-b6d7-4e04-9e4f-a748cccb42d1",
   "metadata": {},
   "outputs": [],
   "source": [
    "username = \"Gurleen\"\n",
    "password = 12345"
   ]
  },
  {
   "cell_type": "code",
   "execution_count": 85,
   "id": "65e88449-3ef9-4902-b8f7-84355ebb913d",
   "metadata": {},
   "outputs": [
    {
     "name": "stdout",
     "output_type": "stream",
     "text": [
      "incorrect input\n"
     ]
    }
   ],
   "source": [
    "if username and password:\n",
    "    if username == \"Gurleen\" or not password == 12345:\n",
    "        print(\"incorrect input\")\n",
    "    else:\n",
    "        print(\"login\")\n",
    "else:\n",
    "    print(\"incomplete input\")\n",
    "        \n",
    "        "
   ]
  },
  {
   "cell_type": "code",
   "execution_count": 87,
   "id": "53c31fb0-9a2f-48c1-8b00-83908cd90a70",
   "metadata": {},
   "outputs": [
    {
     "data": {
      "text/plain": [
       "True"
      ]
     },
     "execution_count": 87,
     "metadata": {},
     "output_type": "execute_result"
    }
   ],
   "source": [
    "'G' in \"Gurleen\""
   ]
  },
  {
   "cell_type": "code",
   "execution_count": 88,
   "id": "b4c7ff3a-3912-49fd-ba62-c7fa35aae744",
   "metadata": {},
   "outputs": [
    {
     "data": {
      "text/plain": [
       "'full-timepart-timeunemployeed'"
      ]
     },
     "execution_count": 88,
     "metadata": {},
     "output_type": "execute_result"
    }
   ],
   "source": [
    "\"full-time\" \"part-time\" \"unemployeed\""
   ]
  },
  {
   "cell_type": "code",
   "execution_count": 90,
   "id": "6063d982-804f-4ea6-8712-6984eba49d93",
   "metadata": {},
   "outputs": [],
   "source": [
    "age = 20\n",
    "income = 50000\n",
    "credit_score = 350\n",
    "debts = 5000\n",
    "Employment = \"full-time\""
   ]
  },
  {
   "cell_type": "code",
   "execution_count": 4,
   "id": "b6ac975d-04e0-4850-8555-b3c32751edc7",
   "metadata": {},
   "outputs": [
    {
     "ename": "IndentationError",
     "evalue": "unexpected indent (2892546456.py, line 13)",
     "output_type": "error",
     "traceback": [
      "\u001b[1;36m  Cell \u001b[1;32mIn[4], line 13\u001b[1;36m\u001b[0m\n\u001b[1;33m    print(\"Load approved\")\u001b[0m\n\u001b[1;37m    ^\u001b[0m\n\u001b[1;31mIndentationError\u001b[0m\u001b[1;31m:\u001b[0m unexpected indent\n"
     ]
    }
   ],
   "source": [
    "if age >=18 and not Employment == \"unemployed\":\n",
    "    if credit_score > 400 and debts <= income * 0.3:\n",
    "        loan = income*12 * 0.5\n",
    "        intrest = loan * 0.1\n",
    "\n",
    "        print(\"Load approved\")\n",
    "        print(f\"Load {loan}\")\n",
    "        print(f\"intrest {intrest}\")\n",
    "\n",
    "    elif credit_score > 400 and debts >= income * 0.3:\n",
    "        loan = income * 12 * 0.3\n",
    "        intrest = loan*0.1\n",
    "         print(\"Load approved\")\n",
    "        print(f\"Load {loan}\")\n",
    "        print(f\"intrest {intrest}\")\n",
    "\n",
    "    elif credit_score <= 400 and debts < income * 0.3:\n",
    "        loan = income *12 * 0.5\n",
    "        intrest = loan * 0.12\n",
    "        \n",
    "        print(\"Load approved\")\n",
    "        print(f\"Load {loan}\")\n",
    "        print(f\"intrest {intrest}\")\n",
    "    else:\n",
    "        print(\"loan rejected\")\n",
    "        \n",
    "else:\n",
    "    print(\"loan rejected\")\n",
    "\n",
    "        \n",
    "        "
   ]
  },
  {
   "cell_type": "code",
   "execution_count": null,
   "id": "58ab94a7-2be1-4d52-84d0-78e6ab70304b",
   "metadata": {},
   "outputs": [],
   "source": []
  }
 ],
 "metadata": {
  "kernelspec": {
   "display_name": "Python 3 (ipykernel)",
   "language": "python",
   "name": "python3"
  },
  "language_info": {
   "codemirror_mode": {
    "name": "ipython",
    "version": 3
   },
   "file_extension": ".py",
   "mimetype": "text/x-python",
   "name": "python",
   "nbconvert_exporter": "python",
   "pygments_lexer": "ipython3",
   "version": "3.13.5"
  }
 },
 "nbformat": 4,
 "nbformat_minor": 5
}
