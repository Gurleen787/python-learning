{
 "cells": [
  {
   "cell_type": "code",
   "execution_count": 1,
   "id": "6f225ea7-4423-4dca-b782-f1ec3d8d5f0f",
   "metadata": {},
   "outputs": [
    {
     "data": {
      "text/plain": [
       "'Gurleen'"
      ]
     },
     "execution_count": 1,
     "metadata": {},
     "output_type": "execute_result"
    }
   ],
   "source": [
    "'Gurleen'"
   ]
  },
  {
   "cell_type": "code",
   "execution_count": 2,
   "id": "fad07dd5-2fbd-4814-8ef7-050c2f292787",
   "metadata": {},
   "outputs": [
    {
     "data": {
      "text/plain": [
       "'Gurleen'"
      ]
     },
     "execution_count": 2,
     "metadata": {},
     "output_type": "execute_result"
    }
   ],
   "source": [
    "\"Gurleen\""
   ]
  },
  {
   "cell_type": "code",
   "execution_count": 3,
   "id": "2368e40b-b153-4565-b7e9-0fffa1eafb28",
   "metadata": {},
   "outputs": [
    {
     "data": {
      "text/plain": [
       "'Gurleen'"
      ]
     },
     "execution_count": 3,
     "metadata": {},
     "output_type": "execute_result"
    }
   ],
   "source": [
    "\"\"\"Gurleen\"\"\""
   ]
  },
  {
   "cell_type": "code",
   "execution_count": 9,
   "id": "238a4181-4094-43d0-8544-1c731875a673",
   "metadata": {},
   "outputs": [
    {
     "name": "stdout",
     "output_type": "stream",
     "text": [
      "hi nice to meet you\n",
      "my name is gurleen\n"
     ]
    }
   ],
   "source": [
    "print(\"\"\"hi nice to meet you\n",
    "my name is gurleen\"\"\")"
   ]
  },
  {
   "cell_type": "code",
   "execution_count": 7,
   "id": "0f655596-8a4a-4321-a692-93916fbebac1",
   "metadata": {},
   "outputs": [
    {
     "data": {
      "text/plain": [
       "'hi nice to meet you\\nmy name is gurleen'"
      ]
     },
     "execution_count": 7,
     "metadata": {},
     "output_type": "execute_result"
    }
   ],
   "source": [
    "\"\"\"hi nice to meet you\n",
    "my name is gurleen\"\"\""
   ]
  },
  {
   "cell_type": "code",
   "execution_count": 8,
   "id": "4135deec-163c-43dd-8330-ce5b16326fd3",
   "metadata": {},
   "outputs": [
    {
     "data": {
      "text/plain": [
       "str"
      ]
     },
     "execution_count": 8,
     "metadata": {},
     "output_type": "execute_result"
    }
   ],
   "source": [
    "type(\"gurleen\")"
   ]
  },
  {
   "cell_type": "code",
   "execution_count": 11,
   "id": "c4e3ea7c-3fbf-4147-97f7-4dcc7662e8bf",
   "metadata": {},
   "outputs": [
    {
     "data": {
      "text/plain": [
       "'Gurleen'"
      ]
     },
     "execution_count": 11,
     "metadata": {},
     "output_type": "execute_result"
    }
   ],
   "source": [
    "\"gurleen\".capitalize()"
   ]
  },
  {
   "cell_type": "code",
   "execution_count": 12,
   "id": "2dbc144b-33f8-42b5-abc5-bc50f5e5e4de",
   "metadata": {},
   "outputs": [
    {
     "data": {
      "text/plain": [
       "'GURLEEN'"
      ]
     },
     "execution_count": 12,
     "metadata": {},
     "output_type": "execute_result"
    }
   ],
   "source": [
    "\"gurleen\".upper()"
   ]
  },
  {
   "cell_type": "code",
   "execution_count": 13,
   "id": "e9543fff-db6a-4a7a-bb9e-674b00a257cb",
   "metadata": {},
   "outputs": [
    {
     "data": {
      "text/plain": [
       "'gurleen'"
      ]
     },
     "execution_count": 13,
     "metadata": {},
     "output_type": "execute_result"
    }
   ],
   "source": [
    "'GURLEEN'.lower()"
   ]
  },
  {
   "cell_type": "code",
   "execution_count": 14,
   "id": "af5fb489-c07d-4123-98e2-aea1db0751fc",
   "metadata": {},
   "outputs": [
    {
     "data": {
      "text/plain": [
       "2"
      ]
     },
     "execution_count": 14,
     "metadata": {},
     "output_type": "execute_result"
    }
   ],
   "source": [
    "\"gurleen\".count('e')"
   ]
  },
  {
   "cell_type": "code",
   "execution_count": 15,
   "id": "064d63d7-027c-4093-a69d-e2f36c85abcd",
   "metadata": {},
   "outputs": [],
   "source": [
    "name=\"gurleen\""
   ]
  },
  {
   "cell_type": "code",
   "execution_count": 19,
   "id": "9e25a5fc-da88-4d38-9434-dfa018dcf621",
   "metadata": {},
   "outputs": [
    {
     "data": {
      "text/plain": [
       "3"
      ]
     },
     "execution_count": 19,
     "metadata": {},
     "output_type": "execute_result"
    }
   ],
   "source": [
    "name.find('l')"
   ]
  },
  {
   "cell_type": "code",
   "execution_count": 20,
   "id": "f2dee355-ce9a-4abd-b104-39e00a8a2750",
   "metadata": {},
   "outputs": [
    {
     "data": {
      "text/plain": [
       "7"
      ]
     },
     "execution_count": 20,
     "metadata": {},
     "output_type": "execute_result"
    }
   ],
   "source": [
    "len(name)"
   ]
  },
  {
   "cell_type": "code",
   "execution_count": 21,
   "id": "e8b55482-a4f6-4ce3-9554-067b285fe256",
   "metadata": {},
   "outputs": [],
   "source": [
    "first_name =\"Gurleen\""
   ]
  },
  {
   "cell_type": "code",
   "execution_count": 24,
   "id": "f64a752e-d778-480e-a472-bc65774de7df",
   "metadata": {},
   "outputs": [],
   "source": [
    "Last_name =\"kaur\""
   ]
  },
  {
   "cell_type": "code",
   "execution_count": 26,
   "id": "ffba8205-d9d2-41ce-8afc-ebd73870e357",
   "metadata": {},
   "outputs": [
    {
     "data": {
      "text/plain": [
       "'Gurleen kaur'"
      ]
     },
     "execution_count": 26,
     "metadata": {},
     "output_type": "execute_result"
    }
   ],
   "source": [
    "first_name +\" \"+Last_name"
   ]
  },
  {
   "cell_type": "code",
   "execution_count": 27,
   "id": "f4f93ac6-d111-4ccc-ab3a-8b5e153859e0",
   "metadata": {},
   "outputs": [
    {
     "data": {
      "text/plain": [
       "'55'"
      ]
     },
     "execution_count": 27,
     "metadata": {},
     "output_type": "execute_result"
    }
   ],
   "source": [
    "\"5\"+\"5\""
   ]
  },
  {
   "cell_type": "code",
   "execution_count": 28,
   "id": "e37552ab-6535-4949-9983-2489729b78a6",
   "metadata": {},
   "outputs": [
    {
     "name": "stdout",
     "output_type": "stream",
     "text": [
      "55\n",
      "55\n"
     ]
    }
   ],
   "source": [
    "print(\"55\")\n",
    "print(55)"
   ]
  },
  {
   "cell_type": "code",
   "execution_count": 29,
   "id": "6f1b26ac-c680-4a62-890c-4b3c6cbff621",
   "metadata": {},
   "outputs": [
    {
     "data": {
      "text/plain": [
       "int"
      ]
     },
     "execution_count": 29,
     "metadata": {},
     "output_type": "execute_result"
    }
   ],
   "source": [
    "type (55)"
   ]
  },
  {
   "cell_type": "code",
   "execution_count": 30,
   "id": "f5da12df-ab5c-491b-a155-fc04a38186a1",
   "metadata": {},
   "outputs": [
    {
     "data": {
      "text/plain": [
       "str"
      ]
     },
     "execution_count": 30,
     "metadata": {},
     "output_type": "execute_result"
    }
   ],
   "source": [
    "type('55')"
   ]
  },
  {
   "cell_type": "code",
   "execution_count": 38,
   "id": "f2e720dc-1522-4519-9e2a-5ef675ddfbe1",
   "metadata": {},
   "outputs": [],
   "source": [
    "name=\"priya\"\n",
    "salary=80000"
   ]
  },
  {
   "cell_type": "code",
   "execution_count": 39,
   "id": "c516f8da-2c90-4418-b368-a3efa1ec8978",
   "metadata": {},
   "outputs": [
    {
     "data": {
      "text/plain": [
       "'hi my name is priya'"
      ]
     },
     "execution_count": 39,
     "metadata": {},
     "output_type": "execute_result"
    }
   ],
   "source": [
    "\"hi my name is \" + name"
   ]
  },
  {
   "cell_type": "code",
   "execution_count": 45,
   "id": "452db814-fde5-4b22-9f60-9ab7274ae6c7",
   "metadata": {},
   "outputs": [
    {
     "data": {
      "text/plain": [
       "'hi my name is priya jr and my salary is 80000.i am of priya'"
      ]
     },
     "execution_count": 45,
     "metadata": {},
     "output_type": "execute_result"
    }
   ],
   "source": [
    "\"hi my name is {0} jr and my salary is {1}.i am of {0}\".format(\"priya\", 80000)"
   ]
  },
  {
   "cell_type": "code",
   "execution_count": 47,
   "id": "f7ac30e3-8ab0-401f-9057-11264082b3ed",
   "metadata": {},
   "outputs": [],
   "source": [
    "name = \"riya\"\n",
    "age = 50\n",
    "salary = 75000\n",
    "place = \"chd\""
   ]
  },
  {
   "cell_type": "code",
   "execution_count": 49,
   "id": "a4827f44-ab86-49e2-9cde-88da335b5da9",
   "metadata": {},
   "outputs": [
    {
     "data": {
      "text/plain": [
       "'hi my name is riya, and my age is 50,and my salary is 75000,and i live in chd'"
      ]
     },
     "execution_count": 49,
     "metadata": {},
     "output_type": "execute_result"
    }
   ],
   "source": [
    "f'hi my name is {name}, and my age is {age},and my salary is {salary},and i live in {place}'"
   ]
  },
  {
   "cell_type": "code",
   "execution_count": 50,
   "id": "c9c4ad5c-3c1d-40f6-b15f-52677133628e",
   "metadata": {},
   "outputs": [
    {
     "data": {
      "text/plain": [
       "['gurleen', 'kaur']"
      ]
     },
     "execution_count": 50,
     "metadata": {},
     "output_type": "execute_result"
    }
   ],
   "source": [
    "\"gurleen kaur\".split()"
   ]
  },
  {
   "cell_type": "code",
   "execution_count": 51,
   "id": "da883bcd-2560-4d87-8c9d-00f1af530679",
   "metadata": {},
   "outputs": [
    {
     "data": {
      "text/plain": [
       "['tom', 'jerry', 'micky', 'snappy', 'staffy']"
      ]
     },
     "execution_count": 51,
     "metadata": {},
     "output_type": "execute_result"
    }
   ],
   "source": [
    "\"tom jerry micky snappy staffy\".split()"
   ]
  },
  {
   "cell_type": "code",
   "execution_count": 52,
   "id": "1590886b-f459-4db1-8e24-15401b9f2c7d",
   "metadata": {},
   "outputs": [
    {
     "data": {
      "text/plain": [
       "['2025', '07', '25']"
      ]
     },
     "execution_count": 52,
     "metadata": {},
     "output_type": "execute_result"
    }
   ],
   "source": [
    "\"2025-07-25\".split(\"-\")"
   ]
  },
  {
   "cell_type": "code",
   "execution_count": 53,
   "id": "d4a14647-8fdb-4e0a-8723-0c9441807cde",
   "metadata": {},
   "outputs": [
    {
     "data": {
      "text/plain": [
       "'gurleen'"
      ]
     },
     "execution_count": 53,
     "metadata": {},
     "output_type": "execute_result"
    }
   ],
   "source": [
    "\" gurleen \".strip()"
   ]
  },
  {
   "cell_type": "code",
   "execution_count": 54,
   "id": "d69d3a38-a301-4c8f-8d3b-9d76e97918af",
   "metadata": {},
   "outputs": [
    {
     "name": "stdout",
     "output_type": "stream",
     "text": [
      "gurleen\n",
      "gurleen \n"
     ]
    }
   ],
   "source": [
    "print('gurleen')\n",
    "print('gurleen ')"
   ]
  },
  {
   "cell_type": "code",
   "execution_count": 55,
   "id": "14334c0b-e3ae-464b-a820-44400ae38be9",
   "metadata": {},
   "outputs": [
    {
     "data": {
      "text/plain": [
       "True"
      ]
     },
     "execution_count": 55,
     "metadata": {},
     "output_type": "execute_result"
    }
   ],
   "source": [
    "\"gurleen\".islower()"
   ]
  },
  {
   "cell_type": "code",
   "execution_count": 56,
   "id": "2db59451-5a38-41fd-b6e4-b9d9ec1d7f35",
   "metadata": {},
   "outputs": [
    {
     "data": {
      "text/plain": [
       "False"
      ]
     },
     "execution_count": 56,
     "metadata": {},
     "output_type": "execute_result"
    }
   ],
   "source": [
    "\"gurleen\".isupper()"
   ]
  },
  {
   "cell_type": "code",
   "execution_count": 57,
   "id": "e16b6a42-5da6-4c37-896b-60934bb7882c",
   "metadata": {},
   "outputs": [
    {
     "data": {
      "text/plain": [
       "True"
      ]
     },
     "execution_count": 57,
     "metadata": {},
     "output_type": "execute_result"
    }
   ],
   "source": [
    "\"gurleen\".isalpha()"
   ]
  },
  {
   "cell_type": "code",
   "execution_count": 58,
   "id": "e33485ab-2ad7-457a-80e7-89de4995fb19",
   "metadata": {},
   "outputs": [
    {
     "data": {
      "text/plain": [
       "True"
      ]
     },
     "execution_count": 58,
     "metadata": {},
     "output_type": "execute_result"
    }
   ],
   "source": [
    "\"8679\".isdigit()"
   ]
  },
  {
   "cell_type": "code",
   "execution_count": 59,
   "id": "1c49eaaa-3aa8-4f84-b029-e67e143a0064",
   "metadata": {},
   "outputs": [
    {
     "data": {
      "text/plain": [
       "True"
      ]
     },
     "execution_count": 59,
     "metadata": {},
     "output_type": "execute_result"
    }
   ],
   "source": [
    "\"Gurleen50\".isalnum()"
   ]
  },
  {
   "cell_type": "code",
   "execution_count": 60,
   "id": "df4b28c9-41ab-4abe-bf2e-5bba81303cd5",
   "metadata": {},
   "outputs": [
    {
     "data": {
      "text/plain": [
       "True"
      ]
     },
     "execution_count": 60,
     "metadata": {},
     "output_type": "execute_result"
    }
   ],
   "source": [
    "\" \".isspace()"
   ]
  },
  {
   "cell_type": "code",
   "execution_count": 61,
   "id": "f600ffee-c4bc-4210-930b-ca77edddec9a",
   "metadata": {},
   "outputs": [
    {
     "name": "stdout",
     "output_type": "stream",
     "text": [
      "Help on built-in function replace:\n",
      "\n",
      "replace(old, new, /, count=-1) method of builtins.str instance\n",
      "    Return a copy with all occurrences of substring old replaced by new.\n",
      "\n",
      "      count\n",
      "        Maximum number of occurrences to replace.\n",
      "        -1 (the default value) means replace all occurrences.\n",
      "\n",
      "    If the optional argument count is given, only the first count occurrences are\n",
      "    replaced.\n",
      "\n"
     ]
    }
   ],
   "source": [
    "help(\"gurleen kaur\".replace)"
   ]
  },
  {
   "cell_type": "code",
   "execution_count": 62,
   "id": "0cbc3955-48ff-4de2-a49e-82b921b102a9",
   "metadata": {},
   "outputs": [
    {
     "data": {
      "text/plain": [
       "'g8rleen'"
      ]
     },
     "execution_count": 62,
     "metadata": {},
     "output_type": "execute_result"
    }
   ],
   "source": [
    "\"gurleen\".replace(\"u\", \"8\")"
   ]
  },
  {
   "cell_type": "code",
   "execution_count": 63,
   "id": "d6deb8d5-9f26-4c05-843f-046fd22bde24",
   "metadata": {},
   "outputs": [
    {
     "data": {
      "text/plain": [
       "'gurl33n'"
      ]
     },
     "execution_count": 63,
     "metadata": {},
     "output_type": "execute_result"
    }
   ],
   "source": [
    "\"gurleen\".replace(\"e\",\"3\",2)"
   ]
  },
  {
   "cell_type": "code",
   "execution_count": 64,
   "id": "68fb1436-1ffb-4502-b977-5d98413d7bd3",
   "metadata": {},
   "outputs": [],
   "source": [
    "name =\"gurleen kaur\""
   ]
  },
  {
   "cell_type": "code",
   "execution_count": 71,
   "id": "f94ea8e8-a7e7-4c5d-a2a9-e39f03dd98b8",
   "metadata": {},
   "outputs": [
    {
     "data": {
      "text/plain": [
       "'n'"
      ]
     },
     "execution_count": 71,
     "metadata": {},
     "output_type": "execute_result"
    }
   ],
   "source": [
    "name[6]"
   ]
  },
  {
   "cell_type": "code",
   "execution_count": 72,
   "id": "133c6673-c8ee-4515-8d7f-8ad9a2fcba65",
   "metadata": {},
   "outputs": [
    {
     "data": {
      "text/plain": [
       "12"
      ]
     },
     "execution_count": 72,
     "metadata": {},
     "output_type": "execute_result"
    }
   ],
   "source": [
    "len(name)"
   ]
  },
  {
   "cell_type": "code",
   "execution_count": 74,
   "id": "f4a4ffe5-c11e-4919-bbae-75ac30bdd8c9",
   "metadata": {},
   "outputs": [
    {
     "data": {
      "text/plain": [
       "'n'"
      ]
     },
     "execution_count": 74,
     "metadata": {},
     "output_type": "execute_result"
    }
   ],
   "source": [
    "name[-6]"
   ]
  },
  {
   "cell_type": "code",
   "execution_count": 1,
   "id": "fe436d00-ce20-4c41-aea4-825e7df2550a",
   "metadata": {},
   "outputs": [
    {
     "data": {
      "text/plain": [
       "'g'"
      ]
     },
     "execution_count": 1,
     "metadata": {},
     "output_type": "execute_result"
    }
   ],
   "source": [
    "\"gurleen\"[0]"
   ]
  },
  {
   "cell_type": "code",
   "execution_count": 2,
   "id": "c4e2f2ac-d1ea-47b4-aaef-f6b55859f10a",
   "metadata": {},
   "outputs": [
    {
     "data": {
      "text/plain": [
       "7"
      ]
     },
     "execution_count": 2,
     "metadata": {},
     "output_type": "execute_result"
    }
   ],
   "source": [
    "len(\"gurleen\")"
   ]
  },
  {
   "cell_type": "code",
   "execution_count": 3,
   "id": "d5d83641-84dc-478f-855e-6fc311332ca0",
   "metadata": {},
   "outputs": [
    {
     "data": {
      "text/plain": [
       "'e'"
      ]
     },
     "execution_count": 3,
     "metadata": {},
     "output_type": "execute_result"
    }
   ],
   "source": [
    "\"gurleen\"[-2]"
   ]
  },
  {
   "cell_type": "code",
   "execution_count": 6,
   "id": "4b2bfc02-de7f-418f-90bd-cce27df9fd25",
   "metadata": {},
   "outputs": [],
   "source": [
    "name = \"gurleen kaur\""
   ]
  },
  {
   "cell_type": "code",
   "execution_count": 7,
   "id": "222bfdcd-071e-4b2f-99ce-eca9677e2638",
   "metadata": {},
   "outputs": [
    {
     "data": {
      "text/plain": [
       "'gurleen kaur'"
      ]
     },
     "execution_count": 7,
     "metadata": {},
     "output_type": "execute_result"
    }
   ],
   "source": [
    "name"
   ]
  },
  {
   "cell_type": "code",
   "execution_count": 8,
   "id": "f80d073a-ff20-4563-8a7c-1b26b30b0577",
   "metadata": {},
   "outputs": [
    {
     "data": {
      "text/plain": [
       "'kaur'"
      ]
     },
     "execution_count": 8,
     "metadata": {},
     "output_type": "execute_result"
    }
   ],
   "source": [
    "name[8:]"
   ]
  },
  {
   "cell_type": "code",
   "execution_count": 11,
   "id": "de8e168b-f7af-4b5c-a6bc-abfdd8ebe9cd",
   "metadata": {},
   "outputs": [
    {
     "data": {
      "text/plain": [
       "'gurleen kaur'"
      ]
     },
     "execution_count": 11,
     "metadata": {},
     "output_type": "execute_result"
    }
   ],
   "source": [
    "name"
   ]
  },
  {
   "cell_type": "code",
   "execution_count": 12,
   "id": "b801af3d-92bb-498e-8782-77ad536a2426",
   "metadata": {},
   "outputs": [
    {
     "data": {
      "text/plain": [
       "'gurleen'"
      ]
     },
     "execution_count": 12,
     "metadata": {},
     "output_type": "execute_result"
    }
   ],
   "source": [
    "name[:7]"
   ]
  },
  {
   "cell_type": "code",
   "execution_count": 13,
   "id": "d71acd1c-d1fc-4d08-b2dc-485b2113b137",
   "metadata": {},
   "outputs": [],
   "source": [
    "greet = \"Hello Gurleen nice to meet you\""
   ]
  },
  {
   "cell_type": "code",
   "execution_count": 14,
   "id": "1f950c5a-ee60-440b-967c-7e14ee9134b1",
   "metadata": {},
   "outputs": [
    {
     "data": {
      "text/plain": [
       "'Hello Gurleen nice to meet you'"
      ]
     },
     "execution_count": 14,
     "metadata": {},
     "output_type": "execute_result"
    }
   ],
   "source": [
    "greet"
   ]
  },
  {
   "cell_type": "code",
   "execution_count": 15,
   "id": "d4302e78-df8f-41fa-aaaa-d5c0dc4805d2",
   "metadata": {},
   "outputs": [
    {
     "data": {
      "text/plain": [
       "30"
      ]
     },
     "execution_count": 15,
     "metadata": {},
     "output_type": "execute_result"
    }
   ],
   "source": [
    "len(greet)"
   ]
  },
  {
   "cell_type": "code",
   "execution_count": 18,
   "id": "50ba0d65-d560-4529-8556-984f25dbc614",
   "metadata": {},
   "outputs": [
    {
     "data": {
      "text/plain": [
       "'Gurleen'"
      ]
     },
     "execution_count": 18,
     "metadata": {},
     "output_type": "execute_result"
    }
   ],
   "source": [
    "greet[6:13]"
   ]
  },
  {
   "cell_type": "code",
   "execution_count": 19,
   "id": "e096666d-bb70-4aa4-b94c-5b76346ecb0c",
   "metadata": {},
   "outputs": [
    {
     "data": {
      "text/plain": [
       "'0123456789'"
      ]
     },
     "execution_count": 19,
     "metadata": {},
     "output_type": "execute_result"
    }
   ],
   "source": [
    "\"0123456789\""
   ]
  },
  {
   "cell_type": "code",
   "execution_count": 20,
   "id": "d7800ae8-cf16-4fd1-90e5-3d1d2fccf58b",
   "metadata": {},
   "outputs": [
    {
     "data": {
      "text/plain": [
       "'456'"
      ]
     },
     "execution_count": 20,
     "metadata": {},
     "output_type": "execute_result"
    }
   ],
   "source": [
    "\"0123456789\"[4:7]"
   ]
  },
  {
   "cell_type": "code",
   "execution_count": 22,
   "id": "3e4905c9-143c-4691-b47f-87c212357353",
   "metadata": {},
   "outputs": [],
   "source": [
    "s = \"the fox ran\""
   ]
  },
  {
   "cell_type": "code",
   "execution_count": 23,
   "id": "05f45e26-4f2a-4eb3-9bf0-257502c4e538",
   "metadata": {},
   "outputs": [
    {
     "data": {
      "text/plain": [
       "'the fox ran'"
      ]
     },
     "execution_count": 23,
     "metadata": {},
     "output_type": "execute_result"
    }
   ],
   "source": [
    "s"
   ]
  },
  {
   "cell_type": "code",
   "execution_count": 24,
   "id": "c10281b8-9f16-43ef-a456-fad7718ddd2d",
   "metadata": {},
   "outputs": [
    {
     "data": {
      "text/plain": [
       "'fox'"
      ]
     },
     "execution_count": 24,
     "metadata": {},
     "output_type": "execute_result"
    }
   ],
   "source": [
    "s[4:7]"
   ]
  },
  {
   "cell_type": "code",
   "execution_count": 25,
   "id": "8d401f1d-fcfb-4973-99f9-a9de7df3d79f",
   "metadata": {},
   "outputs": [],
   "source": [
    "s:[3]"
   ]
  },
  {
   "cell_type": "code",
   "execution_count": 26,
   "id": "66722953-b3e9-4b6b-9c6b-0612fc0120c7",
   "metadata": {},
   "outputs": [],
   "source": [
    "name = \"Dhyanender pratap singh\""
   ]
  },
  {
   "cell_type": "code",
   "execution_count": 27,
   "id": "24f094d3-fef6-439f-88a6-3b1178c04fdb",
   "metadata": {},
   "outputs": [
    {
     "data": {
      "text/plain": [
       "'Dhyanender pratap singh'"
      ]
     },
     "execution_count": 27,
     "metadata": {},
     "output_type": "execute_result"
    }
   ],
   "source": [
    "name[:]"
   ]
  },
  {
   "cell_type": "code",
   "execution_count": 28,
   "id": "48a85b79-3f19-4dd8-a649-7b9036762096",
   "metadata": {},
   "outputs": [
    {
     "data": {
      "text/plain": [
       "'Dhyanender pratap singh'"
      ]
     },
     "execution_count": 28,
     "metadata": {},
     "output_type": "execute_result"
    }
   ],
   "source": [
    "name"
   ]
  },
  {
   "cell_type": "code",
   "execution_count": 29,
   "id": "17696c88-3b91-4800-9708-8e520c03739c",
   "metadata": {},
   "outputs": [
    {
     "data": {
      "text/plain": [
       "'Dynne rtpsnh'"
      ]
     },
     "execution_count": 29,
     "metadata": {},
     "output_type": "execute_result"
    }
   ],
   "source": [
    "name[::2]"
   ]
  },
  {
   "cell_type": "code",
   "execution_count": 30,
   "id": "8c69c2f4-d71f-4e2f-9ce9-24d40b58d21f",
   "metadata": {},
   "outputs": [
    {
     "data": {
      "text/plain": [
       "'Dhyanender pratap singh'"
      ]
     },
     "execution_count": 30,
     "metadata": {},
     "output_type": "execute_result"
    }
   ],
   "source": [
    "name"
   ]
  },
  {
   "cell_type": "code",
   "execution_count": 31,
   "id": "e89b4242-ff4f-4ac0-95bf-354469d53483",
   "metadata": {},
   "outputs": [
    {
     "data": {
      "text/plain": [
       "'Danrrasg'"
      ]
     },
     "execution_count": 31,
     "metadata": {},
     "output_type": "execute_result"
    }
   ],
   "source": [
    "name[::3]"
   ]
  },
  {
   "cell_type": "code",
   "execution_count": 32,
   "id": "ab3fd92d-1d9a-4c13-acbd-782c3f9d8fb9",
   "metadata": {},
   "outputs": [
    {
     "data": {
      "text/plain": [
       "'Dhyanender pratap singh'"
      ]
     },
     "execution_count": 32,
     "metadata": {},
     "output_type": "execute_result"
    }
   ],
   "source": [
    "name"
   ]
  },
  {
   "cell_type": "code",
   "execution_count": 33,
   "id": "31b66ece-56a9-4b13-96cb-67449fe2a46c",
   "metadata": {},
   "outputs": [
    {
     "data": {
      "text/plain": [
       "'Dynne'"
      ]
     },
     "execution_count": 33,
     "metadata": {},
     "output_type": "execute_result"
    }
   ],
   "source": [
    "name[0:10:2]"
   ]
  },
  {
   "cell_type": "code",
   "execution_count": 36,
   "id": "d2ac581d-426e-4627-8fd6-cb27e8438b15",
   "metadata": {},
   "outputs": [
    {
     "data": {
      "text/plain": [
       "'ender pratap'"
      ]
     },
     "execution_count": 36,
     "metadata": {},
     "output_type": "execute_result"
    }
   ],
   "source": [
    "name[5:-6]"
   ]
  },
  {
   "cell_type": "code",
   "execution_count": 37,
   "id": "68b6ae3d-4747-4010-81ae-aa1994526e31",
   "metadata": {},
   "outputs": [
    {
     "data": {
      "text/plain": [
       "'edrpaa'"
      ]
     },
     "execution_count": 37,
     "metadata": {},
     "output_type": "execute_result"
    }
   ],
   "source": [
    "name[5:-6:2]"
   ]
  },
  {
   "cell_type": "code",
   "execution_count": 40,
   "id": "a797b07d-02d3-4b24-8e91-840b99f48562",
   "metadata": {},
   "outputs": [
    {
     "data": {
      "text/plain": [
       "'tap'"
      ]
     },
     "execution_count": 40,
     "metadata": {},
     "output_type": "execute_result"
    }
   ],
   "source": [
    "name[5:-6][6:][3:]"
   ]
  },
  {
   "cell_type": "code",
   "execution_count": 42,
   "id": "0958551f-0eca-4091-a1a7-d9b74ba1a43c",
   "metadata": {},
   "outputs": [
    {
     "data": {
      "text/plain": [
       "'hgnis patarp rednenayhD'"
      ]
     },
     "execution_count": 42,
     "metadata": {},
     "output_type": "execute_result"
    }
   ],
   "source": [
    "name[::-1]"
   ]
  },
  {
   "cell_type": "code",
   "execution_count": 45,
   "id": "f9a06eb1-557f-40a6-aed5-c66abe433923",
   "metadata": {},
   "outputs": [
    {
     "data": {
      "text/plain": [
       "'patarp'"
      ]
     },
     "execution_count": 45,
     "metadata": {},
     "output_type": "execute_result"
    }
   ],
   "source": [
    "name[11:17][::-1]"
   ]
  },
  {
   "cell_type": "code",
   "execution_count": 46,
   "id": "31af90e6-a1eb-424f-9fa2-bd74a50c602c",
   "metadata": {},
   "outputs": [
    {
     "data": {
      "text/plain": [
       "'Dhyanender pratap singh'"
      ]
     },
     "execution_count": 46,
     "metadata": {},
     "output_type": "execute_result"
    }
   ],
   "source": [
    "name"
   ]
  },
  {
   "cell_type": "code",
   "execution_count": 50,
   "id": "4efe9dc6-3758-4aaf-823f-415aeb2e57b4",
   "metadata": {},
   "outputs": [
    {
     "data": {
      "text/plain": [
       "'ednenayhD'"
      ]
     },
     "execution_count": 50,
     "metadata": {},
     "output_type": "execute_result"
    }
   ],
   "source": [
    "name[:9][::-1]"
   ]
  },
  {
   "cell_type": "code",
   "execution_count": 49,
   "id": "63edaffc-ebbf-4f66-8c66-696714dffb6f",
   "metadata": {},
   "outputs": [
    {
     "data": {
      "text/plain": [
       "'r pratap singh'"
      ]
     },
     "execution_count": 49,
     "metadata": {},
     "output_type": "execute_result"
    }
   ],
   "source": [
    "name[9:]"
   ]
  },
  {
   "cell_type": "code",
   "execution_count": 51,
   "id": "d2f8bbc0-e49f-4863-b692-e9297a689aab",
   "metadata": {},
   "outputs": [
    {
     "data": {
      "text/plain": [
       "'ednenayhDr pratap singh'"
      ]
     },
     "execution_count": 51,
     "metadata": {},
     "output_type": "execute_result"
    }
   ],
   "source": [
    "name[:9][::-1] +name[9:]"
   ]
  },
  {
   "cell_type": "code",
   "execution_count": 52,
   "id": "d335f1cf-c7eb-4b8c-9925-9a8d3979921b",
   "metadata": {},
   "outputs": [
    {
     "data": {
      "text/plain": [
       "'Dhyanender pratap singh'"
      ]
     },
     "execution_count": 52,
     "metadata": {},
     "output_type": "execute_result"
    }
   ],
   "source": [
    "name"
   ]
  },
  {
   "cell_type": "code",
   "execution_count": 53,
   "id": "f0cc548f-0427-4a35-8257-636ecbd2d118",
   "metadata": {},
   "outputs": [],
   "source": [
    "a =len(name)//2"
   ]
  },
  {
   "cell_type": "code",
   "execution_count": 54,
   "id": "947ffc81-566d-4a85-ada1-51942e600939",
   "metadata": {},
   "outputs": [
    {
     "data": {
      "text/plain": [
       "' rednenayhDpratap singh'"
      ]
     },
     "execution_count": 54,
     "metadata": {},
     "output_type": "execute_result"
    }
   ],
   "source": [
    "name[:a][::-1] + name[a:]"
   ]
  },
  {
   "cell_type": "code",
   "execution_count": null,
   "id": "e5b0e629-57d2-4510-befe-b5446c1e2de0",
   "metadata": {},
   "outputs": [],
   "source": []
  }
 ],
 "metadata": {
  "kernelspec": {
   "display_name": "Python 3 (ipykernel)",
   "language": "python",
   "name": "python3"
  },
  "language_info": {
   "codemirror_mode": {
    "name": "ipython",
    "version": 3
   },
   "file_extension": ".py",
   "mimetype": "text/x-python",
   "name": "python",
   "nbconvert_exporter": "python",
   "pygments_lexer": "ipython3",
   "version": "3.13.5"
  }
 },
 "nbformat": 4,
 "nbformat_minor": 5
}
