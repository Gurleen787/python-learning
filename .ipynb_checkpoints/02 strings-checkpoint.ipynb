{
 "cells": [
  {
   "cell_type": "code",
   "execution_count": 1,
   "id": "6f225ea7-4423-4dca-b782-f1ec3d8d5f0f",
   "metadata": {},
   "outputs": [
    {
     "data": {
      "text/plain": [
       "'Gurleen'"
      ]
     },
     "execution_count": 1,
     "metadata": {},
     "output_type": "execute_result"
    }
   ],
   "source": [
    "'Gurleen'"
   ]
  },
  {
   "cell_type": "code",
   "execution_count": 2,
   "id": "fad07dd5-2fbd-4814-8ef7-050c2f292787",
   "metadata": {},
   "outputs": [
    {
     "data": {
      "text/plain": [
       "'Gurleen'"
      ]
     },
     "execution_count": 2,
     "metadata": {},
     "output_type": "execute_result"
    }
   ],
   "source": [
    "\"Gurleen\""
   ]
  },
  {
   "cell_type": "code",
   "execution_count": 3,
   "id": "2368e40b-b153-4565-b7e9-0fffa1eafb28",
   "metadata": {},
   "outputs": [
    {
     "data": {
      "text/plain": [
       "'Gurleen'"
      ]
     },
     "execution_count": 3,
     "metadata": {},
     "output_type": "execute_result"
    }
   ],
   "source": [
    "\"\"\"Gurleen\"\"\""
   ]
  },
  {
   "cell_type": "code",
   "execution_count": 9,
   "id": "238a4181-4094-43d0-8544-1c731875a673",
   "metadata": {},
   "outputs": [
    {
     "name": "stdout",
     "output_type": "stream",
     "text": [
      "hi nice to meet you\n",
      "my name is gurleen\n"
     ]
    }
   ],
   "source": [
    "print(\"\"\"hi nice to meet you\n",
    "my name is gurleen\"\"\")"
   ]
  },
  {
   "cell_type": "code",
   "execution_count": 7,
   "id": "0f655596-8a4a-4321-a692-93916fbebac1",
   "metadata": {},
   "outputs": [
    {
     "data": {
      "text/plain": [
       "'hi nice to meet you\\nmy name is gurleen'"
      ]
     },
     "execution_count": 7,
     "metadata": {},
     "output_type": "execute_result"
    }
   ],
   "source": [
    "\"\"\"hi nice to meet you\n",
    "my name is gurleen\"\"\""
   ]
  },
  {
   "cell_type": "code",
   "execution_count": 8,
   "id": "4135deec-163c-43dd-8330-ce5b16326fd3",
   "metadata": {},
   "outputs": [
    {
     "data": {
      "text/plain": [
       "str"
      ]
     },
     "execution_count": 8,
     "metadata": {},
     "output_type": "execute_result"
    }
   ],
   "source": [
    "type(\"gurleen\")"
   ]
  },
  {
   "cell_type": "code",
   "execution_count": 11,
   "id": "c4e3ea7c-3fbf-4147-97f7-4dcc7662e8bf",
   "metadata": {},
   "outputs": [
    {
     "data": {
      "text/plain": [
       "'Gurleen'"
      ]
     },
     "execution_count": 11,
     "metadata": {},
     "output_type": "execute_result"
    }
   ],
   "source": [
    "\"gurleen\".capitalize()"
   ]
  },
  {
   "cell_type": "code",
   "execution_count": 12,
   "id": "2dbc144b-33f8-42b5-abc5-bc50f5e5e4de",
   "metadata": {},
   "outputs": [
    {
     "data": {
      "text/plain": [
       "'GURLEEN'"
      ]
     },
     "execution_count": 12,
     "metadata": {},
     "output_type": "execute_result"
    }
   ],
   "source": [
    "\"gurleen\".upper()"
   ]
  },
  {
   "cell_type": "code",
   "execution_count": 13,
   "id": "e9543fff-db6a-4a7a-bb9e-674b00a257cb",
   "metadata": {},
   "outputs": [
    {
     "data": {
      "text/plain": [
       "'gurleen'"
      ]
     },
     "execution_count": 13,
     "metadata": {},
     "output_type": "execute_result"
    }
   ],
   "source": [
    "'GURLEEN'.lower()"
   ]
  },
  {
   "cell_type": "code",
   "execution_count": 14,
   "id": "af5fb489-c07d-4123-98e2-aea1db0751fc",
   "metadata": {},
   "outputs": [
    {
     "data": {
      "text/plain": [
       "2"
      ]
     },
     "execution_count": 14,
     "metadata": {},
     "output_type": "execute_result"
    }
   ],
   "source": [
    "\"gurleen\".count('e')"
   ]
  },
  {
   "cell_type": "code",
   "execution_count": 15,
   "id": "064d63d7-027c-4093-a69d-e2f36c85abcd",
   "metadata": {},
   "outputs": [],
   "source": [
    "name=\"gurleen\""
   ]
  },
  {
   "cell_type": "code",
   "execution_count": 19,
   "id": "9e25a5fc-da88-4d38-9434-dfa018dcf621",
   "metadata": {},
   "outputs": [
    {
     "data": {
      "text/plain": [
       "3"
      ]
     },
     "execution_count": 19,
     "metadata": {},
     "output_type": "execute_result"
    }
   ],
   "source": [
    "name.find('l')"
   ]
  },
  {
   "cell_type": "code",
   "execution_count": 20,
   "id": "f2dee355-ce9a-4abd-b104-39e00a8a2750",
   "metadata": {},
   "outputs": [
    {
     "data": {
      "text/plain": [
       "7"
      ]
     },
     "execution_count": 20,
     "metadata": {},
     "output_type": "execute_result"
    }
   ],
   "source": [
    "len(name)"
   ]
  },
  {
   "cell_type": "code",
   "execution_count": 21,
   "id": "e8b55482-a4f6-4ce3-9554-067b285fe256",
   "metadata": {},
   "outputs": [],
   "source": [
    "first_name =\"Gurleen\""
   ]
  },
  {
   "cell_type": "code",
   "execution_count": 24,
   "id": "f64a752e-d778-480e-a472-bc65774de7df",
   "metadata": {},
   "outputs": [],
   "source": [
    "Last_name =\"kaur\""
   ]
  },
  {
   "cell_type": "code",
   "execution_count": 26,
   "id": "ffba8205-d9d2-41ce-8afc-ebd73870e357",
   "metadata": {},
   "outputs": [
    {
     "data": {
      "text/plain": [
       "'Gurleen kaur'"
      ]
     },
     "execution_count": 26,
     "metadata": {},
     "output_type": "execute_result"
    }
   ],
   "source": [
    "first_name +\" \"+Last_name"
   ]
  },
  {
   "cell_type": "code",
   "execution_count": 27,
   "id": "f4f93ac6-d111-4ccc-ab3a-8b5e153859e0",
   "metadata": {},
   "outputs": [
    {
     "data": {
      "text/plain": [
       "'55'"
      ]
     },
     "execution_count": 27,
     "metadata": {},
     "output_type": "execute_result"
    }
   ],
   "source": [
    "\"5\"+\"5\""
   ]
  },
  {
   "cell_type": "code",
   "execution_count": 28,
   "id": "e37552ab-6535-4949-9983-2489729b78a6",
   "metadata": {},
   "outputs": [
    {
     "name": "stdout",
     "output_type": "stream",
     "text": [
      "55\n",
      "55\n"
     ]
    }
   ],
   "source": [
    "print(\"55\")\n",
    "print(55)"
   ]
  },
  {
   "cell_type": "code",
   "execution_count": 29,
   "id": "6f1b26ac-c680-4a62-890c-4b3c6cbff621",
   "metadata": {},
   "outputs": [
    {
     "data": {
      "text/plain": [
       "int"
      ]
     },
     "execution_count": 29,
     "metadata": {},
     "output_type": "execute_result"
    }
   ],
   "source": [
    "type (55)"
   ]
  },
  {
   "cell_type": "code",
   "execution_count": 30,
   "id": "f5da12df-ab5c-491b-a155-fc04a38186a1",
   "metadata": {},
   "outputs": [
    {
     "data": {
      "text/plain": [
       "str"
      ]
     },
     "execution_count": 30,
     "metadata": {},
     "output_type": "execute_result"
    }
   ],
   "source": [
    "type('55')"
   ]
  },
  {
   "cell_type": "code",
   "execution_count": 38,
   "id": "f2e720dc-1522-4519-9e2a-5ef675ddfbe1",
   "metadata": {},
   "outputs": [],
   "source": [
    "name=\"priya\"\n",
    "salary=80000"
   ]
  },
  {
   "cell_type": "code",
   "execution_count": 39,
   "id": "c516f8da-2c90-4418-b368-a3efa1ec8978",
   "metadata": {},
   "outputs": [
    {
     "data": {
      "text/plain": [
       "'hi my name is priya'"
      ]
     },
     "execution_count": 39,
     "metadata": {},
     "output_type": "execute_result"
    }
   ],
   "source": [
    "\"hi my name is \" + name"
   ]
  },
  {
   "cell_type": "code",
   "execution_count": 45,
   "id": "452db814-fde5-4b22-9f60-9ab7274ae6c7",
   "metadata": {},
   "outputs": [
    {
     "data": {
      "text/plain": [
       "'hi my name is priya jr and my salary is 80000.i am of priya'"
      ]
     },
     "execution_count": 45,
     "metadata": {},
     "output_type": "execute_result"
    }
   ],
   "source": [
    "\"hi my name is {0} jr and my salary is {1}.i am of {0}\".format(\"priya\", 80000)"
   ]
  },
  {
   "cell_type": "code",
   "execution_count": 47,
   "id": "f7ac30e3-8ab0-401f-9057-11264082b3ed",
   "metadata": {},
   "outputs": [],
   "source": [
    "name = \"riya\"\n",
    "age = 50\n",
    "salary = 75000\n",
    "place = \"chd\""
   ]
  },
  {
   "cell_type": "code",
   "execution_count": 49,
   "id": "a4827f44-ab86-49e2-9cde-88da335b5da9",
   "metadata": {},
   "outputs": [
    {
     "data": {
      "text/plain": [
       "'hi my name is riya, and my age is 50,and my salary is 75000,and i live in chd'"
      ]
     },
     "execution_count": 49,
     "metadata": {},
     "output_type": "execute_result"
    }
   ],
   "source": [
    "f'hi my name is {name}, and my age is {age},and my salary is {salary},and i live in {place}'"
   ]
  },
  {
   "cell_type": "code",
   "execution_count": 50,
   "id": "c9c4ad5c-3c1d-40f6-b15f-52677133628e",
   "metadata": {},
   "outputs": [
    {
     "data": {
      "text/plain": [
       "['gurleen', 'kaur']"
      ]
     },
     "execution_count": 50,
     "metadata": {},
     "output_type": "execute_result"
    }
   ],
   "source": [
    "\"gurleen kaur\".split()"
   ]
  },
  {
   "cell_type": "code",
   "execution_count": 51,
   "id": "da883bcd-2560-4d87-8c9d-00f1af530679",
   "metadata": {},
   "outputs": [
    {
     "data": {
      "text/plain": [
       "['tom', 'jerry', 'micky', 'snappy', 'staffy']"
      ]
     },
     "execution_count": 51,
     "metadata": {},
     "output_type": "execute_result"
    }
   ],
   "source": [
    "\"tom jerry micky snappy staffy\".split()"
   ]
  },
  {
   "cell_type": "code",
   "execution_count": 52,
   "id": "1590886b-f459-4db1-8e24-15401b9f2c7d",
   "metadata": {},
   "outputs": [
    {
     "data": {
      "text/plain": [
       "['2025', '07', '25']"
      ]
     },
     "execution_count": 52,
     "metadata": {},
     "output_type": "execute_result"
    }
   ],
   "source": [
    "\"2025-07-25\".split(\"-\")"
   ]
  },
  {
   "cell_type": "code",
   "execution_count": 53,
   "id": "d4a14647-8fdb-4e0a-8723-0c9441807cde",
   "metadata": {},
   "outputs": [
    {
     "data": {
      "text/plain": [
       "'gurleen'"
      ]
     },
     "execution_count": 53,
     "metadata": {},
     "output_type": "execute_result"
    }
   ],
   "source": [
    "\" gurleen \".strip()"
   ]
  },
  {
   "cell_type": "code",
   "execution_count": 54,
   "id": "d69d3a38-a301-4c8f-8d3b-9d76e97918af",
   "metadata": {},
   "outputs": [
    {
     "name": "stdout",
     "output_type": "stream",
     "text": [
      "gurleen\n",
      "gurleen \n"
     ]
    }
   ],
   "source": [
    "print('gurleen')\n",
    "print('gurleen ')"
   ]
  },
  {
   "cell_type": "code",
   "execution_count": 55,
   "id": "14334c0b-e3ae-464b-a820-44400ae38be9",
   "metadata": {},
   "outputs": [
    {
     "data": {
      "text/plain": [
       "True"
      ]
     },
     "execution_count": 55,
     "metadata": {},
     "output_type": "execute_result"
    }
   ],
   "source": [
    "\"gurleen\".islower()"
   ]
  },
  {
   "cell_type": "code",
   "execution_count": 56,
   "id": "2db59451-5a38-41fd-b6e4-b9d9ec1d7f35",
   "metadata": {},
   "outputs": [
    {
     "data": {
      "text/plain": [
       "False"
      ]
     },
     "execution_count": 56,
     "metadata": {},
     "output_type": "execute_result"
    }
   ],
   "source": [
    "\"gurleen\".isupper()"
   ]
  },
  {
   "cell_type": "code",
   "execution_count": 57,
   "id": "e16b6a42-5da6-4c37-896b-60934bb7882c",
   "metadata": {},
   "outputs": [
    {
     "data": {
      "text/plain": [
       "True"
      ]
     },
     "execution_count": 57,
     "metadata": {},
     "output_type": "execute_result"
    }
   ],
   "source": [
    "\"gurleen\".isalpha()"
   ]
  },
  {
   "cell_type": "code",
   "execution_count": 58,
   "id": "e33485ab-2ad7-457a-80e7-89de4995fb19",
   "metadata": {},
   "outputs": [
    {
     "data": {
      "text/plain": [
       "True"
      ]
     },
     "execution_count": 58,
     "metadata": {},
     "output_type": "execute_result"
    }
   ],
   "source": [
    "\"8679\".isdigit()"
   ]
  },
  {
   "cell_type": "code",
   "execution_count": 59,
   "id": "1c49eaaa-3aa8-4f84-b029-e67e143a0064",
   "metadata": {},
   "outputs": [
    {
     "data": {
      "text/plain": [
       "True"
      ]
     },
     "execution_count": 59,
     "metadata": {},
     "output_type": "execute_result"
    }
   ],
   "source": [
    "\"Gurleen50\".isalnum()"
   ]
  },
  {
   "cell_type": "code",
   "execution_count": 60,
   "id": "df4b28c9-41ab-4abe-bf2e-5bba81303cd5",
   "metadata": {},
   "outputs": [
    {
     "data": {
      "text/plain": [
       "True"
      ]
     },
     "execution_count": 60,
     "metadata": {},
     "output_type": "execute_result"
    }
   ],
   "source": [
    "\" \".isspace()"
   ]
  },
  {
   "cell_type": "code",
   "execution_count": 61,
   "id": "f600ffee-c4bc-4210-930b-ca77edddec9a",
   "metadata": {},
   "outputs": [
    {
     "name": "stdout",
     "output_type": "stream",
     "text": [
      "Help on built-in function replace:\n",
      "\n",
      "replace(old, new, /, count=-1) method of builtins.str instance\n",
      "    Return a copy with all occurrences of substring old replaced by new.\n",
      "\n",
      "      count\n",
      "        Maximum number of occurrences to replace.\n",
      "        -1 (the default value) means replace all occurrences.\n",
      "\n",
      "    If the optional argument count is given, only the first count occurrences are\n",
      "    replaced.\n",
      "\n"
     ]
    }
   ],
   "source": [
    "help(\"gurleen kaur\".replace)"
   ]
  },
  {
   "cell_type": "code",
   "execution_count": 62,
   "id": "0cbc3955-48ff-4de2-a49e-82b921b102a9",
   "metadata": {},
   "outputs": [
    {
     "data": {
      "text/plain": [
       "'g8rleen'"
      ]
     },
     "execution_count": 62,
     "metadata": {},
     "output_type": "execute_result"
    }
   ],
   "source": [
    "\"gurleen\".replace(\"u\", \"8\")"
   ]
  },
  {
   "cell_type": "code",
   "execution_count": 63,
   "id": "d6deb8d5-9f26-4c05-843f-046fd22bde24",
   "metadata": {},
   "outputs": [
    {
     "data": {
      "text/plain": [
       "'gurl33n'"
      ]
     },
     "execution_count": 63,
     "metadata": {},
     "output_type": "execute_result"
    }
   ],
   "source": [
    "\"gurleen\".replace(\"e\",\"3\",2)"
   ]
  },
  {
   "cell_type": "code",
   "execution_count": 64,
   "id": "68fb1436-1ffb-4502-b977-5d98413d7bd3",
   "metadata": {},
   "outputs": [],
   "source": [
    "name =\"gurleen kaur\""
   ]
  },
  {
   "cell_type": "code",
   "execution_count": 71,
   "id": "f94ea8e8-a7e7-4c5d-a2a9-e39f03dd98b8",
   "metadata": {},
   "outputs": [
    {
     "data": {
      "text/plain": [
       "'n'"
      ]
     },
     "execution_count": 71,
     "metadata": {},
     "output_type": "execute_result"
    }
   ],
   "source": [
    "name[6]"
   ]
  },
  {
   "cell_type": "code",
   "execution_count": 72,
   "id": "133c6673-c8ee-4515-8d7f-8ad9a2fcba65",
   "metadata": {},
   "outputs": [
    {
     "data": {
      "text/plain": [
       "12"
      ]
     },
     "execution_count": 72,
     "metadata": {},
     "output_type": "execute_result"
    }
   ],
   "source": [
    "len(name)"
   ]
  },
  {
   "cell_type": "code",
   "execution_count": 74,
   "id": "f4a4ffe5-c11e-4919-bbae-75ac30bdd8c9",
   "metadata": {},
   "outputs": [
    {
     "data": {
      "text/plain": [
       "'n'"
      ]
     },
     "execution_count": 74,
     "metadata": {},
     "output_type": "execute_result"
    }
   ],
   "source": [
    "name[-6]"
   ]
  },
  {
   "cell_type": "code",
   "execution_count": null,
   "id": "fe436d00-ce20-4c41-aea4-825e7df2550a",
   "metadata": {},
   "outputs": [],
   "source": []
  }
 ],
 "metadata": {
  "kernelspec": {
   "display_name": "Python 3 (ipykernel)",
   "language": "python",
   "name": "python3"
  },
  "language_info": {
   "codemirror_mode": {
    "name": "ipython",
    "version": 3
   },
   "file_extension": ".py",
   "mimetype": "text/x-python",
   "name": "python",
   "nbconvert_exporter": "python",
   "pygments_lexer": "ipython3",
   "version": "3.13.5"
  }
 },
 "nbformat": 4,
 "nbformat_minor": 5
}
