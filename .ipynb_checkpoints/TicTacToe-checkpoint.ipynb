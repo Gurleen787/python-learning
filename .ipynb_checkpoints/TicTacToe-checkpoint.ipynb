{
 "cells": [
  {
   "cell_type": "markdown",
   "id": "3e1f529d-dd44-4427-8cf5-daa532f9c2e7",
   "metadata": {},
   "source": [
    "### display\n"
   ]
  },
  {
   "cell_type": "code",
   "execution_count": 16,
   "id": "7f97ce1a-c660-455a-ae92-24c3860bfa18",
   "metadata": {},
   "outputs": [],
   "source": [
    "li = [\" \"]*10"
   ]
  },
  {
   "cell_type": "code",
   "execution_count": 17,
   "id": "f1ae030e-7d0e-457b-abcb-b30979873a7b",
   "metadata": {},
   "outputs": [
    {
     "data": {
      "text/plain": [
       "[' ', ' ', ' ', ' ', ' ', ' ', ' ', ' ', ' ', ' ']"
      ]
     },
     "execution_count": 17,
     "metadata": {},
     "output_type": "execute_result"
    }
   ],
   "source": [
    "li"
   ]
  },
  {
   "cell_type": "code",
   "execution_count": 18,
   "id": "9fb6c498-aaa2-4ef1-9b3c-6efdb4833c41",
   "metadata": {},
   "outputs": [],
   "source": [
    "li[5] = \"X\""
   ]
  },
  {
   "cell_type": "code",
   "execution_count": 6,
   "id": "3b5cc27d-2018-4371-b870-1968fb54d8d8",
   "metadata": {},
   "outputs": [],
   "source": [
    "def display():\n",
    "    print(li[7],\" | \",li[8],\" | \",li[9])\n",
    "    print(\"-\"*14)  \n",
    "    print(li[4],\" | \",li[5],\" | \",li[6])\n",
    "    print(\"-\"*14) \n",
    "    print(li[1],\" | \",li[2],\" | \",li[3])\n",
    "    print(\"-\"*14) \n",
    "  "
   ]
  },
  {
   "cell_type": "code",
   "execution_count": 19,
   "id": "3beba67c-dde7-47ff-8de5-8492c3812742",
   "metadata": {},
   "outputs": [
    {
     "name": "stdout",
     "output_type": "stream",
     "text": [
      "   |     |   \n",
      "--------------\n",
      "   |  X  |   \n",
      "--------------\n",
      "   |     |   \n",
      "--------------\n"
     ]
    }
   ],
   "source": [
    "display()"
   ]
  },
  {
   "cell_type": "code",
   "execution_count": 20,
   "id": "dd294844-fecb-4c0f-bbfd-a2eaa164e00a",
   "metadata": {},
   "outputs": [],
   "source": [
    "def empty_positions():\n",
    "    ans = []\n",
    "    for i in range(1, len(li)):\n",
    "        if li[i] == \" \":\n",
    "            ans.append(i)\n",
    "    return ans"
   ]
  },
  {
   "cell_type": "code",
   "execution_count": 21,
   "id": "bb84db31-5248-4d48-975a-c65beede09e2",
   "metadata": {},
   "outputs": [],
   "source": [
    "def take_position():\n",
    "    position = None\n",
    "    available = empty_positions()\n",
    "    while position is None:\n",
    "        try:\n",
    "            position = int(input(f'please chose among {available}'))\n",
    "        except ValueError:\n",
    "            print(f\"please provide a number among {available}\")\n",
    "        else:\n",
    "            if position in available:\n",
    "                return position\n",
    "            else:\n",
    "                print(f\"please provide a number among {available}\")\n",
    "                position = None\n"
   ]
  },
  {
   "cell_type": "code",
   "execution_count": 22,
   "id": "09a2a165-f576-4840-8ed2-eeb75dce96f5",
   "metadata": {},
   "outputs": [],
   "source": [
    "def put_marker(position, marker):\n",
    "    li[position] = marker"
   ]
  },
  {
   "cell_type": "code",
   "execution_count": 23,
   "id": "7f1bca8d-4a32-4d5f-988d-7e7e3b123969",
   "metadata": {},
   "outputs": [
    {
     "data": {
      "text/plain": [
       "[1, 2, 3, 4, 6, 7, 8, 9]"
      ]
     },
     "execution_count": 23,
     "metadata": {},
     "output_type": "execute_result"
    }
   ],
   "source": [
    "empty_positions()"
   ]
  },
  {
   "cell_type": "code",
   "execution_count": 24,
   "id": "f67a6226-d756-4189-bee3-1456c31180fc",
   "metadata": {},
   "outputs": [],
   "source": [
    "def check_win():\n",
    "    # horizontal\n",
    "    if (li[7]==li[8]==li[9]!=\" \") or \\\n",
    "    (li[4]==li[5]==li[6]!=\" \") or \\\n",
    "    (li[1]==li[2]==li[3]!=\" \") or \\\n",
    "    (li[7]==li[4]==li[1]!=\" \") or \\\n",
    "    (li[8]==li[5]==li[2]!=\" \") or \\\n",
    "    (li[9]==li[6]==li[3]!=\" \") or \\\n",
    "    (li[7]==li[5]==li[3]!=\" \") or \\\n",
    "    (li[1]==li[5]==li[9]!=\" \"):\n",
    "        return True\n",
    "    else:\n",
    "        return False\n"
   ]
  },
  {
   "cell_type": "code",
   "execution_count": 25,
   "id": "72ead857-6ee5-4cca-ba55-575fa8e629ca",
   "metadata": {},
   "outputs": [],
   "source": [
    "def board_full():\n",
    "    if len(empty_positions())==0:\n",
    "        return True\n",
    "    else:\n",
    "        return False"
   ]
  },
  {
   "cell_type": "code",
   "execution_count": 26,
   "id": "72d440ec-4319-4559-831b-2febdcbfd843",
   "metadata": {},
   "outputs": [
    {
     "data": {
      "text/plain": [
       "False"
      ]
     },
     "execution_count": 26,
     "metadata": {},
     "output_type": "execute_result"
    }
   ],
   "source": [
    "board_full()"
   ]
  },
  {
   "cell_type": "code",
   "execution_count": 27,
   "id": "3db60362-527d-4bac-b4c0-9ff3c1234bdf",
   "metadata": {},
   "outputs": [],
   "source": [
    "li = [\" \"]*10"
   ]
  },
  {
   "cell_type": "code",
   "execution_count": null,
   "id": "722f54c5-4a1c-473c-8698-378e029ea817",
   "metadata": {},
   "outputs": [],
   "source": []
  }
 ],
 "metadata": {
  "kernelspec": {
   "display_name": "Python 3 (ipykernel)",
   "language": "python",
   "name": "python3"
  },
  "language_info": {
   "codemirror_mode": {
    "name": "ipython",
    "version": 3
   },
   "file_extension": ".py",
   "mimetype": "text/x-python",
   "name": "python",
   "nbconvert_exporter": "python",
   "pygments_lexer": "ipython3",
   "version": "3.13.5"
  }
 },
 "nbformat": 4,
 "nbformat_minor": 5
}
