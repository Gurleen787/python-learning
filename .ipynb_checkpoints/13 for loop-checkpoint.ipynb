{
 "cells": [
  {
   "cell_type": "code",
   "execution_count": 1,
   "id": "f315164b-7528-4bca-b21b-0dbb549b14e0",
   "metadata": {},
   "outputs": [
    {
     "name": "stdout",
     "output_type": "stream",
     "text": [
      "0\n",
      "1\n",
      "2\n",
      "3\n",
      "4\n"
     ]
    }
   ],
   "source": [
    "i = 0\n",
    "n = 5\n",
    "while i < n:\n",
    "    print(i)\n",
    "    i += 1"
   ]
  },
  {
   "cell_type": "code",
   "execution_count": 4,
   "id": "88b1b859-459b-4a06-a895-715c77196a30",
   "metadata": {},
   "outputs": [
    {
     "name": "stdout",
     "output_type": "stream",
     "text": [
      "3\n",
      "2\n",
      "1\n"
     ]
    }
   ],
   "source": [
    "i = 3\n",
    "while i:\n",
    "    print(i)\n",
    "    i -= 1\n"
   ]
  },
  {
   "cell_type": "code",
   "execution_count": 6,
   "id": "7fa7ea12-4747-4923-a7f8-b8ffe8ee4c2a",
   "metadata": {},
   "outputs": [
    {
     "name": "stdout",
     "output_type": "stream",
     "text": [
      "5\n",
      "4\n",
      "3\n",
      "2\n",
      "1\n"
     ]
    }
   ],
   "source": [
    "i = 5\n",
    "n = 0\n",
    "while i > n:\n",
    "    print(i)\n",
    "    i -= 1"
   ]
  },
  {
   "cell_type": "code",
   "execution_count": 7,
   "id": "4f051fc3-4a45-4920-8d5c-e4d45567d5f3",
   "metadata": {},
   "outputs": [],
   "source": [
    "name = \"gurleen\""
   ]
  },
  {
   "cell_type": "code",
   "execution_count": 8,
   "id": "aba1adae-9a0d-4190-8b4a-ba1c9a0e9612",
   "metadata": {},
   "outputs": [
    {
     "name": "stdout",
     "output_type": "stream",
     "text": [
      "hi\n",
      "hi\n",
      "hi\n",
      "hi\n",
      "hi\n",
      "hi\n",
      "hi\n"
     ]
    }
   ],
   "source": [
    "for alphabet in name:\n",
    "    print(\"hi\")"
   ]
  },
  {
   "cell_type": "code",
   "execution_count": 10,
   "id": "a92b92fb-5eca-438b-b0fa-5989bb94534d",
   "metadata": {},
   "outputs": [],
   "source": [
    "name = \"gurleen\""
   ]
  },
  {
   "cell_type": "code",
   "execution_count": 17,
   "id": "e1209e25-44b3-4b3c-816c-8505fcf66240",
   "metadata": {},
   "outputs": [
    {
     "name": "stdout",
     "output_type": "stream",
     "text": [
      "g\n",
      "u\n",
      "r\n",
      "l\n",
      "e\n",
      "e\n",
      "n\n"
     ]
    }
   ],
   "source": [
    "for alphabet in name:\n",
    "    print(alphabet)"
   ]
  },
  {
   "cell_type": "code",
   "execution_count": 18,
   "id": "ef9b25ea-c70f-4f98-bd4e-16ee17928e9c",
   "metadata": {},
   "outputs": [
    {
     "name": "stdout",
     "output_type": "stream",
     "text": [
      "tomato\n",
      "potato\n",
      "onion\n"
     ]
    }
   ],
   "source": [
    "list =[\"tomato\",\"potato\",\"onion\"]\n",
    "\n",
    "for vegetable in list:\n",
    "    print(vegetable)"
   ]
  },
  {
   "cell_type": "code",
   "execution_count": 19,
   "id": "9c661404-22a3-4041-94d4-221996575774",
   "metadata": {},
   "outputs": [
    {
     "name": "stdout",
     "output_type": "stream",
     "text": [
      "Hello Riya\n",
      "Hello Priya\n",
      "Hello Neha\n",
      "Hello Akash\n"
     ]
    }
   ],
   "source": [
    "course =[\"Riya\",\"Priya\",\"Neha\",\"Akash\"]\n",
    "\n",
    "for person in course:\n",
    "    print(\"Hello\",person)"
   ]
  },
  {
   "cell_type": "code",
   "execution_count": 20,
   "id": "6379409f-fbeb-414d-bcb6-250e9b0565d7",
   "metadata": {},
   "outputs": [
    {
     "name": "stdout",
     "output_type": "stream",
     "text": [
      "4\n",
      "5\n",
      "6\n",
      "7\n",
      "8\n"
     ]
    }
   ],
   "source": [
    "s={8,5,6,7,4}\n",
    "for i in s:\n",
    "    print(i)"
   ]
  },
  {
   "cell_type": "code",
   "execution_count": 22,
   "id": "3579fc26-dd9e-4fa2-98da-7a918cb07dcd",
   "metadata": {},
   "outputs": [
    {
     "name": "stdout",
     "output_type": "stream",
     "text": [
      "0\n",
      "1\n",
      "2\n",
      "3\n",
      "4\n"
     ]
    }
   ],
   "source": [
    "i = 0\n",
    "n = 5\n",
    "while i < n:\n",
    "    print(i)\n",
    "    i +=1"
   ]
  },
  {
   "cell_type": "code",
   "execution_count": 23,
   "id": "fc1de31b-3a58-48a5-9154-a6c51c21a846",
   "metadata": {},
   "outputs": [
    {
     "name": "stdout",
     "output_type": "stream",
     "text": [
      "0\n",
      "1\n",
      "2\n",
      "3\n",
      "4\n"
     ]
    }
   ],
   "source": [
    "for i in range(5):\n",
    "    print(i)"
   ]
  },
  {
   "cell_type": "code",
   "execution_count": 25,
   "id": "750b2f96-74e3-49ec-83dc-5ce00bd2288b",
   "metadata": {},
   "outputs": [
    {
     "name": "stdout",
     "output_type": "stream",
     "text": [
      "3\n",
      "4\n",
      "5\n",
      "6\n",
      "7\n",
      "8\n",
      "9\n"
     ]
    }
   ],
   "source": [
    "i = 3\n",
    "n = 10\n",
    "while i < n:\n",
    "    print(i)\n",
    "    i += 1"
   ]
  },
  {
   "cell_type": "code",
   "execution_count": 26,
   "id": "72699ca0-0663-48e8-82d1-29fb0ab3bddf",
   "metadata": {},
   "outputs": [
    {
     "name": "stdout",
     "output_type": "stream",
     "text": [
      "3\n",
      "4\n",
      "5\n",
      "6\n",
      "7\n",
      "8\n",
      "9\n"
     ]
    }
   ],
   "source": [
    "for i in range(3,10):\n",
    "    print(i)\n"
   ]
  },
  {
   "cell_type": "code",
   "execution_count": 27,
   "id": "1f02b27e-058a-4f88-916e-694b924ac62b",
   "metadata": {},
   "outputs": [
    {
     "name": "stdout",
     "output_type": "stream",
     "text": [
      "g\n",
      "u\n",
      "r\n",
      "l\n",
      "e\n",
      "e\n",
      "n\n"
     ]
    }
   ],
   "source": [
    "name = \"gurleen\"\n",
    "for i in range(len(name)):\n",
    "    print(name[i])"
   ]
  },
  {
   "cell_type": "code",
   "execution_count": 1,
   "id": "46abcfa0-ce1f-48c3-a412-b4f648d35c5b",
   "metadata": {},
   "outputs": [
    {
     "name": "stdout",
     "output_type": "stream",
     "text": [
      "[2, 3, 4, 5]\n",
      "[4, 9, 16, 25]\n"
     ]
    }
   ],
   "source": [
    "li =[2,3,4,5]\n",
    "a =[]\n",
    "for i in li:\n",
    "    s =i ** 2\n",
    "    a.append(s)\n",
    "\n",
    "print(li)\n",
    "print(a)"
   ]
  },
  {
   "cell_type": "code",
   "execution_count": 4,
   "id": "1c0f914c-6843-4dbd-9598-d190d2a1c9e2",
   "metadata": {},
   "outputs": [
    {
     "data": {
      "text/plain": [
       "[0, 1, 2, 3, 4]"
      ]
     },
     "execution_count": 4,
     "metadata": {},
     "output_type": "execute_result"
    }
   ],
   "source": [
    "a =[i for i in range(5)]\n",
    "a"
   ]
  },
  {
   "cell_type": "code",
   "execution_count": 5,
   "id": "bb7c8ad3-d99c-483d-a668-dd7d0d996940",
   "metadata": {},
   "outputs": [
    {
     "data": {
      "text/plain": [
       "[0, 1, 2, 3, 4]"
      ]
     },
     "execution_count": 5,
     "metadata": {},
     "output_type": "execute_result"
    }
   ],
   "source": [
    "a"
   ]
  },
  {
   "cell_type": "code",
   "execution_count": 8,
   "id": "f8b0a7b5-cb5c-4893-93af-7b1445936364",
   "metadata": {},
   "outputs": [
    {
     "name": "stdout",
     "output_type": "stream",
     "text": [
      "[0, 1, 2, 3, 4]\n",
      "[0, 1, 4, 9, 16]\n"
     ]
    }
   ],
   "source": [
    "l = [i**2 for i in a]\n",
    "print(a)\n",
    "print(l)\n"
   ]
  },
  {
   "cell_type": "code",
   "execution_count": 9,
   "id": "6d346256-6e3d-4d7c-a631-0b370da43551",
   "metadata": {},
   "outputs": [
    {
     "name": "stdout",
     "output_type": "stream",
     "text": [
      "[0, 1, 2, 3, 4]\n",
      "[0, 1, 4, 9, 16]\n"
     ]
    }
   ],
   "source": [
    "l = [a[i]**2 for i in range(len(a))]\n",
    "print(a)\n",
    "print(l)"
   ]
  },
  {
   "cell_type": "code",
   "execution_count": 10,
   "id": "6c51938e-6476-4ec3-9fa0-966e7773a2ad",
   "metadata": {},
   "outputs": [
    {
     "name": "stdout",
     "output_type": "stream",
     "text": [
      "[0, 1, 2, 3, 4]\n",
      "[0, 1, 4, 9, 16]\n"
     ]
    }
   ],
   "source": [
    "print(a)\n",
    "l =[]\n",
    "for i in range(len(a)):\n",
    "    l.append(a[i]**2)\n",
    "print(l)\n"
   ]
  },
  {
   "cell_type": "code",
   "execution_count": 11,
   "id": "0d14d6b4-c4a5-402a-bb8e-c3ca54472dba",
   "metadata": {},
   "outputs": [],
   "source": [
    "name  =[\"Abishek\",\"Akash\",\"Riya\"]\n",
    "age = [20,25,30]"
   ]
  },
  {
   "cell_type": "code",
   "execution_count": 13,
   "id": "4f0e5098-c58f-4e45-8b67-f890b5c4dbce",
   "metadata": {},
   "outputs": [
    {
     "name": "stdout",
     "output_type": "stream",
     "text": [
      "Abishek 20\n",
      "Akash 25\n",
      "Riya 30\n"
     ]
    }
   ],
   "source": [
    "li = []\n",
    "for i, j in zip(name,age):\n",
    "    print(i,j)"
   ]
  },
  {
   "cell_type": "code",
   "execution_count": 14,
   "id": "2868ca17-992d-4821-86e9-d75e9639f3cb",
   "metadata": {},
   "outputs": [],
   "source": [
    "d = {}\n",
    "for i, j in zip(name,age):\n",
    "    d[i] = j"
   ]
  },
  {
   "cell_type": "code",
   "execution_count": 15,
   "id": "194312ef-eaec-4d05-a33e-a4c55df041bc",
   "metadata": {},
   "outputs": [
    {
     "data": {
      "text/plain": [
       "{'Abishek': 20, 'Akash': 25, 'Riya': 30}"
      ]
     },
     "execution_count": 15,
     "metadata": {},
     "output_type": "execute_result"
    }
   ],
   "source": [
    "d"
   ]
  },
  {
   "cell_type": "code",
   "execution_count": 16,
   "id": "7859478b-b5b9-42f0-98fc-4e2c2dd59e14",
   "metadata": {},
   "outputs": [
    {
     "data": {
      "text/plain": [
       "{'Abishek': 20, 'Akash': 25, 'Riya': 30}"
      ]
     },
     "execution_count": 16,
     "metadata": {},
     "output_type": "execute_result"
    }
   ],
   "source": [
    "{i: j for i,j in zip(name,age)}"
   ]
  },
  {
   "cell_type": "code",
   "execution_count": null,
   "id": "fa42d96e-f39a-4cd7-98ed-45626c111505",
   "metadata": {},
   "outputs": [],
   "source": []
  }
 ],
 "metadata": {
  "kernelspec": {
   "display_name": "Python 3 (ipykernel)",
   "language": "python",
   "name": "python3"
  },
  "language_info": {
   "codemirror_mode": {
    "name": "ipython",
    "version": 3
   },
   "file_extension": ".py",
   "mimetype": "text/x-python",
   "name": "python",
   "nbconvert_exporter": "python",
   "pygments_lexer": "ipython3",
   "version": "3.13.5"
  }
 },
 "nbformat": 4,
 "nbformat_minor": 5
}
