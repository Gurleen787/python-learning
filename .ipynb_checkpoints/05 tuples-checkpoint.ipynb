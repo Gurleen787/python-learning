{
 "cells": [
  {
   "cell_type": "markdown",
   "id": "88230e0c-821f-4f1c-9fa0-7c6ea6419045",
   "metadata": {},
   "source": [
    "## Tuples are ordered sequence"
   ]
  },
  {
   "cell_type": "code",
   "execution_count": 3,
   "id": "50389f3f-5a65-402e-8c52-22a3c63fd93d",
   "metadata": {},
   "outputs": [],
   "source": [
    "li = [1,2,3]"
   ]
  },
  {
   "cell_type": "code",
   "execution_count": 4,
   "id": "9db69308-bcce-4c3a-9831-2479335b97bd",
   "metadata": {},
   "outputs": [],
   "source": [
    "li[0] = 100"
   ]
  },
  {
   "cell_type": "code",
   "execution_count": 5,
   "id": "6207cf1c-49f3-41ba-b57b-c90bd711c432",
   "metadata": {},
   "outputs": [
    {
     "data": {
      "text/plain": [
       "[100, 2, 3]"
      ]
     },
     "execution_count": 5,
     "metadata": {},
     "output_type": "execute_result"
    }
   ],
   "source": [
    "li"
   ]
  },
  {
   "cell_type": "code",
   "execution_count": 6,
   "id": "8575d8be-e80a-47d6-86f5-95ace56ad6b4",
   "metadata": {},
   "outputs": [],
   "source": [
    "tu =(1,1,2,3,2,2,3,4,5,)"
   ]
  },
  {
   "cell_type": "code",
   "execution_count": 7,
   "id": "c0ae9fca-6bf4-4d7d-9820-105e43839ab0",
   "metadata": {},
   "outputs": [
    {
     "data": {
      "text/plain": [
       "3"
      ]
     },
     "execution_count": 7,
     "metadata": {},
     "output_type": "execute_result"
    }
   ],
   "source": [
    "tu.count(2)"
   ]
  },
  {
   "cell_type": "code",
   "execution_count": 8,
   "id": "414243c2-c92d-472e-9891-dfeee33e606d",
   "metadata": {},
   "outputs": [
    {
     "data": {
      "text/plain": [
       "7"
      ]
     },
     "execution_count": 8,
     "metadata": {},
     "output_type": "execute_result"
    }
   ],
   "source": [
    "tu.index(4)"
   ]
  },
  {
   "cell_type": "markdown",
   "id": "58dc30fc-f3d0-4bb0-986d-fd536253f2eb",
   "metadata": {},
   "source": [
    "# indexing slicing"
   ]
  },
  {
   "cell_type": "code",
   "execution_count": 9,
   "id": "acfd7121-f8a2-4061-b5e3-dcc039b674b9",
   "metadata": {},
   "outputs": [],
   "source": [
    "tu = tu[4:8]"
   ]
  },
  {
   "cell_type": "code",
   "execution_count": 10,
   "id": "f1461769-eebd-4b0f-90ea-6e2d057c14a0",
   "metadata": {},
   "outputs": [
    {
     "data": {
      "text/plain": [
       "(2, 2, 3, 4)"
      ]
     },
     "execution_count": 10,
     "metadata": {},
     "output_type": "execute_result"
    }
   ],
   "source": [
    "tu"
   ]
  },
  {
   "cell_type": "code",
   "execution_count": 13,
   "id": "65184961-7cf8-44f4-b346-17cf57232bcf",
   "metadata": {},
   "outputs": [],
   "source": [
    "dice =(1,2,3,4,5,6)"
   ]
  },
  {
   "cell_type": "code",
   "execution_count": 14,
   "id": "dea8f77a-1d68-4d74-bc82-cd1299b194b4",
   "metadata": {},
   "outputs": [
    {
     "data": {
      "text/plain": [
       "(2, 2, 3, 4)"
      ]
     },
     "execution_count": 14,
     "metadata": {},
     "output_type": "execute_result"
    }
   ],
   "source": [
    "tu"
   ]
  },
  {
   "cell_type": "code",
   "execution_count": null,
   "id": "289f33c8-8534-4d92-b4c4-4b873208e661",
   "metadata": {},
   "outputs": [],
   "source": []
  }
 ],
 "metadata": {
  "kernelspec": {
   "display_name": "Python 3 (ipykernel)",
   "language": "python",
   "name": "python3"
  },
  "language_info": {
   "codemirror_mode": {
    "name": "ipython",
    "version": 3
   },
   "file_extension": ".py",
   "mimetype": "text/x-python",
   "name": "python",
   "nbconvert_exporter": "python",
   "pygments_lexer": "ipython3",
   "version": "3.13.5"
  }
 },
 "nbformat": 4,
 "nbformat_minor": 5
}
