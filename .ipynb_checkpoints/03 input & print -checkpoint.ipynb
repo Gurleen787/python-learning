{
 "cells": [
  {
   "cell_type": "code",
   "execution_count": 1,
   "id": "ead55366-e880-4dad-a9b4-c1afed15cc5f",
   "metadata": {},
   "outputs": [
    {
     "data": {
      "text/plain": [
       "7"
      ]
     },
     "execution_count": 1,
     "metadata": {},
     "output_type": "execute_result"
    }
   ],
   "source": [
    "len(\"Gurleen\")"
   ]
  },
  {
   "cell_type": "code",
   "execution_count": 2,
   "id": "4b98f4d9-1481-4c33-aafa-23a2d61c67f3",
   "metadata": {},
   "outputs": [
    {
     "name": "stdout",
     "output_type": "stream",
     "text": [
      "5\n"
     ]
    }
   ],
   "source": [
    "print(5)"
   ]
  },
  {
   "cell_type": "code",
   "execution_count": 3,
   "id": "af4aad5e-cca3-4cf7-9c14-9c84c3bbc2c3",
   "metadata": {},
   "outputs": [
    {
     "name": "stdout",
     "output_type": "stream",
     "text": [
      "Gurleen\n"
     ]
    }
   ],
   "source": [
    "print(\"Gurleen\")"
   ]
  },
  {
   "cell_type": "code",
   "execution_count": 4,
   "id": "29a16642-6e33-4c32-b121-c58ba1b6d2a9",
   "metadata": {},
   "outputs": [
    {
     "data": {
      "text/plain": [
       "'Gurleen'"
      ]
     },
     "execution_count": 4,
     "metadata": {},
     "output_type": "execute_result"
    }
   ],
   "source": [
    "\"Gurleen\""
   ]
  },
  {
   "cell_type": "code",
   "execution_count": 5,
   "id": "b2283fd0-de52-4f80-b44f-d886846a209c",
   "metadata": {},
   "outputs": [],
   "source": [
    "a =5\n",
    "b =6"
   ]
  },
  {
   "cell_type": "code",
   "execution_count": 6,
   "id": "4a365df8-1a64-4d39-b9b5-7e2cba266e62",
   "metadata": {},
   "outputs": [
    {
     "data": {
      "text/plain": [
       "5"
      ]
     },
     "execution_count": 6,
     "metadata": {},
     "output_type": "execute_result"
    }
   ],
   "source": [
    "a"
   ]
  },
  {
   "cell_type": "code",
   "execution_count": 8,
   "id": "c67aff0b-be6a-43cb-814a-c945d40de563",
   "metadata": {},
   "outputs": [
    {
     "data": {
      "text/plain": [
       "6"
      ]
     },
     "execution_count": 8,
     "metadata": {},
     "output_type": "execute_result"
    }
   ],
   "source": [
    "b"
   ]
  },
  {
   "cell_type": "code",
   "execution_count": 11,
   "id": "ba8a11e8-4aa8-485d-ae36-0f783231d020",
   "metadata": {},
   "outputs": [
    {
     "name": "stdout",
     "output_type": "stream",
     "text": [
      "5\n",
      "6\n"
     ]
    }
   ],
   "source": [
    "print(a)\n",
    "print(b)"
   ]
  },
  {
   "cell_type": "code",
   "execution_count": 12,
   "id": "0045f17b-a4e7-4e43-88bc-9e6002d3ea22",
   "metadata": {},
   "outputs": [],
   "source": [
    "a = 5"
   ]
  },
  {
   "cell_type": "code",
   "execution_count": 13,
   "id": "9c80063a-f0bc-4bf6-a5a9-dabb215893f2",
   "metadata": {},
   "outputs": [
    {
     "data": {
      "text/plain": [
       "5"
      ]
     },
     "execution_count": 13,
     "metadata": {},
     "output_type": "execute_result"
    }
   ],
   "source": [
    "a"
   ]
  },
  {
   "cell_type": "code",
   "execution_count": 14,
   "id": "26c11aba-a63f-4f9e-9d9c-123c80cccaaa",
   "metadata": {},
   "outputs": [
    {
     "name": "stdout",
     "output_type": "stream",
     "text": [
      "5\n"
     ]
    }
   ],
   "source": [
    "print(5)"
   ]
  },
  {
   "cell_type": "code",
   "execution_count": 15,
   "id": "afb2c893-c04e-4ed2-90ff-e991f17cf2b1",
   "metadata": {},
   "outputs": [
    {
     "name": "stdout",
     "output_type": "stream",
     "text": [
      "5\n"
     ]
    }
   ],
   "source": [
    "a= print(5)"
   ]
  },
  {
   "cell_type": "code",
   "execution_count": 16,
   "id": "8c049617-4141-4ebf-882c-8b9ad1e33e5b",
   "metadata": {},
   "outputs": [],
   "source": [
    "a"
   ]
  },
  {
   "cell_type": "code",
   "execution_count": 18,
   "id": "1594eaf7-468a-466e-a2bb-8cf7cbe76290",
   "metadata": {},
   "outputs": [
    {
     "name": "stdout",
     "output_type": "stream",
     "text": [
      "None\n"
     ]
    }
   ],
   "source": [
    "print(a)"
   ]
  },
  {
   "cell_type": "code",
   "execution_count": 19,
   "id": "3cb1bcb2-ed93-46a2-93cd-f68094dcd9b2",
   "metadata": {},
   "outputs": [
    {
     "data": {
      "text/plain": [
       "NoneType"
      ]
     },
     "execution_count": 19,
     "metadata": {},
     "output_type": "execute_result"
    }
   ],
   "source": [
    "type (a)"
   ]
  },
  {
   "cell_type": "code",
   "execution_count": 20,
   "id": "3f25b9a9-162b-4d6b-9a71-883bb3462d8c",
   "metadata": {},
   "outputs": [
    {
     "name": "stdout",
     "output_type": "stream",
     "text": [
      "5\n"
     ]
    }
   ],
   "source": [
    "print(5)"
   ]
  },
  {
   "cell_type": "code",
   "execution_count": 21,
   "id": "b8744f67-46c5-4a08-ab94-7c39dd7a143d",
   "metadata": {
    "scrolled": true
   },
   "outputs": [
    {
     "data": {
      "text/plain": [
       "int"
      ]
     },
     "execution_count": 21,
     "metadata": {},
     "output_type": "execute_result"
    }
   ],
   "source": [
    "type(5)"
   ]
  },
  {
   "cell_type": "markdown",
   "id": "4931bbc8-6778-4e55-9f5a-7d56588e5d21",
   "metadata": {},
   "source": [
    "# input"
   ]
  },
  {
   "cell_type": "code",
   "execution_count": 30,
   "id": "6187a804-c3a1-42f9-9f4d-7cebbdb50d6c",
   "metadata": {},
   "outputs": [
    {
     "name": "stdin",
     "output_type": "stream",
     "text": [
      "enter your name gurleen\n"
     ]
    }
   ],
   "source": [
    "name=input(\"enter your name\")"
   ]
  },
  {
   "cell_type": "code",
   "execution_count": 41,
   "id": "4daed509-4883-4263-b2e4-0f048ac9b200",
   "metadata": {},
   "outputs": [
    {
     "data": {
      "text/plain": [
       "7"
      ]
     },
     "execution_count": 41,
     "metadata": {},
     "output_type": "execute_result"
    }
   ],
   "source": [
    "len(\"Gurleen\")"
   ]
  },
  {
   "cell_type": "code",
   "execution_count": 29,
   "id": "2be75cdf-1c16-4d31-b78b-81865857aa7a",
   "metadata": {},
   "outputs": [
    {
     "data": {
      "text/plain": [
       "'gurleen'"
      ]
     },
     "execution_count": 29,
     "metadata": {},
     "output_type": "execute_result"
    }
   ],
   "source": [
    "name"
   ]
  },
  {
   "cell_type": "code",
   "execution_count": 31,
   "id": "7cf803cc-26c9-4e00-8258-673e0d986875",
   "metadata": {},
   "outputs": [
    {
     "name": "stdin",
     "output_type": "stream",
     "text": [
      "enter your age 15\n"
     ]
    }
   ],
   "source": [
    "age=input('enter your age')"
   ]
  },
  {
   "cell_type": "code",
   "execution_count": 32,
   "id": "a2626b96-913f-4e37-ace8-c4ea907cddda",
   "metadata": {},
   "outputs": [
    {
     "data": {
      "text/plain": [
       "'15'"
      ]
     },
     "execution_count": 32,
     "metadata": {},
     "output_type": "execute_result"
    }
   ],
   "source": [
    "age"
   ]
  },
  {
   "cell_type": "code",
   "execution_count": 34,
   "id": "38dde4c3-8e6c-4538-8e06-09fc3c6874f5",
   "metadata": {},
   "outputs": [],
   "source": [
    "age= int(age)"
   ]
  },
  {
   "cell_type": "code",
   "execution_count": 35,
   "id": "2ab465c3-a4fe-4f0f-8344-8d25c824e83d",
   "metadata": {},
   "outputs": [
    {
     "data": {
      "text/plain": [
       "15"
      ]
     },
     "execution_count": 35,
     "metadata": {},
     "output_type": "execute_result"
    }
   ],
   "source": [
    "age"
   ]
  },
  {
   "cell_type": "code",
   "execution_count": 52,
   "id": "992c3ca7-ef06-4619-808a-72db691e897d",
   "metadata": {},
   "outputs": [
    {
     "data": {
      "text/plain": [
       "'gurleen'"
      ]
     },
     "execution_count": 52,
     "metadata": {},
     "output_type": "execute_result"
    }
   ],
   "source": [
    "name"
   ]
  },
  {
   "cell_type": "code",
   "execution_count": 2,
   "id": "8c939b59-7bd2-499e-936f-ef59eac26c0d",
   "metadata": {},
   "outputs": [
    {
     "ename": "SyntaxError",
     "evalue": "cannot assign to literal here. Maybe you meant '==' instead of '='? (1102650389.py, line 2)",
     "output_type": "error",
     "traceback": [
      "\u001b[1;36m  Cell \u001b[1;32mIn[2], line 2\u001b[1;36m\u001b[0m\n\u001b[1;33m    1 = len(name)//2\u001b[0m\n\u001b[1;37m    ^\u001b[0m\n\u001b[1;31mSyntaxError\u001b[0m\u001b[1;31m:\u001b[0m cannot assign to literal here. Maybe you meant '==' instead of '='?\n"
     ]
    }
   ],
   "source": [
    "name = input()\n",
    "1 = len(name)//2\n",
    "new = name[:1] + name[:1][::-1]\n"
   ]
  },
  {
   "cell_type": "markdown",
   "id": "95f55e04-84cb-4439-97fe-b52164db8e7d",
   "metadata": {},
   "source": [
    "# type casting"
   ]
  },
  {
   "cell_type": "code",
   "execution_count": 3,
   "id": "46cda801-7ebb-4e77-b590-d02b768f33b4",
   "metadata": {},
   "outputs": [
    {
     "data": {
      "text/plain": [
       "'50.6'"
      ]
     },
     "execution_count": 3,
     "metadata": {},
     "output_type": "execute_result"
    }
   ],
   "source": [
    "str(50.6)"
   ]
  },
  {
   "cell_type": "code",
   "execution_count": 4,
   "id": "b3b0888f-8283-47fd-976a-761dfaebc9b2",
   "metadata": {},
   "outputs": [
    {
     "data": {
      "text/plain": [
       "50"
      ]
     },
     "execution_count": 4,
     "metadata": {},
     "output_type": "execute_result"
    }
   ],
   "source": [
    "int(50.6)"
   ]
  },
  {
   "cell_type": "code",
   "execution_count": 6,
   "id": "7e95afcc-bb54-49bb-8354-8f0444f730fa",
   "metadata": {},
   "outputs": [
    {
     "data": {
      "text/plain": [
       "50"
      ]
     },
     "execution_count": 6,
     "metadata": {},
     "output_type": "execute_result"
    }
   ],
   "source": [
    "int(float(\"50.6\"))"
   ]
  },
  {
   "cell_type": "markdown",
   "id": "65d36a2f-5a1c-4915-9c40-ff05f0470d30",
   "metadata": {},
   "source": [
    "# print"
   ]
  },
  {
   "cell_type": "code",
   "execution_count": 8,
   "id": "50f1d860-51a4-4617-a9e1-7f1ba0050934",
   "metadata": {},
   "outputs": [
    {
     "name": "stdout",
     "output_type": "stream",
     "text": [
      "5\n"
     ]
    }
   ],
   "source": [
    "print(5)"
   ]
  },
  {
   "cell_type": "code",
   "execution_count": 9,
   "id": "1cb80d84-6365-4f7d-8f3b-8104323ab37b",
   "metadata": {},
   "outputs": [
    {
     "name": "stdout",
     "output_type": "stream",
     "text": [
      "5\n"
     ]
    }
   ],
   "source": [
    "a = print(5)"
   ]
  },
  {
   "cell_type": "code",
   "execution_count": 10,
   "id": "a8d0187f-c2c1-4c4e-b4d3-118f520969f7",
   "metadata": {},
   "outputs": [],
   "source": [
    "a"
   ]
  },
  {
   "cell_type": "code",
   "execution_count": 11,
   "id": "ea5bd2c0-da13-4d02-9ab6-f14533d19f8e",
   "metadata": {},
   "outputs": [
    {
     "data": {
      "text/plain": [
       "NoneType"
      ]
     },
     "execution_count": 11,
     "metadata": {},
     "output_type": "execute_result"
    }
   ],
   "source": [
    "type(a)"
   ]
  },
  {
   "cell_type": "code",
   "execution_count": 12,
   "id": "34811b2f-c6d6-4642-aa1c-c3176cbc368b",
   "metadata": {},
   "outputs": [
    {
     "name": "stdout",
     "output_type": "stream",
     "text": [
      "5 3 Gurleen Kaur\n"
     ]
    }
   ],
   "source": [
    "print(5, 3, \"Gurleen\", \"Kaur\")"
   ]
  },
  {
   "cell_type": "code",
   "execution_count": 14,
   "id": "f9e5634d-9de8-48a3-9857-669800c5b163",
   "metadata": {},
   "outputs": [
    {
     "name": "stdout",
     "output_type": "stream",
     "text": [
      "5 3 Gurleen Kaur\n"
     ]
    }
   ],
   "source": [
    "print(5, 3, \"Gurleen\", \"Kaur\",sep=\" \")"
   ]
  },
  {
   "cell_type": "code",
   "execution_count": 15,
   "id": "b1f4c0e1-2a2b-4f90-a6a7-f7a9f34f1d44",
   "metadata": {},
   "outputs": [
    {
     "name": "stdout",
     "output_type": "stream",
     "text": [
      "5 * 3 * Gurleen * Kaur\n"
     ]
    }
   ],
   "source": [
    "print(5, 3, \"Gurleen\", \"Kaur\",sep=\" * \")"
   ]
  },
  {
   "cell_type": "code",
   "execution_count": 19,
   "id": "bb064956-464b-4fb9-8534-04575dc4633c",
   "metadata": {},
   "outputs": [
    {
     "name": "stdout",
     "output_type": "stream",
     "text": [
      "50 60 70 80 * 30 - 40\n"
     ]
    }
   ],
   "source": [
    "print(50,60,70,80,end=\" * \")\n",
    "print(30,end=\" - \")\n",
    "print(40)"
   ]
  },
  {
   "cell_type": "code",
   "execution_count": 33,
   "id": "530d5d98-d69d-4c36-8cc8-498d6d9a2d81",
   "metadata": {},
   "outputs": [
    {
     "name": "stdout",
     "output_type": "stream",
     "text": [
      "gurleen 50000\n"
     ]
    }
   ],
   "source": [
    "print(\"gurleen\", 50000)"
   ]
  },
  {
   "cell_type": "code",
   "execution_count": 34,
   "id": "d3e27332-ebf6-44f0-9b25-e2ac643cfdf0",
   "metadata": {},
   "outputs": [],
   "source": [
    "a=\"\"\"hello everyone\"\"\""
   ]
  },
  {
   "cell_type": "code",
   "execution_count": 35,
   "id": "99f682c5-61c3-45c4-b269-b9e9e78d5a09",
   "metadata": {},
   "outputs": [
    {
     "name": "stdout",
     "output_type": "stream",
     "text": [
      "hello everyone\n"
     ]
    }
   ],
   "source": [
    "print(a)"
   ]
  },
  {
   "cell_type": "code",
   "execution_count": 38,
   "id": "95df5cae-aef2-4d27-bfdc-7cef510414eb",
   "metadata": {},
   "outputs": [
    {
     "name": "stdout",
     "output_type": "stream",
     "text": [
      "😀\n"
     ]
    }
   ],
   "source": [
    "print(\"\\U0001f600\")"
   ]
  },
  {
   "cell_type": "code",
   "execution_count": 39,
   "id": "11d2f67e-03ac-43c4-ba8f-566746f95b67",
   "metadata": {},
   "outputs": [
    {
     "data": {
      "text/plain": [
       "140736904279080"
      ]
     },
     "execution_count": 39,
     "metadata": {},
     "output_type": "execute_result"
    }
   ],
   "source": [
    "id(5)"
   ]
  },
  {
   "cell_type": "code",
   "execution_count": 42,
   "id": "bda64238-7f91-4c97-bfcd-e22967e8e458",
   "metadata": {},
   "outputs": [
    {
     "data": {
      "text/plain": [
       "0"
      ]
     },
     "execution_count": 42,
     "metadata": {},
     "output_type": "execute_result"
    }
   ],
   "source": [
    "#1 bit\n",
    "0"
   ]
  },
  {
   "cell_type": "code",
   "execution_count": 43,
   "id": "762d34e3-bdbc-441c-82ae-2f3c60de980c",
   "metadata": {},
   "outputs": [
    {
     "data": {
      "text/plain": [
       "10010010"
      ]
     },
     "execution_count": 43,
     "metadata": {},
     "output_type": "execute_result"
    }
   ],
   "source": [
    "10010010"
   ]
  },
  {
   "cell_type": "code",
   "execution_count": 44,
   "id": "ccb63542-c335-4ccb-8852-5d067bfc3d2c",
   "metadata": {},
   "outputs": [
    {
     "data": {
      "text/plain": [
       "b'\\x00\\x00\\x00\\x00\\x00\\x00\\x00\\x00\\x00\\x00'"
      ]
     },
     "execution_count": 44,
     "metadata": {},
     "output_type": "execute_result"
    }
   ],
   "source": [
    "bytes(10)"
   ]
  },
  {
   "cell_type": "markdown",
   "id": "8b3f8bb5-210f-40c8-bf69-c9fd336bd0db",
   "metadata": {},
   "source": [
    "0 or 1 - bit\n",
    "8 bit = 1 byte\n",
    "1024 byte = 1kilobyte\n",
    "1024 kb = 1MegaByte\n",
    "1024 Mb = 1GegaByteb\n",
    "1024 GB = 1 TeraByte\n",
    "1024 TB = 1 PetaByte\n"
   ]
  },
  {
   "cell_type": "code",
   "execution_count": 48,
   "id": "3cc35c21-37ef-471e-bfd4-1550c457cb31",
   "metadata": {},
   "outputs": [
    {
     "data": {
      "text/plain": [
       "'\\x02'"
      ]
     },
     "execution_count": 48,
     "metadata": {},
     "output_type": "execute_result"
    }
   ],
   "source": [
    "chr(2)"
   ]
  },
  {
   "cell_type": "code",
   "execution_count": null,
   "id": "5ac3f587-f5ab-42a2-bfe6-0805365e684d",
   "metadata": {},
   "outputs": [],
   "source": []
  }
 ],
 "metadata": {
  "kernelspec": {
   "display_name": "Python 3 (ipykernel)",
   "language": "python",
   "name": "python3"
  },
  "language_info": {
   "codemirror_mode": {
    "name": "ipython",
    "version": 3
   },
   "file_extension": ".py",
   "mimetype": "text/x-python",
   "name": "python",
   "nbconvert_exporter": "python",
   "pygments_lexer": "ipython3",
   "version": "3.13.5"
  }
 },
 "nbformat": 4,
 "nbformat_minor": 5
}
