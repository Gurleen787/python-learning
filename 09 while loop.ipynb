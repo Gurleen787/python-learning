{
 "cells": [
  {
   "cell_type": "markdown",
   "id": "6a6bd6b0-f516-4e44-a94a-a3052552ea56",
   "metadata": {},
   "source": [
    "# While loop"
   ]
  },
  {
   "cell_type": "markdown",
   "id": "97137eb8-6ee5-4ceb-ba24-dd015a02fe24",
   "metadata": {},
   "source": [
    "## repeating a task again and again until certain creteria is satisfied"
   ]
  },
  {
   "cell_type": "code",
   "execution_count": 31,
   "id": "d9a3be7f-1d4f-4652-b480-d3c4681740d9",
   "metadata": {},
   "outputs": [
    {
     "name": "stdout",
     "output_type": "stream",
     "text": [
      "hi\n",
      "hello\n",
      "gurleen\n"
     ]
    }
   ],
   "source": [
    "# starting an infinite while loop\n",
    "while True:\n",
    "    print(\"hi\")\n",
    "    print(\"hello\")\n",
    "    break\n",
    "    print(\"bye\")\n",
    "# printing a value after while loop\n",
    "print(\"gurleen\")"
   ]
  },
  {
   "cell_type": "code",
   "execution_count": 2,
   "id": "e3964e0b-f032-45ae-b5a8-090ac4f3eb4c",
   "metadata": {},
   "outputs": [],
   "source": [
    "i = 1"
   ]
  },
  {
   "cell_type": "code",
   "execution_count": 5,
   "id": "d796f73a-ac02-4df2-a914-db487759fd2e",
   "metadata": {},
   "outputs": [
    {
     "name": "stdout",
     "output_type": "stream",
     "text": [
      "1\n",
      "2\n",
      "3\n",
      "4\n",
      "5\n"
     ]
    }
   ],
   "source": [
    "# starting a number\n",
    "i = 1\n",
    "# starting an infinite while loop\n",
    "while True:\n",
    "    # printing i\n",
    "    print(i)\n",
    "    if i == 5:\n",
    "        break\n",
    "    i += 1\n"
   ]
  },
  {
   "cell_type": "code",
   "execution_count": 7,
   "id": "79140e3d-cf6a-43a8-a17b-c551ac8137a1",
   "metadata": {},
   "outputs": [
    {
     "name": "stdout",
     "output_type": "stream",
     "text": [
      "0\n",
      "1\n",
      "2\n"
     ]
    }
   ],
   "source": [
    "# satrting a number\n",
    "i = 0\n",
    "# satrting a while loop\n",
    "while i < 3:\n",
    "    print(i)\n",
    "    # increasing i till it reaches 3\n",
    "    i +=1"
   ]
  },
  {
   "cell_type": "code",
   "execution_count": 13,
   "id": "e4d4564b-359f-4483-88de-4893d740687b",
   "metadata": {},
   "outputs": [
    {
     "name": "stdout",
     "output_type": "stream",
     "text": [
      "0\n",
      "1\n",
      "2\n",
      "3\n",
      "4\n",
      "5\n",
      "6\n",
      "7\n",
      "8\n",
      "9\n"
     ]
    }
   ],
   "source": [
    "i = 0\n",
    "n = 10\n",
    "while i < n:\n",
    "    print(i)\n",
    "    i +=1"
   ]
  },
  {
   "cell_type": "code",
   "execution_count": 21,
   "id": "89183d0f-22b8-49a9-a623-06fd43798f51",
   "metadata": {},
   "outputs": [
    {
     "name": "stdout",
     "output_type": "stream",
     "text": [
      "7 X 1 = 7\n",
      "7 X 2 = 14\n",
      "7 X 3 = 21\n",
      "7 X 4 = 28\n",
      "7 X 5 = 35\n",
      "7 X 6 = 42\n",
      "7 X 7 = 49\n",
      "7 X 8 = 56\n",
      "7 X 9 = 63\n",
      "7 X 10 = 70\n"
     ]
    }
   ],
   "source": [
    "i = 1 \n",
    "n = 11\n",
    "while i < n:\n",
    "    print(7,\"X\", i, \"=\", i*7)\n",
    "    i += 1\n",
    "    "
   ]
  },
  {
   "cell_type": "code",
   "execution_count": 30,
   "id": "27ac2404-1381-4e5f-99c8-50a8df9bbc38",
   "metadata": {},
   "outputs": [
    {
     "name": "stdout",
     "output_type": "stream",
     "text": [
      "0 0\n",
      "1 1\n",
      "2 3\n",
      "3 6\n",
      "4 10\n",
      "5 15\n",
      "6 21\n",
      "21\n"
     ]
    }
   ],
   "source": [
    "# sum of n natural numbers\n",
    "i = 0\n",
    "n = 7\n",
    "a = 0\n",
    "while i < n:\n",
    "    a += i\n",
    "    print(i, a)\n",
    "    i += 1\n",
    "print(a)"
   ]
  },
  {
   "cell_type": "code",
   "execution_count": 38,
   "id": "d585c306-1e3a-428b-8442-782b05ab66c9",
   "metadata": {},
   "outputs": [
    {
     "name": "stdout",
     "output_type": "stream",
     "text": [
      "3825\n"
     ]
    }
   ],
   "source": [
    "# sum of numbers in a range\n",
    "i = 50\n",
    "n = 101\n",
    "a = 0\n",
    "while i < n:\n",
    "    a += i\n",
    "    i += 1\n",
    "print(a)"
   ]
  },
  {
   "cell_type": "code",
   "execution_count": 39,
   "id": "b061f442-746e-4b6e-b4d6-6d803f4324f0",
   "metadata": {},
   "outputs": [],
   "source": [
    "name = \"gurleen\""
   ]
  },
  {
   "cell_type": "code",
   "execution_count": 40,
   "id": "fa608df1-082d-49ef-921d-bea6ad05a280",
   "metadata": {},
   "outputs": [
    {
     "data": {
      "text/plain": [
       "'gurleen'"
      ]
     },
     "execution_count": 40,
     "metadata": {},
     "output_type": "execute_result"
    }
   ],
   "source": [
    "name"
   ]
  },
  {
   "cell_type": "code",
   "execution_count": 41,
   "id": "b721adf9-1f92-49c4-b146-9b651b1aee98",
   "metadata": {},
   "outputs": [
    {
     "data": {
      "text/plain": [
       "7"
      ]
     },
     "execution_count": 41,
     "metadata": {},
     "output_type": "execute_result"
    }
   ],
   "source": [
    "len(name)"
   ]
  },
  {
   "cell_type": "code",
   "execution_count": 45,
   "id": "24744486-4e2d-44e3-9857-50b63ffa82d6",
   "metadata": {},
   "outputs": [
    {
     "name": "stdout",
     "output_type": "stream",
     "text": [
      "7 gurleen 0 g\n",
      "7 gurleen 1 u\n",
      "7 gurleen 2 r\n",
      "7 gurleen 3 l\n",
      "7 gurleen 4 e\n",
      "7 gurleen 5 e\n",
      "7 gurleen 6 n\n"
     ]
    }
   ],
   "source": [
    "name =\"gurleen\"\n",
    "i = 0\n",
    "n = len(name)\n",
    "while i < n:\n",
    "    print(n, name, i, name[i])\n",
    "    i +=1"
   ]
  },
  {
   "cell_type": "code",
   "execution_count": null,
   "id": "ab0331ea-c316-42c1-81b7-69d69daa94c6",
   "metadata": {},
   "outputs": [],
   "source": [
    "hlo hie hey hie bye hlo hie byye "
   ]
  }
 ],
 "metadata": {
  "kernelspec": {
   "display_name": "Python 3 (ipykernel)",
   "language": "python",
   "name": "python3"
  },
  "language_info": {
   "codemirror_mode": {
    "name": "ipython",
    "version": 3
   },
   "file_extension": ".py",
   "mimetype": "text/x-python",
   "name": "python",
   "nbconvert_exporter": "python",
   "pygments_lexer": "ipython3",
   "version": "3.13.5"
  }
 },
 "nbformat": 4,
 "nbformat_minor": 5
}
