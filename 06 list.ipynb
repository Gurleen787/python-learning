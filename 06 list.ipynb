{
 "cells": [
  {
   "cell_type": "markdown",
   "id": "92546634-240e-4110-8784-6eb034f7b4c0",
   "metadata": {},
   "source": [
    "## List (Ordered Sequence)"
   ]
  },
  {
   "cell_type": "code",
   "execution_count": 1,
   "id": "b67569b6-fd7c-4ab1-97e9-f71bf30f56ee",
   "metadata": {},
   "outputs": [
    {
     "data": {
      "text/plain": [
       "[8, 6, 4, 2]"
      ]
     },
     "execution_count": 1,
     "metadata": {},
     "output_type": "execute_result"
    }
   ],
   "source": [
    "[8,6,4,2]"
   ]
  },
  {
   "cell_type": "code",
   "execution_count": 2,
   "id": "cef71c05-2dd9-4a27-bd70-e0cd71a7f89c",
   "metadata": {},
   "outputs": [],
   "source": [
    "dogs =[\"tom\", \"snappy\", \"doggy\"]"
   ]
  },
  {
   "cell_type": "code",
   "execution_count": 3,
   "id": "a08482c3-b2ca-49a3-b186-fe7ca6a2e6e1",
   "metadata": {},
   "outputs": [
    {
     "data": {
      "text/plain": [
       "['tom', 'snappy', 'doggy']"
      ]
     },
     "execution_count": 3,
     "metadata": {},
     "output_type": "execute_result"
    }
   ],
   "source": [
    "dogs"
   ]
  },
  {
   "cell_type": "code",
   "execution_count": 4,
   "id": "6700b363-fbc9-4de1-a126-7655d19c1962",
   "metadata": {},
   "outputs": [
    {
     "data": {
      "text/plain": [
       "'tom'"
      ]
     },
     "execution_count": 4,
     "metadata": {},
     "output_type": "execute_result"
    }
   ],
   "source": [
    "dogs[0]"
   ]
  },
  {
   "cell_type": "code",
   "execution_count": 5,
   "id": "adbc2918-ef34-42e7-96cd-710723c91a83",
   "metadata": {},
   "outputs": [
    {
     "data": {
      "text/plain": [
       "['tom', 'snappy']"
      ]
     },
     "execution_count": 5,
     "metadata": {},
     "output_type": "execute_result"
    }
   ],
   "source": [
    "dogs[0:2]"
   ]
  },
  {
   "cell_type": "code",
   "execution_count": 6,
   "id": "2aab7354-b930-4047-af74-5fda3bdf41d4",
   "metadata": {},
   "outputs": [
    {
     "data": {
      "text/plain": [
       "['tom', 'snappy', 'doggy']"
      ]
     },
     "execution_count": 6,
     "metadata": {},
     "output_type": "execute_result"
    }
   ],
   "source": [
    "dogs"
   ]
  },
  {
   "cell_type": "code",
   "execution_count": 8,
   "id": "5ad4cbca-6170-4dbd-aa12-4a97eab7a705",
   "metadata": {},
   "outputs": [],
   "source": [
    "dogs[0]= \"Jerry\""
   ]
  },
  {
   "cell_type": "code",
   "execution_count": 9,
   "id": "e7a0e4ae-a238-4914-9ffb-3f2c946d5b31",
   "metadata": {},
   "outputs": [
    {
     "data": {
      "text/plain": [
       "['Jerry', 'snappy', 'doggy']"
      ]
     },
     "execution_count": 9,
     "metadata": {},
     "output_type": "execute_result"
    }
   ],
   "source": [
    "dogs"
   ]
  },
  {
   "cell_type": "code",
   "execution_count": 10,
   "id": "3cbc49db-1b18-4d53-8faa-3365fd85523a",
   "metadata": {},
   "outputs": [],
   "source": [
    "li =[5, 5.3, 6.3j, \"Gurleen\", (8,5,6,4), [\"gurleen\",4,6], True, False]"
   ]
  },
  {
   "cell_type": "code",
   "execution_count": 11,
   "id": "9a28a6c7-97af-4233-b384-435a2b7ee766",
   "metadata": {},
   "outputs": [
    {
     "data": {
      "text/plain": [
       "[5, 5.3, 6.3j, 'Gurleen', (8, 5, 6, 4), ['gurleen', 4, 6], True, False]"
      ]
     },
     "execution_count": 11,
     "metadata": {},
     "output_type": "execute_result"
    }
   ],
   "source": [
    "li"
   ]
  },
  {
   "cell_type": "code",
   "execution_count": 12,
   "id": "43072459-5ec8-4143-a5aa-a922c073c5f8",
   "metadata": {},
   "outputs": [
    {
     "data": {
      "text/plain": [
       "5"
      ]
     },
     "execution_count": 12,
     "metadata": {},
     "output_type": "execute_result"
    }
   ],
   "source": [
    "li[0]"
   ]
  },
  {
   "cell_type": "code",
   "execution_count": 13,
   "id": "fc5fa563-fefc-4824-a487-9707386d3e94",
   "metadata": {},
   "outputs": [
    {
     "data": {
      "text/plain": [
       "5.3"
      ]
     },
     "execution_count": 13,
     "metadata": {},
     "output_type": "execute_result"
    }
   ],
   "source": [
    "li[1]"
   ]
  },
  {
   "cell_type": "code",
   "execution_count": 14,
   "id": "3a4f5f8c-4f94-4378-be83-c937666d2a7a",
   "metadata": {},
   "outputs": [
    {
     "data": {
      "text/plain": [
       "6.3j"
      ]
     },
     "execution_count": 14,
     "metadata": {},
     "output_type": "execute_result"
    }
   ],
   "source": [
    "li[2]"
   ]
  },
  {
   "cell_type": "code",
   "execution_count": 17,
   "id": "e4000eed-b067-47f8-b384-c164a5e075c5",
   "metadata": {},
   "outputs": [
    {
     "data": {
      "text/plain": [
       "'Gurlee'"
      ]
     },
     "execution_count": 17,
     "metadata": {},
     "output_type": "execute_result"
    }
   ],
   "source": [
    "li[3][0:6]"
   ]
  },
  {
   "cell_type": "code",
   "execution_count": 19,
   "id": "c483adf7-c566-4eb4-8a76-1710195edb43",
   "metadata": {},
   "outputs": [
    {
     "data": {
      "text/plain": [
       "8"
      ]
     },
     "execution_count": 19,
     "metadata": {},
     "output_type": "execute_result"
    }
   ],
   "source": [
    "li[4][0]"
   ]
  },
  {
   "cell_type": "code",
   "execution_count": 21,
   "id": "32a611af-959b-4716-a90f-36e20685d8a9",
   "metadata": {},
   "outputs": [
    {
     "data": {
      "text/plain": [
       "'gurleen'"
      ]
     },
     "execution_count": 21,
     "metadata": {},
     "output_type": "execute_result"
    }
   ],
   "source": [
    "li[5][0]"
   ]
  },
  {
   "cell_type": "code",
   "execution_count": 22,
   "id": "34d98713-a6c5-4cf9-9ce9-df26b64afdd2",
   "metadata": {},
   "outputs": [
    {
     "data": {
      "text/plain": [
       "['Jerry', 'snappy', 'doggy']"
      ]
     },
     "execution_count": 22,
     "metadata": {},
     "output_type": "execute_result"
    }
   ],
   "source": [
    "dogs"
   ]
  },
  {
   "cell_type": "code",
   "execution_count": 23,
   "id": "99a55819-6a5a-4ca6-b6e4-c8fad3c29c58",
   "metadata": {},
   "outputs": [],
   "source": [
    "dogs.append(\"tom\")"
   ]
  },
  {
   "cell_type": "code",
   "execution_count": 24,
   "id": "5833f794-2516-4346-a3f4-cd83c4d2f2ea",
   "metadata": {},
   "outputs": [
    {
     "data": {
      "text/plain": [
       "['Jerry', 'snappy', 'doggy', 'tom']"
      ]
     },
     "execution_count": 24,
     "metadata": {},
     "output_type": "execute_result"
    }
   ],
   "source": [
    "dogs"
   ]
  },
  {
   "cell_type": "code",
   "execution_count": 25,
   "id": "06dfd1bd-2c00-462a-8e0e-4b8130e7f4d3",
   "metadata": {},
   "outputs": [],
   "source": [
    "stu =[\"a\",\"b\",\"c\",'d','e']"
   ]
  },
  {
   "cell_type": "code",
   "execution_count": 28,
   "id": "ba18d6b3-eab3-44c3-a7ac-40cfc1875fc8",
   "metadata": {},
   "outputs": [],
   "source": [
    "fail = stu"
   ]
  },
  {
   "cell_type": "code",
   "execution_count": 30,
   "id": "2bfe3672-868c-41f1-84f0-66f1af9c5425",
   "metadata": {},
   "outputs": [],
   "source": [
    "fail[0] = \"gurleen\""
   ]
  },
  {
   "cell_type": "code",
   "execution_count": 31,
   "id": "66da64b2-0889-44f0-b486-64400eaa4c7c",
   "metadata": {},
   "outputs": [
    {
     "data": {
      "text/plain": [
       "['gurleen', 'b', 'c', 'd', 'e']"
      ]
     },
     "execution_count": 31,
     "metadata": {},
     "output_type": "execute_result"
    }
   ],
   "source": [
    "fail"
   ]
  },
  {
   "cell_type": "code",
   "execution_count": 32,
   "id": "745c8903-7504-4842-b517-ef4f42a28ae0",
   "metadata": {},
   "outputs": [],
   "source": [
    "a = [1,5,3]"
   ]
  },
  {
   "cell_type": "code",
   "execution_count": 33,
   "id": "27dcd7cc-a814-449a-ac42-324a62775627",
   "metadata": {},
   "outputs": [],
   "source": [
    "b = a"
   ]
  },
  {
   "cell_type": "code",
   "execution_count": 34,
   "id": "9afca436-208c-4cfe-9334-69f8e53d79ad",
   "metadata": {},
   "outputs": [
    {
     "data": {
      "text/plain": [
       "[1, 5, 3]"
      ]
     },
     "execution_count": 34,
     "metadata": {},
     "output_type": "execute_result"
    }
   ],
   "source": [
    "b"
   ]
  },
  {
   "cell_type": "code",
   "execution_count": 36,
   "id": "67dba51f-e423-4670-9c40-a6e0aed64770",
   "metadata": {},
   "outputs": [],
   "source": [
    "b[1]= 50"
   ]
  },
  {
   "cell_type": "code",
   "execution_count": 37,
   "id": "27472cc1-aad6-4aff-a6a2-78e86be2ea03",
   "metadata": {},
   "outputs": [
    {
     "data": {
      "text/plain": [
       "[1, 50, 3]"
      ]
     },
     "execution_count": 37,
     "metadata": {},
     "output_type": "execute_result"
    }
   ],
   "source": [
    "b"
   ]
  },
  {
   "cell_type": "code",
   "execution_count": 38,
   "id": "ae4ff1d0-58e8-4a0a-ab89-50747f9c05ca",
   "metadata": {},
   "outputs": [
    {
     "data": {
      "text/plain": [
       "[1, 50, 3]"
      ]
     },
     "execution_count": 38,
     "metadata": {},
     "output_type": "execute_result"
    }
   ],
   "source": [
    "a"
   ]
  },
  {
   "cell_type": "code",
   "execution_count": 40,
   "id": "f38d274b-55a4-415c-a8bc-3283abb94733",
   "metadata": {},
   "outputs": [],
   "source": [
    "dogs.append(\"tom\")"
   ]
  },
  {
   "cell_type": "code",
   "execution_count": 41,
   "id": "da124b91-078b-457d-9932-694cb86b45ad",
   "metadata": {},
   "outputs": [
    {
     "data": {
      "text/plain": [
       "['Jerry', 'snappy', 'doggy', 'tom', 'tom']"
      ]
     },
     "execution_count": 41,
     "metadata": {},
     "output_type": "execute_result"
    }
   ],
   "source": [
    "dogs"
   ]
  },
  {
   "cell_type": "code",
   "execution_count": 42,
   "id": "2c64dcbc-e93c-4531-b826-a0f625a3f885",
   "metadata": {},
   "outputs": [
    {
     "data": {
      "text/plain": [
       "2"
      ]
     },
     "execution_count": 42,
     "metadata": {},
     "output_type": "execute_result"
    }
   ],
   "source": [
    "dogs.count(\"tom\")"
   ]
  },
  {
   "cell_type": "code",
   "execution_count": 43,
   "id": "5f213c7c-2afe-40fe-88ce-14e71e623816",
   "metadata": {},
   "outputs": [
    {
     "data": {
      "text/plain": [
       "2"
      ]
     },
     "execution_count": 43,
     "metadata": {},
     "output_type": "execute_result"
    }
   ],
   "source": [
    "dogs.index(\"doggy\")"
   ]
  },
  {
   "cell_type": "code",
   "execution_count": 44,
   "id": "dda2da77-f768-4213-8a0c-8d91ffe4253d",
   "metadata": {},
   "outputs": [
    {
     "data": {
      "text/plain": [
       "['Jerry', 'snappy', 'doggy', 'tom', 'tom']"
      ]
     },
     "execution_count": 44,
     "metadata": {},
     "output_type": "execute_result"
    }
   ],
   "source": [
    "dogs"
   ]
  },
  {
   "cell_type": "code",
   "execution_count": 54,
   "id": "f7c70713-dd79-4c67-a0e3-e10556f79a94",
   "metadata": {},
   "outputs": [
    {
     "data": {
      "text/plain": [
       "'tom'"
      ]
     },
     "execution_count": 54,
     "metadata": {},
     "output_type": "execute_result"
    }
   ],
   "source": [
    "dogs.pop()"
   ]
  },
  {
   "cell_type": "code",
   "execution_count": 55,
   "id": "4a7d539c-3d68-4cb2-b5a1-b4b3157a4852",
   "metadata": {},
   "outputs": [
    {
     "data": {
      "text/plain": [
       "['Jerry', 'snappy', 'doggy', 'tom']"
      ]
     },
     "execution_count": 55,
     "metadata": {},
     "output_type": "execute_result"
    }
   ],
   "source": [
    "dogs"
   ]
  },
  {
   "cell_type": "code",
   "execution_count": 56,
   "id": "a20eda62-9699-4350-b05f-dbb80cffd42b",
   "metadata": {},
   "outputs": [
    {
     "data": {
      "text/plain": [
       "'doggy'"
      ]
     },
     "execution_count": 56,
     "metadata": {},
     "output_type": "execute_result"
    }
   ],
   "source": [
    "dogs.pop(2)"
   ]
  },
  {
   "cell_type": "code",
   "execution_count": 57,
   "id": "f92e7c15-87f6-4a82-9ae1-734e4b69a7a3",
   "metadata": {},
   "outputs": [
    {
     "data": {
      "text/plain": [
       "['Jerry', 'snappy', 'tom']"
      ]
     },
     "execution_count": 57,
     "metadata": {},
     "output_type": "execute_result"
    }
   ],
   "source": [
    "dogs"
   ]
  },
  {
   "cell_type": "code",
   "execution_count": 58,
   "id": "19ccd2dd-fcd1-479f-8eb7-2912c381b699",
   "metadata": {},
   "outputs": [],
   "source": [
    "dogs.append(\"doggy\")"
   ]
  },
  {
   "cell_type": "code",
   "execution_count": 63,
   "id": "5f0a4dd9-7c00-43d6-875e-dfac354da496",
   "metadata": {},
   "outputs": [
    {
     "data": {
      "text/plain": [
       "['Jerry', 'snappy', 'tom', 'doggy']"
      ]
     },
     "execution_count": 63,
     "metadata": {},
     "output_type": "execute_result"
    }
   ],
   "source": [
    "dogs"
   ]
  },
  {
   "cell_type": "code",
   "execution_count": 66,
   "id": "9a4ac029-3dca-41d0-89e5-d94ddeb35a5d",
   "metadata": {},
   "outputs": [],
   "source": [
    "dogs.sort()"
   ]
  },
  {
   "cell_type": "code",
   "execution_count": 67,
   "id": "a79dcf84-099a-4275-aa72-7ae97b4e7bb7",
   "metadata": {},
   "outputs": [
    {
     "data": {
      "text/plain": [
       "['Jerry', 'doggy', 'snappy', 'tom']"
      ]
     },
     "execution_count": 67,
     "metadata": {},
     "output_type": "execute_result"
    }
   ],
   "source": [
    "dogs"
   ]
  },
  {
   "cell_type": "code",
   "execution_count": 68,
   "id": "4d08b2a1-8d45-4b7a-a7d4-13ac4654a43c",
   "metadata": {},
   "outputs": [],
   "source": [
    "li =[8,5,4,6,9,7]"
   ]
  },
  {
   "cell_type": "code",
   "execution_count": 69,
   "id": "f903eed6-70a3-4727-a1bd-d078a5e96c79",
   "metadata": {},
   "outputs": [],
   "source": [
    "li.sort()"
   ]
  },
  {
   "cell_type": "code",
   "execution_count": 70,
   "id": "f6d53277-3f25-4336-8382-9737dd4941d3",
   "metadata": {},
   "outputs": [
    {
     "data": {
      "text/plain": [
       "[4, 5, 6, 7, 8, 9]"
      ]
     },
     "execution_count": 70,
     "metadata": {},
     "output_type": "execute_result"
    }
   ],
   "source": [
    "li"
   ]
  },
  {
   "cell_type": "code",
   "execution_count": 71,
   "id": "2d54b62f-e50b-446e-9f23-a18555903bad",
   "metadata": {},
   "outputs": [],
   "source": [
    "li.sort(reverse =True)"
   ]
  },
  {
   "cell_type": "code",
   "execution_count": 72,
   "id": "a4fd0f3e-13f8-42d6-a141-e3e073bb56c0",
   "metadata": {},
   "outputs": [
    {
     "data": {
      "text/plain": [
       "[9, 8, 7, 6, 5, 4]"
      ]
     },
     "execution_count": 72,
     "metadata": {},
     "output_type": "execute_result"
    }
   ],
   "source": [
    "li"
   ]
  },
  {
   "cell_type": "code",
   "execution_count": 73,
   "id": "318650b1-6a7f-4bcd-9106-9ad32de09c6a",
   "metadata": {},
   "outputs": [],
   "source": [
    "dogs.reverse()"
   ]
  },
  {
   "cell_type": "code",
   "execution_count": 74,
   "id": "82a27ddb-518e-4d18-99bf-82cfd40ef3e3",
   "metadata": {},
   "outputs": [
    {
     "data": {
      "text/plain": [
       "['tom', 'snappy', 'doggy', 'Jerry']"
      ]
     },
     "execution_count": 74,
     "metadata": {},
     "output_type": "execute_result"
    }
   ],
   "source": [
    "dogs"
   ]
  },
  {
   "cell_type": "code",
   "execution_count": null,
   "id": "180eeb88-dec8-427e-9077-e43a3fc88b44",
   "metadata": {},
   "outputs": [],
   "source": []
  }
 ],
 "metadata": {
  "kernelspec": {
   "display_name": "Python 3 (ipykernel)",
   "language": "python",
   "name": "python3"
  },
  "language_info": {
   "codemirror_mode": {
    "name": "ipython",
    "version": 3
   },
   "file_extension": ".py",
   "mimetype": "text/x-python",
   "name": "python",
   "nbconvert_exporter": "python",
   "pygments_lexer": "ipython3",
   "version": "3.13.5"
  }
 },
 "nbformat": 4,
 "nbformat_minor": 5
}
