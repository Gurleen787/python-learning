{
 "cells": [
  {
   "cell_type": "code",
   "execution_count": 49,
   "id": "daf1c8d4-fd22-404b-bfb2-daba872768c6",
   "metadata": {},
   "outputs": [],
   "source": [
    "d = {\"name\" : \"gurleen\",\"age\":24, \"education\":\"B.tech\" }"
   ]
  },
  {
   "cell_type": "code",
   "execution_count": 50,
   "id": "334f3e21-0360-442e-bfaf-f2c8b3545bf2",
   "metadata": {},
   "outputs": [
    {
     "data": {
      "text/plain": [
       "{'name': 'gurleen', 'age': 24, 'education': 'B.tech'}"
      ]
     },
     "execution_count": 50,
     "metadata": {},
     "output_type": "execute_result"
    }
   ],
   "source": [
    "d"
   ]
  },
  {
   "cell_type": "code",
   "execution_count": 51,
   "id": "e60863f3-b43f-4103-96c4-cf5cfb690c69",
   "metadata": {},
   "outputs": [
    {
     "data": {
      "text/plain": [
       "3"
      ]
     },
     "execution_count": 51,
     "metadata": {},
     "output_type": "execute_result"
    }
   ],
   "source": [
    "len(d)"
   ]
  },
  {
   "cell_type": "code",
   "execution_count": 52,
   "id": "3c70f079-3b85-41fd-886e-59011b24cb8e",
   "metadata": {},
   "outputs": [
    {
     "data": {
      "text/plain": [
       "dict_keys(['name', 'age', 'education'])"
      ]
     },
     "execution_count": 52,
     "metadata": {},
     "output_type": "execute_result"
    }
   ],
   "source": [
    "d.keys()"
   ]
  },
  {
   "cell_type": "code",
   "execution_count": 9,
   "id": "8bcf63a1-1cda-4c5b-9f39-f81dbe3db301",
   "metadata": {},
   "outputs": [
    {
     "data": {
      "text/plain": [
       "dict_values(['gurleen', 24, 'B.tech'])"
      ]
     },
     "execution_count": 9,
     "metadata": {},
     "output_type": "execute_result"
    }
   ],
   "source": [
    "d.values()"
   ]
  },
  {
   "cell_type": "code",
   "execution_count": 11,
   "id": "49b71412-c92c-47d6-9c74-ac83220b9e16",
   "metadata": {},
   "outputs": [
    {
     "data": {
      "text/plain": [
       "'gurleen'"
      ]
     },
     "execution_count": 11,
     "metadata": {},
     "output_type": "execute_result"
    }
   ],
   "source": [
    "d['name']"
   ]
  },
  {
   "cell_type": "code",
   "execution_count": 15,
   "id": "e32c743f-55db-42f8-a0e0-084a08f131db",
   "metadata": {},
   "outputs": [
    {
     "data": {
      "text/plain": [
       "'B.tech'"
      ]
     },
     "execution_count": 15,
     "metadata": {},
     "output_type": "execute_result"
    }
   ],
   "source": [
    "d['education']"
   ]
  },
  {
   "cell_type": "code",
   "execution_count": 23,
   "id": "a0d0651c-2e11-4b6f-9538-04be109229b6",
   "metadata": {},
   "outputs": [],
   "source": [
    "di = {\"name\": \"gurleen\", \"age\":17, \"education\":\"PCM\"}"
   ]
  },
  {
   "cell_type": "code",
   "execution_count": 24,
   "id": "7bd48b61-cdd3-4e25-b8cc-6ca20434b7f8",
   "metadata": {},
   "outputs": [
    {
     "data": {
      "text/plain": [
       "{'name': 'gurleen', 'age': 17, 'education': 'PCM'}"
      ]
     },
     "execution_count": 24,
     "metadata": {},
     "output_type": "execute_result"
    }
   ],
   "source": [
    "di"
   ]
  },
  {
   "cell_type": "code",
   "execution_count": 25,
   "id": "02693d16-8749-4e16-b5bd-a74c2ee7c528",
   "metadata": {},
   "outputs": [
    {
     "data": {
      "text/plain": [
       "3"
      ]
     },
     "execution_count": 25,
     "metadata": {},
     "output_type": "execute_result"
    }
   ],
   "source": [
    "len(di)"
   ]
  },
  {
   "cell_type": "code",
   "execution_count": 26,
   "id": "c10811d3-0f88-44c0-b295-533a067a2473",
   "metadata": {},
   "outputs": [
    {
     "data": {
      "text/plain": [
       "'gurleen'"
      ]
     },
     "execution_count": 26,
     "metadata": {},
     "output_type": "execute_result"
    }
   ],
   "source": [
    "di['name']"
   ]
  },
  {
   "cell_type": "code",
   "execution_count": 27,
   "id": "eefd3a0c-fd3a-4361-b2f5-050374aa0f32",
   "metadata": {},
   "outputs": [
    {
     "data": {
      "text/plain": [
       "17"
      ]
     },
     "execution_count": 27,
     "metadata": {},
     "output_type": "execute_result"
    }
   ],
   "source": [
    "di['age']"
   ]
  },
  {
   "cell_type": "code",
   "execution_count": 28,
   "id": "ac8c5ee3-42eb-4877-84d2-db4345d6419a",
   "metadata": {},
   "outputs": [
    {
     "data": {
      "text/plain": [
       "'PCM'"
      ]
     },
     "execution_count": 28,
     "metadata": {},
     "output_type": "execute_result"
    }
   ],
   "source": [
    "di['education']"
   ]
  },
  {
   "cell_type": "code",
   "execution_count": 31,
   "id": "fb97356e-6769-4848-aa13-7685d784dbb2",
   "metadata": {},
   "outputs": [],
   "source": [
    "di[\"position\"] =\"1\""
   ]
  },
  {
   "cell_type": "code",
   "execution_count": 32,
   "id": "94c86300-5863-476e-98d1-4630e1623a46",
   "metadata": {},
   "outputs": [
    {
     "data": {
      "text/plain": [
       "{'name': 'gurleen', 'age': 17, 'education': 'PCM', 'position': '1'}"
      ]
     },
     "execution_count": 32,
     "metadata": {},
     "output_type": "execute_result"
    }
   ],
   "source": [
    "di"
   ]
  },
  {
   "cell_type": "code",
   "execution_count": 33,
   "id": "ce543f15-aadc-41db-83ef-3c79e519d292",
   "metadata": {},
   "outputs": [],
   "source": [
    "# keys can only have string or int"
   ]
  },
  {
   "cell_type": "code",
   "execution_count": 34,
   "id": "37f10ca1-d1c7-4552-95bd-a41e372e9722",
   "metadata": {},
   "outputs": [
    {
     "data": {
      "text/plain": [
       "{1: 'Gurleen', 2: 'Priya', 3: 'Riya'}"
      ]
     },
     "execution_count": 34,
     "metadata": {},
     "output_type": "execute_result"
    }
   ],
   "source": [
    "{1: 'Gurleen',2: 'Priya',3:'Riya'}"
   ]
  },
  {
   "cell_type": "code",
   "execution_count": 36,
   "id": "b27b5654-e546-4d37-88eb-d7cdadb17707",
   "metadata": {},
   "outputs": [],
   "source": [
    "di = {1:{\"name\":\"Gurleen\",\"age\":17,\"education\":\"PCM\"},2:{\"name\":\"abhi\",\"age\":20},3:{\"name\":\"akash\",\"age\":20,\"dogs\":[\"firstdog\",\"seconddog\",\"thirddog\"]}}"
   ]
  },
  {
   "cell_type": "code",
   "execution_count": 37,
   "id": "9b4c3626-ce60-4209-92e2-438651ff2c56",
   "metadata": {},
   "outputs": [
    {
     "data": {
      "text/plain": [
       "{1: {'name': 'Gurleen', 'age': 17, 'education': 'PCM'},\n",
       " 2: {'name': 'abhi', 'age': 20},\n",
       " 3: {'name': 'akash',\n",
       "  'age': 20,\n",
       "  'dogs': ['firstdog', 'seconddog', 'thirddog']}}"
      ]
     },
     "execution_count": 37,
     "metadata": {},
     "output_type": "execute_result"
    }
   ],
   "source": [
    "di"
   ]
  },
  {
   "cell_type": "code",
   "execution_count": 43,
   "id": "54504a5c-0d40-4066-8385-b3808de0c8e7",
   "metadata": {},
   "outputs": [
    {
     "data": {
      "text/plain": [
       "dict"
      ]
     },
     "execution_count": 43,
     "metadata": {},
     "output_type": "execute_result"
    }
   ],
   "source": [
    "type(di)"
   ]
  },
  {
   "cell_type": "code",
   "execution_count": 44,
   "id": "c91627b7-5b8e-4d98-846d-5948b7ac1779",
   "metadata": {},
   "outputs": [
    {
     "data": {
      "text/plain": [
       "{'name': 'gurleen', 'age': 24, 'education': 'B.tech'}"
      ]
     },
     "execution_count": 44,
     "metadata": {},
     "output_type": "execute_result"
    }
   ],
   "source": [
    "d"
   ]
  },
  {
   "cell_type": "code",
   "execution_count": 45,
   "id": "2a02c781-6736-4833-b7da-1d9a58ee13f2",
   "metadata": {},
   "outputs": [],
   "source": [
    "d[\"name\"]=\"riya\""
   ]
  },
  {
   "cell_type": "code",
   "execution_count": 53,
   "id": "a27b669c-0414-4de7-85dc-86440d904972",
   "metadata": {},
   "outputs": [
    {
     "data": {
      "text/plain": [
       "{'name': 'gurleen', 'age': 24, 'education': 'B.tech'}"
      ]
     },
     "execution_count": 53,
     "metadata": {},
     "output_type": "execute_result"
    }
   ],
   "source": [
    "d"
   ]
  },
  {
   "cell_type": "code",
   "execution_count": 69,
   "id": "3b00d6ed-4713-4607-84e9-f0753a65cac0",
   "metadata": {},
   "outputs": [
    {
     "data": {
      "text/plain": [
       "'third'"
      ]
     },
     "execution_count": 69,
     "metadata": {},
     "output_type": "execute_result"
    }
   ],
   "source": [
    "di[3]['dogs'][2][0:5]"
   ]
  },
  {
   "cell_type": "code",
   "execution_count": 74,
   "id": "da97b97e-ecd7-4c68-ba1c-fee4ad0796a1",
   "metadata": {},
   "outputs": [
    {
     "data": {
      "text/plain": [
       "[(1, {'name': 'Gurleen', 'age': 17, 'education': 'PCM'}),\n",
       " (2, {'name': 'abhi', 'age': 20}),\n",
       " (3,\n",
       "  {'name': 'akash', 'age': 20, 'dogs': ['firstdog', 'seconddog', 'thirddog']})]"
      ]
     },
     "execution_count": 74,
     "metadata": {},
     "output_type": "execute_result"
    }
   ],
   "source": [
    "list(di.items())"
   ]
  },
  {
   "cell_type": "code",
   "execution_count": 76,
   "id": "fc3ce4d2-2bcf-42ca-bcba-4c9f8eeb19fd",
   "metadata": {},
   "outputs": [
    {
     "data": {
      "text/plain": [
       "['name', 'age', 'education']"
      ]
     },
     "execution_count": 76,
     "metadata": {},
     "output_type": "execute_result"
    }
   ],
   "source": [
    "list(d.keys())"
   ]
  },
  {
   "cell_type": "code",
   "execution_count": 77,
   "id": "97a6268b-8b86-4f41-915f-446349d36401",
   "metadata": {},
   "outputs": [
    {
     "data": {
      "text/plain": [
       "{'name': 'gurleen', 'age': 24, 'education': 'B.tech'}"
      ]
     },
     "execution_count": 77,
     "metadata": {},
     "output_type": "execute_result"
    }
   ],
   "source": [
    "d"
   ]
  },
  {
   "cell_type": "code",
   "execution_count": 79,
   "id": "b7bcc63b-d3ac-4db1-864c-7d26f53d950c",
   "metadata": {},
   "outputs": [],
   "source": [
    "a ={\"name\":\"gurleen\"}"
   ]
  },
  {
   "cell_type": "code",
   "execution_count": 80,
   "id": "328112f8-ac8f-4a2e-8377-c979e9c25320",
   "metadata": {},
   "outputs": [
    {
     "data": {
      "text/plain": [
       "{'name': 'gurleen'}"
      ]
     },
     "execution_count": 80,
     "metadata": {},
     "output_type": "execute_result"
    }
   ],
   "source": [
    "a"
   ]
  },
  {
   "cell_type": "code",
   "execution_count": 81,
   "id": "7ea6be6f-8761-4c26-ab1e-f0b6db42490a",
   "metadata": {},
   "outputs": [],
   "source": [
    "a['age'] = 17"
   ]
  },
  {
   "cell_type": "code",
   "execution_count": 82,
   "id": "cc486d0d-48bc-48b1-ac61-ec6e81d837c7",
   "metadata": {},
   "outputs": [
    {
     "data": {
      "text/plain": [
       "{'name': 'gurleen', 'age': 17}"
      ]
     },
     "execution_count": 82,
     "metadata": {},
     "output_type": "execute_result"
    }
   ],
   "source": [
    "a"
   ]
  },
  {
   "cell_type": "code",
   "execution_count": 84,
   "id": "30dd737e-0ffa-44d7-8380-2976845e841a",
   "metadata": {},
   "outputs": [],
   "source": [
    "a['education']=\"PCM\""
   ]
  },
  {
   "cell_type": "code",
   "execution_count": 85,
   "id": "04c59541-df20-43ee-8c32-3c60b9cad465",
   "metadata": {},
   "outputs": [
    {
     "data": {
      "text/plain": [
       "{'name': 'gurleen', 'age': 17, 'education': 'PCM'}"
      ]
     },
     "execution_count": 85,
     "metadata": {},
     "output_type": "execute_result"
    }
   ],
   "source": [
    "a"
   ]
  },
  {
   "cell_type": "code",
   "execution_count": 88,
   "id": "9d7cdcfa-89d5-40d1-8441-fa4f1f173f58",
   "metadata": {},
   "outputs": [],
   "source": [
    "a['dogs']=[\"snappy\",\"staffy\",\"keo\"]"
   ]
  },
  {
   "cell_type": "code",
   "execution_count": 90,
   "id": "84c5f251-4a25-44e4-ba9f-29c6aa305f8c",
   "metadata": {},
   "outputs": [
    {
     "data": {
      "text/plain": [
       "{'name': 'gurleen',\n",
       " 'age': 17,\n",
       " 'education': 'PCM',\n",
       " 'dogs': ['snappy', 'staffy', 'keo']}"
      ]
     },
     "execution_count": 90,
     "metadata": {},
     "output_type": "execute_result"
    }
   ],
   "source": [
    "a"
   ]
  },
  {
   "cell_type": "code",
   "execution_count": null,
   "id": "232b2996-5912-4215-b462-c94784245a89",
   "metadata": {},
   "outputs": [],
   "source": []
  }
 ],
 "metadata": {
  "kernelspec": {
   "display_name": "Python 3 (ipykernel)",
   "language": "python",
   "name": "python3"
  },
  "language_info": {
   "codemirror_mode": {
    "name": "ipython",
    "version": 3
   },
   "file_extension": ".py",
   "mimetype": "text/x-python",
   "name": "python",
   "nbconvert_exporter": "python",
   "pygments_lexer": "ipython3",
   "version": "3.13.5"
  }
 },
 "nbformat": 4,
 "nbformat_minor": 5
}
