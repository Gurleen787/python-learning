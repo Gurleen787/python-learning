{
 "cells": [
  {
   "cell_type": "markdown",
   "id": "444c052d-16c4-4698-b5a4-9ed8c53e9999",
   "metadata": {},
   "source": [
    "# booleans\n"
   ]
  },
  {
   "cell_type": "code",
   "execution_count": 1,
   "id": "c64cfe5f-f392-4fbd-87a3-3e816a388139",
   "metadata": {},
   "outputs": [
    {
     "data": {
      "text/plain": [
       "1"
      ]
     },
     "execution_count": 1,
     "metadata": {},
     "output_type": "execute_result"
    }
   ],
   "source": [
    "0 or 1"
   ]
  },
  {
   "cell_type": "code",
   "execution_count": 2,
   "id": "30e92a13-daec-4895-aca6-64d66b3380e7",
   "metadata": {},
   "outputs": [
    {
     "data": {
      "text/plain": [
       "True"
      ]
     },
     "execution_count": 2,
     "metadata": {},
     "output_type": "execute_result"
    }
   ],
   "source": [
    "bool(5)"
   ]
  },
  {
   "cell_type": "code",
   "execution_count": 3,
   "id": "1e1a036b-5b0e-4e2c-8e3b-fdf9fad34a41",
   "metadata": {},
   "outputs": [
    {
     "data": {
      "text/plain": [
       "True"
      ]
     },
     "execution_count": 3,
     "metadata": {},
     "output_type": "execute_result"
    }
   ],
   "source": [
    "bool(-8)"
   ]
  },
  {
   "cell_type": "code",
   "execution_count": 7,
   "id": "983f9985-6cf7-45ec-a1a0-c8d3305eca2c",
   "metadata": {},
   "outputs": [
    {
     "data": {
      "text/plain": [
       "False"
      ]
     },
     "execution_count": 7,
     "metadata": {},
     "output_type": "execute_result"
    }
   ],
   "source": [
    "bool(0)"
   ]
  },
  {
   "cell_type": "code",
   "execution_count": 8,
   "id": "d832d22a-32dd-4e8f-9cc5-33e72afd2a52",
   "metadata": {},
   "outputs": [
    {
     "data": {
      "text/plain": [
       "bool"
      ]
     },
     "execution_count": 8,
     "metadata": {},
     "output_type": "execute_result"
    }
   ],
   "source": [
    "type(True)"
   ]
  },
  {
   "cell_type": "code",
   "execution_count": 9,
   "id": "48197f39-6061-46c7-b839-29cacbc78735",
   "metadata": {},
   "outputs": [
    {
     "data": {
      "text/plain": [
       "bool"
      ]
     },
     "execution_count": 9,
     "metadata": {},
     "output_type": "execute_result"
    }
   ],
   "source": [
    "type(False)"
   ]
  },
  {
   "cell_type": "code",
   "execution_count": 10,
   "id": "d173fe0d-870e-464f-9d5e-f75805b974a0",
   "metadata": {},
   "outputs": [
    {
     "data": {
      "text/plain": [
       "True"
      ]
     },
     "execution_count": 10,
     "metadata": {},
     "output_type": "execute_result"
    }
   ],
   "source": [
    "bool(\" \")"
   ]
  },
  {
   "cell_type": "code",
   "execution_count": 11,
   "id": "80522e9a-4e47-4b16-a626-359fe3f8f728",
   "metadata": {},
   "outputs": [
    {
     "data": {
      "text/plain": [
       "False"
      ]
     },
     "execution_count": 11,
     "metadata": {},
     "output_type": "execute_result"
    }
   ],
   "source": [
    "bool(\"\")"
   ]
  },
  {
   "cell_type": "code",
   "execution_count": 12,
   "id": "b1820d69-8041-4161-8ece-22cf6542efe3",
   "metadata": {},
   "outputs": [
    {
     "data": {
      "text/plain": [
       "False"
      ]
     },
     "execution_count": 12,
     "metadata": {},
     "output_type": "execute_result"
    }
   ],
   "source": [
    "bool([])"
   ]
  },
  {
   "cell_type": "code",
   "execution_count": 13,
   "id": "d10ca55b-afc7-49d6-8406-6435e46df4ad",
   "metadata": {},
   "outputs": [
    {
     "data": {
      "text/plain": [
       "True"
      ]
     },
     "execution_count": 13,
     "metadata": {},
     "output_type": "execute_result"
    }
   ],
   "source": [
    "bool([5])"
   ]
  },
  {
   "cell_type": "code",
   "execution_count": 14,
   "id": "37364a75-8b98-4ca6-991e-fe18a2f3b22c",
   "metadata": {},
   "outputs": [
    {
     "data": {
      "text/plain": [
       "False"
      ]
     },
     "execution_count": 14,
     "metadata": {},
     "output_type": "execute_result"
    }
   ],
   "source": [
    "bool(())"
   ]
  },
  {
   "cell_type": "code",
   "execution_count": 15,
   "id": "917365c1-0bd0-4aba-9101-98035286b8f0",
   "metadata": {},
   "outputs": [
    {
     "data": {
      "text/plain": [
       "True"
      ]
     },
     "execution_count": 15,
     "metadata": {},
     "output_type": "execute_result"
    }
   ],
   "source": [
    "bool((5))"
   ]
  },
  {
   "cell_type": "code",
   "execution_count": 16,
   "id": "1f616ae5-4f93-46d3-89be-9a11b2030321",
   "metadata": {},
   "outputs": [
    {
     "data": {
      "text/plain": [
       "False"
      ]
     },
     "execution_count": 16,
     "metadata": {},
     "output_type": "execute_result"
    }
   ],
   "source": [
    "bool({})"
   ]
  },
  {
   "cell_type": "markdown",
   "id": "86dd16a0-bb76-4f59-8edc-188121a4b8c6",
   "metadata": {},
   "source": [
    "# comparison operators"
   ]
  },
  {
   "cell_type": "code",
   "execution_count": 27,
   "id": "6cda9271-d63c-4499-a189-bb4b5f276c72",
   "metadata": {},
   "outputs": [
    {
     "data": {
      "text/plain": [
       "True"
      ]
     },
     "execution_count": 27,
     "metadata": {},
     "output_type": "execute_result"
    }
   ],
   "source": [
    "10 > 5"
   ]
  },
  {
   "cell_type": "code",
   "execution_count": 29,
   "id": "cd50fbc5-94a4-4165-926c-5927c23e4782",
   "metadata": {},
   "outputs": [
    {
     "data": {
      "text/plain": [
       "False"
      ]
     },
     "execution_count": 29,
     "metadata": {},
     "output_type": "execute_result"
    }
   ],
   "source": [
    "5 > 5"
   ]
  },
  {
   "cell_type": "code",
   "execution_count": 32,
   "id": "d571d9d4-daa8-4827-a048-0bbb8a97a15a",
   "metadata": {},
   "outputs": [
    {
     "data": {
      "text/plain": [
       "True"
      ]
     },
     "execution_count": 32,
     "metadata": {},
     "output_type": "execute_result"
    }
   ],
   "source": [
    "5 == 5"
   ]
  },
  {
   "cell_type": "code",
   "execution_count": 35,
   "id": "4f404cd3-95a5-4508-9656-f480093b9f5e",
   "metadata": {},
   "outputs": [],
   "source": [
    "age = 17"
   ]
  },
  {
   "cell_type": "code",
   "execution_count": 36,
   "id": "81ddb95f-d4eb-468b-a63e-04a4c58e7943",
   "metadata": {},
   "outputs": [
    {
     "data": {
      "text/plain": [
       "False"
      ]
     },
     "execution_count": 36,
     "metadata": {},
     "output_type": "execute_result"
    }
   ],
   "source": [
    "age >=18"
   ]
  },
  {
   "cell_type": "code",
   "execution_count": 37,
   "id": "97e6b33e-02bb-4480-ac9b-71fdddf95ac1",
   "metadata": {},
   "outputs": [
    {
     "data": {
      "text/plain": [
       "False"
      ]
     },
     "execution_count": 37,
     "metadata": {},
     "output_type": "execute_result"
    }
   ],
   "source": [
    "age !=17"
   ]
  },
  {
   "cell_type": "code",
   "execution_count": null,
   "id": "c987eb02-2c0f-4e7b-ac2b-98d846494df1",
   "metadata": {},
   "outputs": [],
   "source": []
  },
  {
   "cell_type": "markdown",
   "id": "a30acb2c-d1a5-41ed-ac5e-5a489fd7ffd2",
   "metadata": {},
   "source": [
    "# if elif else"
   ]
  },
  {
   "cell_type": "code",
   "execution_count": 24,
   "id": "e201dd93-2490-4c49-a01c-3b2bfa4cb8d3",
   "metadata": {},
   "outputs": [],
   "source": [
    "age = 20"
   ]
  },
  {
   "cell_type": "code",
   "execution_count": 25,
   "id": "8fa71f3b-6224-48a6-8137-8190449b56b8",
   "metadata": {},
   "outputs": [
    {
     "name": "stdout",
     "output_type": "stream",
     "text": [
      "welcome\n"
     ]
    }
   ],
   "source": [
    "if age > 18:\n",
    "    print(\"welcome\")"
   ]
  },
  {
   "cell_type": "code",
   "execution_count": 40,
   "id": "a8c6cfc4-c6bc-4f4a-a732-50c86a4a8acd",
   "metadata": {},
   "outputs": [],
   "source": [
    "marks = 35"
   ]
  },
  {
   "cell_type": "code",
   "execution_count": 41,
   "id": "880bfe49-22e8-471f-a5b4-91355446fe68",
   "metadata": {},
   "outputs": [
    {
     "name": "stdout",
     "output_type": "stream",
     "text": [
      "Fail\n"
     ]
    }
   ],
   "source": [
    "if marks >=90:\n",
    "    print(\"A\")\n",
    "elif marks >= 75:\n",
    "    print(\"B\")\n",
    "elif marks >= 60:\n",
    "    print(\"C\")\n",
    "elif marks >= 40:\n",
    "    print(\"D\")\n",
    "else:\n",
    "    print(\"Fail\")\n"
   ]
  },
  {
   "cell_type": "markdown",
   "id": "edbadff6-d03d-474e-9974-b34dd8f39bb2",
   "metadata": {},
   "source": [
    "# Nested if else\n"
   ]
  },
  {
   "cell_type": "code",
   "execution_count": 1,
   "id": "8b50c0c1-f17d-4f46-80e9-e1d25508dc27",
   "metadata": {},
   "outputs": [],
   "source": [
    "#2,3,5\n"
   ]
  },
  {
   "cell_type": "code",
   "execution_count": 2,
   "id": "28543e31-bf5c-41ac-89d0-b12afcf4de13",
   "metadata": {},
   "outputs": [],
   "source": [
    "# positive number or negative"
   ]
  },
  {
   "cell_type": "code",
   "execution_count": 7,
   "id": "7926d401-9f92-471d-979a-84797b0b95da",
   "metadata": {},
   "outputs": [],
   "source": [
    "n = 0"
   ]
  },
  {
   "cell_type": "code",
   "execution_count": 8,
   "id": "878b522c-6cb9-4c4a-9776-64b701caadbd",
   "metadata": {},
   "outputs": [
    {
     "name": "stdout",
     "output_type": "stream",
     "text": [
      "zero\n"
     ]
    }
   ],
   "source": [
    "if n > 0:\n",
    "    print(\"positive\") \n",
    "elif n <  0:\n",
    "    print(\"negative\")\n",
    "else:\n",
    "    print(\"zero\")"
   ]
  },
  {
   "cell_type": "code",
   "execution_count": 9,
   "id": "acff4a6e-fa7e-4de9-9dbe-d2ee4639ab5c",
   "metadata": {},
   "outputs": [
    {
     "name": "stdout",
     "output_type": "stream",
     "text": [
      "hello\n",
      "hi\n"
     ]
    }
   ],
   "source": [
    "n =10\n",
    "m =15\n",
    "if m > n:\n",
    "    print(\"hello\")\n",
    "    print(\"hi\")"
   ]
  },
  {
   "cell_type": "code",
   "execution_count": 10,
   "id": "ccb5b156-ccf1-4ece-a259-e610aa6a3113",
   "metadata": {},
   "outputs": [
    {
     "name": "stdout",
     "output_type": "stream",
     "text": [
      "hi\n"
     ]
    }
   ],
   "source": [
    "n =10\n",
    "m =5\n",
    "if m > n:\n",
    "    print(\"hello\")\n",
    "print(\"hi\")"
   ]
  },
  {
   "cell_type": "code",
   "execution_count": 11,
   "id": "7945c054-866f-4a52-afd2-bacf31f3b731",
   "metadata": {},
   "outputs": [
    {
     "name": "stdout",
     "output_type": "stream",
     "text": [
      "bye\n",
      "hi\n"
     ]
    }
   ],
   "source": [
    "n =10\n",
    "m =5\n",
    "if m > n:\n",
    "    print(\"hello\")\n",
    "else:\n",
    "    print(\"bye\")\n",
    "print(\"hi\")"
   ]
  },
  {
   "cell_type": "code",
   "execution_count": 28,
   "id": "733556bb-a89c-42b2-a90b-40e4983ae282",
   "metadata": {},
   "outputs": [
    {
     "name": "stdout",
     "output_type": "stream",
     "text": [
      "hi\n",
      "hello\n"
     ]
    }
   ],
   "source": [
    "m = 10\n",
    "n = 20\n",
    "o = 30\n",
    "if o > n:\n",
    "    print(\"hi\")\n",
    "if o > m:\n",
    "     print(\"hello\")"
   ]
  },
  {
   "cell_type": "code",
   "execution_count": 29,
   "id": "9601fe21-86d1-4d20-a822-e4c62d44f851",
   "metadata": {},
   "outputs": [
    {
     "name": "stdout",
     "output_type": "stream",
     "text": [
      "divison\n"
     ]
    }
   ],
   "source": [
    "if 25 % 5 ==0:\n",
    "    print(\"divison\")"
   ]
  },
  {
   "cell_type": "code",
   "execution_count": 31,
   "id": "3cb2feee-8d7d-4669-956b-173e0b75b78f",
   "metadata": {},
   "outputs": [
    {
     "data": {
      "text/plain": [
       "True"
      ]
     },
     "execution_count": 31,
     "metadata": {},
     "output_type": "execute_result"
    }
   ],
   "source": [
    "22 % 2 ==0\n"
   ]
  },
  {
   "cell_type": "code",
   "execution_count": 33,
   "id": "7d04677c-d14e-4c0b-b1c5-c88a3495a308",
   "metadata": {},
   "outputs": [
    {
     "name": "stdout",
     "output_type": "stream",
     "text": [
      "odd\n"
     ]
    }
   ],
   "source": [
    "n = 21\n",
    "if n % 2 ==0:\n",
    "    print(\"even\")\n",
    "else:\n",
    "    print(\"odd\")"
   ]
  },
  {
   "cell_type": "code",
   "execution_count": 37,
   "id": "40a7aee7-7c25-461f-b43d-9f78b56714c6",
   "metadata": {},
   "outputs": [],
   "source": [
    "n =21"
   ]
  },
  {
   "cell_type": "code",
   "execution_count": 38,
   "id": "3ed71d50-1643-4fcf-b397-45def50b1cea",
   "metadata": {},
   "outputs": [
    {
     "name": "stdout",
     "output_type": "stream",
     "text": [
      "not divisible by 2\n"
     ]
    }
   ],
   "source": [
    "if n % 2 ==0:\n",
    "    \n",
    "    print(\"divisible by 2\")\n",
    "else:\n",
    "    print(\"not divisible by 2\")"
   ]
  },
  {
   "cell_type": "code",
   "execution_count": 42,
   "id": "4aaa0b3b-a0e3-4dff-a1d8-8fbf27cbbef3",
   "metadata": {
    "scrolled": true
   },
   "outputs": [
    {
     "ename": "IndentationError",
     "evalue": "expected an indented block after 'if' statement on line 1 (1045144265.py, line 3)",
     "output_type": "error",
     "traceback": [
      "\u001b[1;36m  Cell \u001b[1;32mIn[42], line 3\u001b[1;36m\u001b[0m\n\u001b[1;33m    if n % 3 ==0:\u001b[0m\n\u001b[1;37m    ^\u001b[0m\n\u001b[1;31mIndentationError\u001b[0m\u001b[1;31m:\u001b[0m expected an indented block after 'if' statement on line 1\n"
     ]
    }
   ],
   "source": [
    "if n % 2 ==0:\n",
    "    #divisible by 2\n",
    "if n % 3 ==0:\n",
    "    #divisible by 3\n",
    "    print(\"divisible by 2 and 3\")\n",
    "else:\n",
    "    print(\"divisible by 2 not 3\")\n",
    "elif n % 3==0:\n",
    "    print(\"divisible by 3 but not 2\")\n",
    "else:\n",
    "    print(\"divisible by 2 and 3\")\n",
    "\n",
    "\n",
    "\n"
   ]
  },
  {
   "cell_type": "code",
   "execution_count": null,
   "id": "1ef06da1-2354-471b-badc-89f34bddd3a2",
   "metadata": {},
   "outputs": [],
   "source": []
  },
  {
   "cell_type": "code",
   "execution_count": null,
   "id": "b5462a28-b686-4ec9-97a0-ee124f458107",
   "metadata": {},
   "outputs": [],
   "source": []
  },
  {
   "cell_type": "code",
   "execution_count": null,
   "id": "79e7dcfa-bfc6-432f-ac32-600a57cfec86",
   "metadata": {},
   "outputs": [],
   "source": []
  },
  {
   "cell_type": "code",
   "execution_count": null,
   "id": "50e55a03-df67-44cf-b2e2-a8f31559af8b",
   "metadata": {},
   "outputs": [],
   "source": []
  },
  {
   "cell_type": "code",
   "execution_count": null,
   "id": "8e8f95f0-bf0e-4b13-a4dc-d0560afb6b30",
   "metadata": {},
   "outputs": [],
   "source": []
  },
  {
   "cell_type": "code",
   "execution_count": null,
   "id": "eac229ec-b6b4-4e63-8b7d-1bb645fd3ca4",
   "metadata": {},
   "outputs": [],
   "source": []
  },
  {
   "cell_type": "code",
   "execution_count": 43,
   "id": "897d489b-5128-486a-a9ab-8ba6bedfc008",
   "metadata": {},
   "outputs": [],
   "source": [
    "n =5 "
   ]
  },
  {
   "cell_type": "code",
   "execution_count": 57,
   "id": "032fbadf-b383-426a-a029-37a1390da22a",
   "metadata": {},
   "outputs": [
    {
     "ename": "IndentationError",
     "evalue": "unindent does not match any outer indentation level (<string>, line 4)",
     "output_type": "error",
     "traceback": [
      "\u001b[1;36m  File \u001b[1;32m<string>:4\u001b[1;36m\u001b[0m\n\u001b[1;33m    else:\u001b[0m\n\u001b[1;37m         ^\u001b[0m\n\u001b[1;31mIndentationError\u001b[0m\u001b[1;31m:\u001b[0m unindent does not match any outer indentation level\n"
     ]
    }
   ],
   "source": [
    "if n % 2 == 0:\n",
    "   if n % 3 == 0:\n",
    "       print('divisible  y 2 and 3')\n",
    "    else:\n",
    "    print(\"divisible by 2 but not by 3\")\n",
    "   elif n % 3:\n",
    "    print(\"divisible by 3 but not by 2\")\n",
    "else:\n",
    "   print('not divisible by 2 and 3')\n",
    "    \n",
    "\n",
    "    "
   ]
  },
  {
   "cell_type": "code",
   "execution_count": 53,
   "id": "e9869a26-5765-4cfa-98f2-ecd77d4b1676",
   "metadata": {},
   "outputs": [],
   "source": [
    "n = 5"
   ]
  },
  {
   "cell_type": "code",
   "execution_count": 59,
   "id": "a6069f09-f7e1-4ca5-b9bf-d819bc17b20d",
   "metadata": {},
   "outputs": [
    {
     "name": "stdout",
     "output_type": "stream",
     "text": [
      "divisible by 5\n"
     ]
    }
   ],
   "source": [
    "if n % 2 == 0:\n",
    "    if n % 3 == 0:\n",
    "        if n % 5 == 0:\n",
    "            print('divisible by 2, 3, 5')\n",
    "        else:\n",
    "            print(\"divisible by 2 and 3 not 5\")\n",
    "    elif n % 5 == 0:\n",
    "        print(\"divisible by 2 and 5 not 3\")\n",
    "    else:\n",
    "        print('divisible by 2 not 3 and 5')\n",
    "\n",
    "elif n % 3 == 0:\n",
    "    if n % 5 == 0:\n",
    "        print('divisible by 3 and 5')\n",
    "    else:\n",
    "        print('divisible by 3')\n",
    "elif n % 5 == 0:\n",
    "    print(\"divisible by 5\")\n",
    "\n",
    "else:\n",
    "    print(\"not divisible by 2 or 3 or 5\")"
   ]
  },
  {
   "cell_type": "code",
   "execution_count": null,
   "id": "f38479f8-922c-479b-8d80-ebc8cb3a5c22",
   "metadata": {},
   "outputs": [],
   "source": []
  }
 ],
 "metadata": {
  "kernelspec": {
   "display_name": "Python 3 (ipykernel)",
   "language": "python",
   "name": "python3"
  },
  "language_info": {
   "codemirror_mode": {
    "name": "ipython",
    "version": 3
   },
   "file_extension": ".py",
   "mimetype": "text/x-python",
   "name": "python",
   "nbconvert_exporter": "python",
   "pygments_lexer": "ipython3",
   "version": "3.13.5"
  }
 },
 "nbformat": 4,
 "nbformat_minor": 5
}
